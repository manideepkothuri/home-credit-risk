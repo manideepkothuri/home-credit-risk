{
 "cells": [
  {
   "cell_type": "code",
   "execution_count": 1,
   "metadata": {},
   "outputs": [],
   "source": [
    "import pandas as pd \n",
    "import numpy as np \n",
    "import os\n",
    "import matplotlib.pyplot as plt \n",
    "import seaborn as sns\n",
    "import h2o"
   ]
  },
  {
   "cell_type": "code",
   "execution_count": 3,
   "metadata": {},
   "outputs": [
    {
     "name": "stdout",
     "output_type": "stream",
     "text": [
      "Checking whether there is an H2O instance running at http://localhost:54321. connected.\n",
      "Warning: Your H2O cluster version is too old (5 months and 19 days)! Please download and install the latest version from http://h2o.ai/download/\n"
     ]
    },
    {
     "data": {
      "text/html": [
       "<div style=\"overflow:auto\"><table style=\"width:50%\"><tr><td>H2O cluster uptime:</td>\n",
       "<td>15 secs</td></tr>\n",
       "<tr><td>H2O cluster timezone:</td>\n",
       "<td>Asia/Kolkata</td></tr>\n",
       "<tr><td>H2O data parsing timezone:</td>\n",
       "<td>UTC</td></tr>\n",
       "<tr><td>H2O cluster version:</td>\n",
       "<td>3.18.0.2</td></tr>\n",
       "<tr><td>H2O cluster version age:</td>\n",
       "<td>5 months and 19 days !!!</td></tr>\n",
       "<tr><td>H2O cluster name:</td>\n",
       "<td>H2O_from_python_Mounika_kothuri_opz0gl</td></tr>\n",
       "<tr><td>H2O cluster total nodes:</td>\n",
       "<td>1</td></tr>\n",
       "<tr><td>H2O cluster free memory:</td>\n",
       "<td>1.778 Gb</td></tr>\n",
       "<tr><td>H2O cluster total cores:</td>\n",
       "<td>4</td></tr>\n",
       "<tr><td>H2O cluster allowed cores:</td>\n",
       "<td>4</td></tr>\n",
       "<tr><td>H2O cluster status:</td>\n",
       "<td>locked, healthy</td></tr>\n",
       "<tr><td>H2O connection url:</td>\n",
       "<td>http://localhost:54321</td></tr>\n",
       "<tr><td>H2O connection proxy:</td>\n",
       "<td>None</td></tr>\n",
       "<tr><td>H2O internal security:</td>\n",
       "<td>False</td></tr>\n",
       "<tr><td>H2O API Extensions:</td>\n",
       "<td>Algos, AutoML, Core V3, Core V4</td></tr>\n",
       "<tr><td>Python version:</td>\n",
       "<td>3.6.4 final</td></tr></table></div>"
      ],
      "text/plain": [
       "--------------------------  --------------------------------------\n",
       "H2O cluster uptime:         15 secs\n",
       "H2O cluster timezone:       Asia/Kolkata\n",
       "H2O data parsing timezone:  UTC\n",
       "H2O cluster version:        3.18.0.2\n",
       "H2O cluster version age:    5 months and 19 days !!!\n",
       "H2O cluster name:           H2O_from_python_Mounika_kothuri_opz0gl\n",
       "H2O cluster total nodes:    1\n",
       "H2O cluster free memory:    1.778 Gb\n",
       "H2O cluster total cores:    4\n",
       "H2O cluster allowed cores:  4\n",
       "H2O cluster status:         locked, healthy\n",
       "H2O connection url:         http://localhost:54321\n",
       "H2O connection proxy:\n",
       "H2O internal security:      False\n",
       "H2O API Extensions:         Algos, AutoML, Core V3, Core V4\n",
       "Python version:             3.6.4 final\n",
       "--------------------------  --------------------------------------"
      ]
     },
     "metadata": {},
     "output_type": "display_data"
    }
   ],
   "source": [
    "h2o.init(nthreads=-1,max_mem_size=\"2G\")"
   ]
  },
  {
   "cell_type": "code",
   "execution_count": 4,
   "metadata": {},
   "outputs": [],
   "source": [
    "path='G:/projects/application_train.csv'"
   ]
  },
  {
   "cell_type": "code",
   "execution_count": 5,
   "metadata": {},
   "outputs": [
    {
     "name": "stdout",
     "output_type": "stream",
     "text": [
      "Parse progress: |█████████████████████████████████████████████████████████| 100%\n"
     ]
    }
   ],
   "source": [
    "data=h2o.import_file(path=path)"
   ]
  },
  {
   "cell_type": "code",
   "execution_count": 7,
   "metadata": {},
   "outputs": [
    {
     "data": {
      "text/plain": [
       "['SK_ID_CURR',\n",
       " 'TARGET',\n",
       " 'NAME_CONTRACT_TYPE',\n",
       " 'CODE_GENDER',\n",
       " 'FLAG_OWN_CAR',\n",
       " 'FLAG_OWN_REALTY',\n",
       " 'CNT_CHILDREN',\n",
       " 'AMT_INCOME_TOTAL',\n",
       " 'AMT_CREDIT',\n",
       " 'AMT_ANNUITY',\n",
       " 'AMT_GOODS_PRICE',\n",
       " 'NAME_TYPE_SUITE',\n",
       " 'NAME_INCOME_TYPE',\n",
       " 'NAME_EDUCATION_TYPE',\n",
       " 'NAME_FAMILY_STATUS',\n",
       " 'NAME_HOUSING_TYPE',\n",
       " 'REGION_POPULATION_RELATIVE',\n",
       " 'DAYS_BIRTH',\n",
       " 'DAYS_EMPLOYED',\n",
       " 'DAYS_REGISTRATION',\n",
       " 'DAYS_ID_PUBLISH',\n",
       " 'OWN_CAR_AGE',\n",
       " 'FLAG_MOBIL',\n",
       " 'FLAG_EMP_PHONE',\n",
       " 'FLAG_WORK_PHONE',\n",
       " 'FLAG_CONT_MOBILE',\n",
       " 'FLAG_PHONE',\n",
       " 'FLAG_EMAIL',\n",
       " 'OCCUPATION_TYPE',\n",
       " 'CNT_FAM_MEMBERS',\n",
       " 'REGION_RATING_CLIENT',\n",
       " 'REGION_RATING_CLIENT_W_CITY',\n",
       " 'WEEKDAY_APPR_PROCESS_START',\n",
       " 'HOUR_APPR_PROCESS_START',\n",
       " 'REG_REGION_NOT_LIVE_REGION',\n",
       " 'REG_REGION_NOT_WORK_REGION',\n",
       " 'LIVE_REGION_NOT_WORK_REGION',\n",
       " 'REG_CITY_NOT_LIVE_CITY',\n",
       " 'REG_CITY_NOT_WORK_CITY',\n",
       " 'LIVE_CITY_NOT_WORK_CITY',\n",
       " 'ORGANIZATION_TYPE',\n",
       " 'EXT_SOURCE_1',\n",
       " 'EXT_SOURCE_2',\n",
       " 'EXT_SOURCE_3',\n",
       " 'APARTMENTS_AVG',\n",
       " 'BASEMENTAREA_AVG',\n",
       " 'YEARS_BEGINEXPLUATATION_AVG',\n",
       " 'YEARS_BUILD_AVG',\n",
       " 'COMMONAREA_AVG',\n",
       " 'ELEVATORS_AVG',\n",
       " 'ENTRANCES_AVG',\n",
       " 'FLOORSMAX_AVG',\n",
       " 'FLOORSMIN_AVG',\n",
       " 'LANDAREA_AVG',\n",
       " 'LIVINGAPARTMENTS_AVG',\n",
       " 'LIVINGAREA_AVG',\n",
       " 'NONLIVINGAPARTMENTS_AVG',\n",
       " 'NONLIVINGAREA_AVG',\n",
       " 'APARTMENTS_MODE',\n",
       " 'BASEMENTAREA_MODE',\n",
       " 'YEARS_BEGINEXPLUATATION_MODE',\n",
       " 'YEARS_BUILD_MODE',\n",
       " 'COMMONAREA_MODE',\n",
       " 'ELEVATORS_MODE',\n",
       " 'ENTRANCES_MODE',\n",
       " 'FLOORSMAX_MODE',\n",
       " 'FLOORSMIN_MODE',\n",
       " 'LANDAREA_MODE',\n",
       " 'LIVINGAPARTMENTS_MODE',\n",
       " 'LIVINGAREA_MODE',\n",
       " 'NONLIVINGAPARTMENTS_MODE',\n",
       " 'NONLIVINGAREA_MODE',\n",
       " 'APARTMENTS_MEDI',\n",
       " 'BASEMENTAREA_MEDI',\n",
       " 'YEARS_BEGINEXPLUATATION_MEDI',\n",
       " 'YEARS_BUILD_MEDI',\n",
       " 'COMMONAREA_MEDI',\n",
       " 'ELEVATORS_MEDI',\n",
       " 'ENTRANCES_MEDI',\n",
       " 'FLOORSMAX_MEDI',\n",
       " 'FLOORSMIN_MEDI',\n",
       " 'LANDAREA_MEDI',\n",
       " 'LIVINGAPARTMENTS_MEDI',\n",
       " 'LIVINGAREA_MEDI',\n",
       " 'NONLIVINGAPARTMENTS_MEDI',\n",
       " 'NONLIVINGAREA_MEDI',\n",
       " 'FONDKAPREMONT_MODE',\n",
       " 'HOUSETYPE_MODE',\n",
       " 'TOTALAREA_MODE',\n",
       " 'WALLSMATERIAL_MODE',\n",
       " 'EMERGENCYSTATE_MODE',\n",
       " 'OBS_30_CNT_SOCIAL_CIRCLE',\n",
       " 'DEF_30_CNT_SOCIAL_CIRCLE',\n",
       " 'OBS_60_CNT_SOCIAL_CIRCLE',\n",
       " 'DEF_60_CNT_SOCIAL_CIRCLE',\n",
       " 'DAYS_LAST_PHONE_CHANGE',\n",
       " 'FLAG_DOCUMENT_2',\n",
       " 'FLAG_DOCUMENT_3',\n",
       " 'FLAG_DOCUMENT_4',\n",
       " 'FLAG_DOCUMENT_5',\n",
       " 'FLAG_DOCUMENT_6',\n",
       " 'FLAG_DOCUMENT_7',\n",
       " 'FLAG_DOCUMENT_8',\n",
       " 'FLAG_DOCUMENT_9',\n",
       " 'FLAG_DOCUMENT_10',\n",
       " 'FLAG_DOCUMENT_11',\n",
       " 'FLAG_DOCUMENT_12',\n",
       " 'FLAG_DOCUMENT_13',\n",
       " 'FLAG_DOCUMENT_14',\n",
       " 'FLAG_DOCUMENT_15',\n",
       " 'FLAG_DOCUMENT_16',\n",
       " 'FLAG_DOCUMENT_17',\n",
       " 'FLAG_DOCUMENT_18',\n",
       " 'FLAG_DOCUMENT_19',\n",
       " 'FLAG_DOCUMENT_20',\n",
       " 'FLAG_DOCUMENT_21',\n",
       " 'AMT_REQ_CREDIT_BUREAU_HOUR',\n",
       " 'AMT_REQ_CREDIT_BUREAU_DAY',\n",
       " 'AMT_REQ_CREDIT_BUREAU_WEEK',\n",
       " 'AMT_REQ_CREDIT_BUREAU_MON',\n",
       " 'AMT_REQ_CREDIT_BUREAU_QRT',\n",
       " 'AMT_REQ_CREDIT_BUREAU_YEAR']"
      ]
     },
     "execution_count": 7,
     "metadata": {},
     "output_type": "execute_result"
    }
   ],
   "source": [
    "data.col_names"
   ]
  },
  {
   "cell_type": "code",
   "execution_count": 8,
   "metadata": {},
   "outputs": [
    {
     "data": {
      "text/plain": [
       "(307511, 122)"
      ]
     },
     "execution_count": 8,
     "metadata": {},
     "output_type": "execute_result"
    }
   ],
   "source": [
    "data.shape"
   ]
  },
  {
   "cell_type": "code",
   "execution_count": 9,
   "metadata": {},
   "outputs": [
    {
     "name": "stdout",
     "output_type": "stream",
     "text": [
      "Rows:307511\n",
      "Cols:122\n",
      "\n",
      "\n"
     ]
    },
    {
     "data": {
      "text/html": [
       "<table>\n",
       "<thead>\n",
       "<tr><th>       </th><th>SK_ID_CURR        </th><th>TARGET             </th><th>NAME_CONTRACT_TYPE  </th><th>CODE_GENDER  </th><th>FLAG_OWN_CAR  </th><th>FLAG_OWN_REALTY  </th><th>CNT_CHILDREN      </th><th>AMT_INCOME_TOTAL  </th><th>AMT_CREDIT       </th><th>AMT_ANNUITY       </th><th>AMT_GOODS_PRICE   </th><th>NAME_TYPE_SUITE  </th><th>NAME_INCOME_TYPE    </th><th>NAME_EDUCATION_TYPE          </th><th>NAME_FAMILY_STATUS  </th><th>NAME_HOUSING_TYPE  </th><th>REGION_POPULATION_RELATIVE  </th><th>DAYS_BIRTH         </th><th>DAYS_EMPLOYED    </th><th>DAYS_REGISTRATION  </th><th>DAYS_ID_PUBLISH   </th><th>OWN_CAR_AGE       </th><th>FLAG_MOBIL          </th><th>FLAG_EMP_PHONE     </th><th>FLAG_WORK_PHONE   </th><th>FLAG_CONT_MOBILE   </th><th>FLAG_PHONE         </th><th>FLAG_EMAIL        </th><th>OCCUPATION_TYPE  </th><th>CNT_FAM_MEMBERS   </th><th>REGION_RATING_CLIENT  </th><th>REGION_RATING_CLIENT_W_CITY  </th><th>WEEKDAY_APPR_PROCESS_START  </th><th>HOUR_APPR_PROCESS_START  </th><th>REG_REGION_NOT_LIVE_REGION  </th><th>REG_REGION_NOT_WORK_REGION  </th><th>LIVE_REGION_NOT_WORK_REGION  </th><th>REG_CITY_NOT_LIVE_CITY  </th><th>REG_CITY_NOT_WORK_CITY  </th><th>LIVE_CITY_NOT_WORK_CITY  </th><th>ORGANIZATION_TYPE     </th><th>EXT_SOURCE_1        </th><th>EXT_SOURCE_2         </th><th>EXT_SOURCE_3         </th><th>APARTMENTS_AVG     </th><th>BASEMENTAREA_AVG   </th><th>YEARS_BEGINEXPLUATATION_AVG  </th><th>YEARS_BUILD_AVG   </th><th>COMMONAREA_AVG     </th><th>ELEVATORS_AVG      </th><th>ENTRANCES_AVG      </th><th>FLOORSMAX_AVG      </th><th>FLOORSMIN_AVG      </th><th>LANDAREA_AVG       </th><th>LIVINGAPARTMENTS_AVG  </th><th>LIVINGAREA_AVG     </th><th>NONLIVINGAPARTMENTS_AVG  </th><th>NONLIVINGAREA_AVG  </th><th>APARTMENTS_MODE    </th><th>BASEMENTAREA_MODE  </th><th>YEARS_BEGINEXPLUATATION_MODE  </th><th>YEARS_BUILD_MODE   </th><th>COMMONAREA_MODE     </th><th>ELEVATORS_MODE     </th><th>ENTRANCES_MODE     </th><th>FLOORSMAX_MODE     </th><th>FLOORSMIN_MODE     </th><th>LANDAREA_MODE      </th><th>LIVINGAPARTMENTS_MODE  </th><th>LIVINGAREA_MODE    </th><th>NONLIVINGAPARTMENTS_MODE  </th><th>NONLIVINGAREA_MODE  </th><th>APARTMENTS_MEDI    </th><th>BASEMENTAREA_MEDI  </th><th>YEARS_BEGINEXPLUATATION_MEDI  </th><th>YEARS_BUILD_MEDI   </th><th>COMMONAREA_MEDI    </th><th>ELEVATORS_MEDI     </th><th>ENTRANCES_MEDI     </th><th>FLOORSMAX_MEDI     </th><th>FLOORSMIN_MEDI    </th><th>LANDAREA_MEDI      </th><th>LIVINGAPARTMENTS_MEDI  </th><th>LIVINGAREA_MEDI    </th><th>NONLIVINGAPARTMENTS_MEDI  </th><th>NONLIVINGAREA_MEDI  </th><th>FONDKAPREMONT_MODE  </th><th>HOUSETYPE_MODE  </th><th>TOTALAREA_MODE     </th><th>WALLSMATERIAL_MODE  </th><th>EMERGENCYSTATE_MODE  </th><th>OBS_30_CNT_SOCIAL_CIRCLE  </th><th>DEF_30_CNT_SOCIAL_CIRCLE  </th><th>OBS_60_CNT_SOCIAL_CIRCLE  </th><th>DEF_60_CNT_SOCIAL_CIRCLE  </th><th>DAYS_LAST_PHONE_CHANGE  </th><th>FLAG_DOCUMENT_2       </th><th>FLAG_DOCUMENT_3   </th><th>FLAG_DOCUMENT_4      </th><th>FLAG_DOCUMENT_5     </th><th>FLAG_DOCUMENT_6   </th><th>FLAG_DOCUMENT_7       </th><th>FLAG_DOCUMENT_8    </th><th>FLAG_DOCUMENT_9    </th><th>FLAG_DOCUMENT_10     </th><th>FLAG_DOCUMENT_11    </th><th>FLAG_DOCUMENT_12     </th><th>FLAG_DOCUMENT_13    </th><th>FLAG_DOCUMENT_14     </th><th>FLAG_DOCUMENT_15     </th><th>FLAG_DOCUMENT_16    </th><th>FLAG_DOCUMENT_17     </th><th>FLAG_DOCUMENT_18    </th><th>FLAG_DOCUMENT_19     </th><th>FLAG_DOCUMENT_20     </th><th>FLAG_DOCUMENT_21     </th><th>AMT_REQ_CREDIT_BUREAU_HOUR  </th><th>AMT_REQ_CREDIT_BUREAU_DAY  </th><th>AMT_REQ_CREDIT_BUREAU_WEEK  </th><th>AMT_REQ_CREDIT_BUREAU_MON  </th><th>AMT_REQ_CREDIT_BUREAU_QRT  </th><th>AMT_REQ_CREDIT_BUREAU_YEAR  </th></tr>\n",
       "</thead>\n",
       "<tbody>\n",
       "<tr><td>type   </td><td>int               </td><td>int                </td><td>enum                </td><td>enum         </td><td>enum          </td><td>enum             </td><td>int               </td><td>real              </td><td>real             </td><td>real              </td><td>real              </td><td>enum             </td><td>enum                </td><td>enum                         </td><td>enum                </td><td>enum               </td><td>real                        </td><td>int                </td><td>int              </td><td>real               </td><td>int               </td><td>int               </td><td>int                 </td><td>int                </td><td>int               </td><td>int                </td><td>int                </td><td>int               </td><td>enum             </td><td>int               </td><td>int                   </td><td>int                          </td><td>enum                        </td><td>int                      </td><td>int                         </td><td>int                         </td><td>int                          </td><td>int                     </td><td>int                     </td><td>int                      </td><td>enum                  </td><td>real                </td><td>real                 </td><td>real                 </td><td>real               </td><td>real               </td><td>real                         </td><td>real              </td><td>real               </td><td>real               </td><td>real               </td><td>real               </td><td>real               </td><td>real               </td><td>real                  </td><td>real               </td><td>real                     </td><td>real               </td><td>real               </td><td>real               </td><td>real                          </td><td>real               </td><td>real                </td><td>real               </td><td>real               </td><td>real               </td><td>real               </td><td>real               </td><td>real                   </td><td>real               </td><td>real                      </td><td>real                </td><td>real               </td><td>real               </td><td>real                          </td><td>real               </td><td>real               </td><td>real               </td><td>real               </td><td>real               </td><td>real              </td><td>real               </td><td>real                   </td><td>real               </td><td>real                      </td><td>real                </td><td>enum                </td><td>enum            </td><td>real               </td><td>enum                </td><td>enum                 </td><td>int                       </td><td>int                       </td><td>int                       </td><td>int                       </td><td>int                     </td><td>int                   </td><td>int               </td><td>int                  </td><td>int                 </td><td>int               </td><td>int                   </td><td>int                </td><td>int                </td><td>int                  </td><td>int                 </td><td>int                  </td><td>int                 </td><td>int                  </td><td>int                  </td><td>int                 </td><td>int                  </td><td>int                 </td><td>int                  </td><td>int                  </td><td>int                  </td><td>int                         </td><td>int                        </td><td>int                         </td><td>int                        </td><td>int                        </td><td>int                         </td></tr>\n",
       "<tr><td>mins   </td><td>100002.0          </td><td>0.0                </td><td>                    </td><td>             </td><td>              </td><td>                 </td><td>0.0               </td><td>25650.0           </td><td>45000.0          </td><td>1615.5            </td><td>40500.0           </td><td>                 </td><td>                    </td><td>                             </td><td>                    </td><td>                   </td><td>0.00029                     </td><td>-25229.0           </td><td>-17912.0         </td><td>-24672.0           </td><td>-7197.0           </td><td>0.0               </td><td>0.0                 </td><td>0.0                </td><td>0.0               </td><td>0.0                </td><td>0.0                </td><td>0.0               </td><td>                 </td><td>1.0               </td><td>1.0                   </td><td>1.0                          </td><td>                            </td><td>0.0                      </td><td>0.0                         </td><td>0.0                         </td><td>0.0                          </td><td>0.0                     </td><td>0.0                     </td><td>0.0                      </td><td>                      </td><td>0.014568132412445587</td><td>8.173616518884396e-08</td><td>0.0005272652387098817</td><td>0.0                </td><td>0.0                </td><td>0.0                          </td><td>0.0               </td><td>0.0                </td><td>0.0                </td><td>0.0                </td><td>0.0                </td><td>0.0                </td><td>0.0                </td><td>0.0                   </td><td>0.0                </td><td>0.0                      </td><td>0.0                </td><td>0.0                </td><td>0.0                </td><td>0.0                           </td><td>0.0                </td><td>0.0                 </td><td>0.0                </td><td>0.0                </td><td>0.0                </td><td>0.0                </td><td>0.0                </td><td>0.0                    </td><td>0.0                </td><td>0.0                       </td><td>0.0                 </td><td>0.0                </td><td>0.0                </td><td>0.0                           </td><td>0.0                </td><td>0.0                </td><td>0.0                </td><td>0.0                </td><td>0.0                </td><td>0.0               </td><td>0.0                </td><td>0.0                    </td><td>0.0                </td><td>0.0                       </td><td>0.0                 </td><td>                    </td><td>                </td><td>0.0                </td><td>                    </td><td>                     </td><td>0.0                       </td><td>0.0                       </td><td>0.0                       </td><td>0.0                       </td><td>-4292.0                 </td><td>0.0                   </td><td>0.0               </td><td>0.0                  </td><td>0.0                 </td><td>0.0               </td><td>0.0                   </td><td>0.0                </td><td>0.0                </td><td>0.0                  </td><td>0.0                 </td><td>0.0                  </td><td>0.0                 </td><td>0.0                  </td><td>0.0                  </td><td>0.0                 </td><td>0.0                  </td><td>0.0                 </td><td>0.0                  </td><td>0.0                  </td><td>0.0                  </td><td>0.0                         </td><td>0.0                        </td><td>0.0                         </td><td>0.0                        </td><td>0.0                        </td><td>0.0                         </td></tr>\n",
       "<tr><td>mean   </td><td>278180.51857657125</td><td>0.08072881945686496</td><td>                    </td><td>             </td><td>              </td><td>                 </td><td>0.4170517477423569</td><td>168797.9192969845 </td><td>599025.9997057014</td><td>27108.573909183422</td><td>538396.2074288906 </td><td>                 </td><td>                    </td><td>                             </td><td>                    </td><td>                   </td><td>0.020868112057780105        </td><td>-16036.995066843137</td><td>63815.0459040489 </td><td>-4986.12032753842  </td><td>-2994.202373248435</td><td>12.061090818687724</td><td>0.9999967480838083  </td><td>0.8198893698111612 </td><td>0.1993684778755882</td><td>0.9981334001060125 </td><td>0.28106636835755466</td><td>0.0567199222141647</td><td>                 </td><td>2.1526654504421026</td><td>2.0524631639193394    </td><td>2.0315208236453324           </td><td>                            </td><td>12.063418869568897       </td><td>0.015144173704355291        </td><td>0.05076891558350758         </td><td>0.04065870814377372          </td><td>0.07817281333025486     </td><td>0.23045354475124466     </td><td>0.17955455252007246      </td><td>                      </td><td>0.5021298056566623  </td><td>0.5143926741308466   </td><td>0.5108529061799665   </td><td>0.11744049917464508</td><td>0.08844221905179983</td><td>0.9777348581623321           </td><td>0.752471432592722 </td><td>0.04462071541135075</td><td>0.07894151232418886</td><td>0.14972467006804932</td><td>0.2262819070366559 </td><td>0.23189350049054833</td><td>0.06633318417239688</td><td>0.10077477495067418   </td><td>0.10739901933259774</td><td>0.008808672617211194     </td><td>0.02835775707579682</td><td>0.11423100693298127</td><td>0.08754321224758556</td><td>0.9770653729429093            </td><td>0.7596373227337585 </td><td>0.042553137750145735</td><td>0.07448973610917699</td><td>0.14519265864569075</td><td>0.22231504747849393</td><td>0.22805849255074906</td><td>0.06495768445657661</td><td>0.10564485674942457    </td><td>0.10597505043712181</td><td>0.00807638754428333       </td><td>0.027022319685987718</td><td>0.11784992076592939</td><td>0.08795485466574689</td><td>0.9777522640694841            </td><td>0.7557462721916463 </td><td>0.04459510178529022</td><td>0.0780778443113772 </td><td>0.14921278072869917</td><td>0.22589659009262691</td><td>0.2316249380493381</td><td>0.06716874904939917</td><td>0.10195447324071037    </td><td>0.10860673604899414</td><td>0.008651013330212658      </td><td>0.028235920597261814</td><td>                    </td><td>                </td><td>0.10254666268544121</td><td>                    </td><td>                     </td><td>1.4222454239942586        </td><td>0.14342066625338515       </td><td>1.405292179190187         </td><td>0.10004894123788699       </td><td>-962.8587883320856      </td><td>4.2274910491006824e-05</td><td>0.7100233812774177</td><td>8.129790479039775e-05</td><td>0.015114906458630749</td><td>0.0880553866365756</td><td>0.00019186305530533867</td><td>0.08137595077899652</td><td>0.00389579559755586</td><td>2.276341334131137e-05</td><td>0.003912055178513939</td><td>6.503832383231819e-06</td><td>0.003525077151711646</td><td>0.0029364803210291664</td><td>0.0012097128232811183</td><td>0.009928100133003373</td><td>0.0002666571277125046</td><td>0.008129790479039774</td><td>0.0005951006630657115</td><td>0.0005072989258920819</td><td>0.0003349473677364387</td><td>0.006402448193930652        </td><td>0.007000210532647603       </td><td>0.03436193569731419         </td><td>0.2673952600078194         </td><td>0.2654741495984844         </td><td>1.899974435321363           </td></tr>\n",
       "<tr><td>maxs   </td><td>456255.0          </td><td>1.0                </td><td>                    </td><td>             </td><td>              </td><td>                 </td><td>19.0              </td><td>117000000.0       </td><td>4050000.0        </td><td>258025.5          </td><td>4050000.0         </td><td>                 </td><td>                    </td><td>                             </td><td>                    </td><td>                   </td><td>0.072508                    </td><td>-7489.0            </td><td>365243.0         </td><td>0.0                </td><td>0.0               </td><td>91.0              </td><td>1.0                 </td><td>1.0                </td><td>1.0               </td><td>1.0                </td><td>1.0                </td><td>1.0               </td><td>                 </td><td>20.0              </td><td>3.0                   </td><td>3.0                          </td><td>                            </td><td>23.0                     </td><td>1.0                         </td><td>1.0                         </td><td>1.0                          </td><td>1.0                     </td><td>1.0                     </td><td>1.0                      </td><td>                      </td><td>0.962692770561306   </td><td>0.8549996664047012   </td><td>0.8960095494948396   </td><td>1.0                </td><td>1.0                </td><td>1.0                          </td><td>1.0               </td><td>1.0                </td><td>1.0                </td><td>1.0                </td><td>1.0                </td><td>1.0                </td><td>1.0                </td><td>1.0                   </td><td>1.0                </td><td>1.0                      </td><td>1.0                </td><td>1.0                </td><td>1.0                </td><td>1.0                           </td><td>1.0                </td><td>1.0                 </td><td>1.0                </td><td>1.0                </td><td>1.0                </td><td>1.0                </td><td>1.0                </td><td>1.0                    </td><td>1.0                </td><td>1.0                       </td><td>1.0                 </td><td>1.0                </td><td>1.0                </td><td>1.0                           </td><td>1.0                </td><td>1.0                </td><td>1.0                </td><td>1.0                </td><td>1.0                </td><td>1.0               </td><td>1.0                </td><td>1.0                    </td><td>1.0                </td><td>1.0                       </td><td>1.0                 </td><td>                    </td><td>                </td><td>1.0                </td><td>                    </td><td>                     </td><td>348.0                     </td><td>34.0                      </td><td>344.0                     </td><td>24.0                      </td><td>0.0                     </td><td>1.0                   </td><td>1.0               </td><td>1.0                  </td><td>1.0                 </td><td>1.0               </td><td>1.0                   </td><td>1.0                </td><td>1.0                </td><td>1.0                  </td><td>1.0                 </td><td>1.0                  </td><td>1.0                 </td><td>1.0                  </td><td>1.0                  </td><td>1.0                 </td><td>1.0                  </td><td>1.0                 </td><td>1.0                  </td><td>1.0                  </td><td>1.0                  </td><td>4.0                         </td><td>9.0                        </td><td>8.0                         </td><td>27.0                       </td><td>261.0                      </td><td>25.0                        </td></tr>\n",
       "<tr><td>sigma  </td><td>102790.17534842473</td><td>0.27241864564839396</td><td>                    </td><td>             </td><td>              </td><td>                 </td><td>0.722121384437625 </td><td>237123.14627885618</td><td>402490.7769958549</td><td>14493.737315118324</td><td>369446.46054005786</td><td>                 </td><td>                    </td><td>                             </td><td>                    </td><td>                   </td><td>0.013831280122704695        </td><td>4363.988631785556  </td><td>141275.7665187272</td><td>3522.886320963071  </td><td>1509.4504190030234</td><td>11.944811582242764</td><td>0.001803307015351493</td><td>0.38428019893876436</td><td>0.3995262281502265</td><td>0.04316389414243238</td><td>0.44952054685675835</td><td>0.2313070397227076</td><td>                 </td><td>0.9106815691792977</td><td>0.5090339028156801    </td><td>0.5027370329147686           </td><td>                            </td><td>3.26583225543787         </td><td>0.12212647628215205         </td><td>0.21952582879696067         </td><td>0.19749861882842365          </td><td>0.2684437723734045      </td><td>0.4211238359138973      </td><td>0.38381661538559586      </td><td>                      </td><td>0.21106224927392508 </td><td>0.1910601549849365   </td><td>0.19484436446374892  </td><td>0.10824029130032228</td><td>0.0824381587356851 </td><td>0.059223314358362804         </td><td>0.1132799266322471</td><td>0.07603574505040937</td><td>0.13457600110034423</td><td>0.10004912076035906</td><td>0.14464069954800396</td><td>0.16138028880013738</td><td>0.0811836407017936 </td><td>0.09257613396049737   </td><td>0.11056452318371339</td><td>0.04773166205034794      </td><td>0.06952318332123604</td><td>0.1079360390875329 </td><td>0.08430717486924556</td><td>0.06457543708048023           </td><td>0.11011102734194828</td><td>0.07444452253839155 </td><td>0.13225614415050652</td><td>0.10097698816024665</td><td>0.14370940659531573</td><td>0.16115977149547595</td><td>0.08175027780843543</td><td>0.09788044657879369    </td><td>0.11184526587783382</td><td>0.04627626621983563       </td><td>0.07025385904394454 </td><td>0.10907590600115318</td><td>0.08217874951463419</td><td>0.059897318505119625          </td><td>0.11206630964404385</td><td>0.07614426224091464</td><td>0.13446714769067492</td><td>0.10036839449763224</td><td>0.1450670259193514 </td><td>0.1619335414571562</td><td>0.08216701028007208</td><td>0.09364233271153832    </td><td>0.1122602586753476 </td><td>0.04741472790780269       </td><td>0.0701664815068248  </td><td>                    </td><td>                </td><td>0.10746232414961875</td><td>                    </td><td>                     </td><td>2.4009887461090065        </td><td>0.44669842938152876       </td><td>2.37980335197938          </td><td>0.3622908039755736        </td><td>826.8084870406568       </td><td>0.006501789045489791  </td><td>0.4537519684327392</td><td>0.00901618321655089  </td><td>0.1220102228135413  </td><td>0.2833758928629899</td><td>0.01385015767701742   </td><td>0.27341204894451304</td><td>0.06229471080039369</td><td>0.004771055354069213 </td><td>0.06242406326684519 </td><td>0.0025502570915978662</td><td>0.05926771807375309 </td><td>0.05410976737642878  </td><td>0.03475993882769259  </td><td>0.09914416233784906 </td><td>0.016327488741596615 </td><td>0.08979823610939557 </td><td>0.024387465065862264 </td><td>0.02251762026844613  </td><td>0.01829853182243764  </td><td>0.08384912844747727         </td><td>0.11075740632435445        </td><td>0.2046848758128245          </td><td>0.9160023961526177         </td><td>0.794055648320758          </td><td>1.8692949981815572          </td></tr>\n",
       "<tr><td>zeros  </td><td>0                 </td><td>282686             </td><td>                    </td><td>             </td><td>              </td><td>                 </td><td>215371            </td><td>0                 </td><td>0                </td><td>0                 </td><td>0                 </td><td>                 </td><td>                    </td><td>                             </td><td>                    </td><td>                   </td><td>0                           </td><td>0                  </td><td>2                </td><td>80                 </td><td>16                </td><td>2134              </td><td>1                   </td><td>55386              </td><td>246203            </td><td>574                </td><td>221080             </td><td>290069            </td><td>                 </td><td>0                 </td><td>0                     </td><td>0                            </td><td>                            </td><td>40                       </td><td>302854                      </td><td>291899                      </td><td>295008                       </td><td>283472                  </td><td>236644                  </td><td>252296                   </td><td>                      </td><td>0                   </td><td>0                    </td><td>0                    </td><td>751                </td><td>14745              </td><td>514                          </td><td>102               </td><td>8442               </td><td>85718              </td><td>323                </td><td>2938               </td><td>2320               </td><td>15600              </td><td>418                   </td><td>284                </td><td>54549                    </td><td>58735              </td><td>976                </td><td>16598              </td><td>142                           </td><td>103                </td><td>9690                </td><td>89498              </td><td>387                </td><td>3415               </td><td>2517               </td><td>17453              </td><td>519                    </td><td>444                </td><td>59255                     </td><td>67126               </td><td>771                </td><td>14991              </td><td>548                           </td><td>101                </td><td>8691               </td><td>87026              </td><td>329                </td><td>2995               </td><td>2351              </td><td>15919              </td><td>433                    </td><td>299                </td><td>56097                     </td><td>60954               </td><td>                    </td><td>                </td><td>582                </td><td>                    </td><td>                     </td><td>163910                    </td><td>271324                    </td><td>164666                    </td><td>280721                    </td><td>37672                   </td><td>307498                </td><td>89171             </td><td>307486               </td><td>302863              </td><td>280433            </td><td>307452                </td><td>282487             </td><td>306313             </td><td>307504               </td><td>306308              </td><td>307509               </td><td>306427              </td><td>306608               </td><td>307139               </td><td>304458              </td><td>307429               </td><td>305011              </td><td>307328               </td><td>307355               </td><td>307408               </td><td>264366                      </td><td>264503                     </td><td>257456                      </td><td>222233                     </td><td>215417                     </td><td>71801                       </td></tr>\n",
       "<tr><td>missing</td><td>0                 </td><td>0                  </td><td>0                   </td><td>0            </td><td>0             </td><td>0                </td><td>0                 </td><td>0                 </td><td>0                </td><td>12                </td><td>278               </td><td>1292             </td><td>0                   </td><td>0                            </td><td>0                   </td><td>0                  </td><td>0                           </td><td>0                  </td><td>0                </td><td>0                  </td><td>0                 </td><td>202929            </td><td>0                   </td><td>0                  </td><td>0                 </td><td>0                  </td><td>0                  </td><td>0                 </td><td>96391            </td><td>2                 </td><td>0                     </td><td>0                            </td><td>0                           </td><td>0                        </td><td>0                           </td><td>0                           </td><td>0                            </td><td>0                       </td><td>0                       </td><td>0                        </td><td>0                     </td><td>173378              </td><td>660                  </td><td>60965                </td><td>156061             </td><td>179943             </td><td>150007                       </td><td>204488            </td><td>214865             </td><td>163891             </td><td>154828             </td><td>153020             </td><td>208642             </td><td>182590             </td><td>210199                </td><td>154350             </td><td>213514                   </td><td>169682             </td><td>156061             </td><td>179943             </td><td>150007                        </td><td>204488             </td><td>214865              </td><td>163891             </td><td>154828             </td><td>153020             </td><td>208642             </td><td>182590             </td><td>210199                 </td><td>154350             </td><td>213514                    </td><td>169682              </td><td>156061             </td><td>179943             </td><td>150007                        </td><td>204488             </td><td>214865             </td><td>163891             </td><td>154828             </td><td>153020             </td><td>208642            </td><td>182590             </td><td>210199                 </td><td>154350             </td><td>213514                    </td><td>169682              </td><td>210295              </td><td>154297          </td><td>148431             </td><td>156341              </td><td>145755               </td><td>1021                      </td><td>1021                      </td><td>1021                      </td><td>1021                      </td><td>1                       </td><td>0                     </td><td>0                 </td><td>0                    </td><td>0                   </td><td>0                 </td><td>0                     </td><td>0                  </td><td>0                  </td><td>0                    </td><td>0                   </td><td>0                    </td><td>0                   </td><td>0                    </td><td>0                    </td><td>0                   </td><td>0                    </td><td>0                   </td><td>0                    </td><td>0                    </td><td>0                    </td><td>41519                       </td><td>41519                      </td><td>41519                       </td><td>41519                      </td><td>41519                      </td><td>41519                       </td></tr>\n",
       "<tr><td>0      </td><td>100002.0          </td><td>1.0                </td><td>Cash loans          </td><td>M            </td><td>N             </td><td>Y                </td><td>0.0               </td><td>202500.0          </td><td>406597.5         </td><td>24700.5           </td><td>351000.0          </td><td>Unaccompanied    </td><td>Working             </td><td>Secondary / secondary special</td><td>Single / not married</td><td>House / apartment  </td><td>0.018801                    </td><td>-9461.0            </td><td>-637.0           </td><td>-3648.0            </td><td>-2120.0           </td><td>nan               </td><td>1.0                 </td><td>1.0                </td><td>0.0               </td><td>1.0                </td><td>1.0                </td><td>0.0               </td><td>Laborers         </td><td>1.0               </td><td>2.0                   </td><td>2.0                          </td><td>WEDNESDAY                   </td><td>10.0                     </td><td>0.0                         </td><td>0.0                         </td><td>0.0                          </td><td>0.0                     </td><td>0.0                     </td><td>0.0                      </td><td>Business Entity Type 3</td><td>0.08303696739132256 </td><td>0.2629485927471776   </td><td>0.13937578009978951  </td><td>0.0247             </td><td>0.0369             </td><td>0.9722                       </td><td>0.6192            </td><td>0.0143             </td><td>0.0                </td><td>0.069              </td><td>0.0833             </td><td>0.125              </td><td>0.0369             </td><td>0.0202                </td><td>0.019              </td><td>0.0                      </td><td>0.0                </td><td>0.0252             </td><td>0.0383             </td><td>0.9722                        </td><td>0.6341             </td><td>0.0144              </td><td>0.0                </td><td>0.069              </td><td>0.0833             </td><td>0.125              </td><td>0.0377             </td><td>0.022                  </td><td>0.0198             </td><td>0.0                       </td><td>0.0                 </td><td>0.025              </td><td>0.0369             </td><td>0.9722                        </td><td>0.6243             </td><td>0.0144             </td><td>0.0                </td><td>0.069              </td><td>0.0833             </td><td>0.125             </td><td>0.0375             </td><td>0.0205                 </td><td>0.0193             </td><td>0.0                       </td><td>0.0                 </td><td>reg oper account    </td><td>block of flats  </td><td>0.0149             </td><td>Stone, brick        </td><td>No                   </td><td>2.0                       </td><td>2.0                       </td><td>2.0                       </td><td>2.0                       </td><td>-1134.0                 </td><td>0.0                   </td><td>1.0               </td><td>0.0                  </td><td>0.0                 </td><td>0.0               </td><td>0.0                   </td><td>0.0                </td><td>0.0                </td><td>0.0                  </td><td>0.0                 </td><td>0.0                  </td><td>0.0                 </td><td>0.0                  </td><td>0.0                  </td><td>0.0                 </td><td>0.0                  </td><td>0.0                 </td><td>0.0                  </td><td>0.0                  </td><td>0.0                  </td><td>0.0                         </td><td>0.0                        </td><td>0.0                         </td><td>0.0                        </td><td>0.0                        </td><td>1.0                         </td></tr>\n",
       "<tr><td>1      </td><td>100003.0          </td><td>0.0                </td><td>Cash loans          </td><td>F            </td><td>N             </td><td>N                </td><td>0.0               </td><td>270000.0          </td><td>1293502.5        </td><td>35698.5           </td><td>1129500.0         </td><td>Family           </td><td>State servant       </td><td>Higher education             </td><td>Married             </td><td>House / apartment  </td><td>0.003540999999999999        </td><td>-16765.0           </td><td>-1188.0          </td><td>-1186.0            </td><td>-291.0            </td><td>nan               </td><td>1.0                 </td><td>1.0                </td><td>0.0               </td><td>1.0                </td><td>1.0                </td><td>0.0               </td><td>Core staff       </td><td>2.0               </td><td>1.0                   </td><td>1.0                          </td><td>MONDAY                      </td><td>11.0                     </td><td>0.0                         </td><td>0.0                         </td><td>0.0                          </td><td>0.0                     </td><td>0.0                     </td><td>0.0                      </td><td>School                </td><td>0.3112673113812225  </td><td>0.6222457752555098   </td><td>nan                  </td><td>0.0959             </td><td>0.0529             </td><td>0.9851                       </td><td>0.7959999999999999</td><td>0.0605             </td><td>0.08               </td><td>0.0345             </td><td>0.2917             </td><td>0.3333             </td><td>0.013              </td><td>0.0773                </td><td>0.0549             </td><td>0.0039                   </td><td>0.0098             </td><td>0.0924             </td><td>0.0538             </td><td>0.9851                        </td><td>0.804              </td><td>0.0497              </td><td>0.0806             </td><td>0.0345             </td><td>0.2917             </td><td>0.3333             </td><td>0.0128             </td><td>0.079                  </td><td>0.0554             </td><td>0.0                       </td><td>0.0                 </td><td>0.0968             </td><td>0.0529             </td><td>0.9851                        </td><td>0.7987             </td><td>0.0608             </td><td>0.08               </td><td>0.0345             </td><td>0.2917             </td><td>0.3333            </td><td>0.0132             </td><td>0.0787                 </td><td>0.0558             </td><td>0.0039                    </td><td>0.01                </td><td>reg oper account    </td><td>block of flats  </td><td>0.0714             </td><td>Block               </td><td>No                   </td><td>1.0                       </td><td>0.0                       </td><td>1.0                       </td><td>0.0                       </td><td>-828.0                  </td><td>0.0                   </td><td>1.0               </td><td>0.0                  </td><td>0.0                 </td><td>0.0               </td><td>0.0                   </td><td>0.0                </td><td>0.0                </td><td>0.0                  </td><td>0.0                 </td><td>0.0                  </td><td>0.0                 </td><td>0.0                  </td><td>0.0                  </td><td>0.0                 </td><td>0.0                  </td><td>0.0                 </td><td>0.0                  </td><td>0.0                  </td><td>0.0                  </td><td>0.0                         </td><td>0.0                        </td><td>0.0                         </td><td>0.0                        </td><td>0.0                        </td><td>0.0                         </td></tr>\n",
       "<tr><td>2      </td><td>100004.0          </td><td>0.0                </td><td>Revolving loans     </td><td>M            </td><td>Y             </td><td>Y                </td><td>0.0               </td><td>67500.0           </td><td>135000.0         </td><td>6750.0            </td><td>135000.0          </td><td>Unaccompanied    </td><td>Working             </td><td>Secondary / secondary special</td><td>Single / not married</td><td>House / apartment  </td><td>0.010032                    </td><td>-19046.0           </td><td>-225.0           </td><td>-4260.0            </td><td>-2531.0           </td><td>26.0              </td><td>1.0                 </td><td>1.0                </td><td>1.0               </td><td>1.0                </td><td>1.0                </td><td>0.0               </td><td>Laborers         </td><td>1.0               </td><td>2.0                   </td><td>2.0                          </td><td>MONDAY                      </td><td>9.0                      </td><td>0.0                         </td><td>0.0                         </td><td>0.0                          </td><td>0.0                     </td><td>0.0                     </td><td>0.0                      </td><td>Government            </td><td>nan                 </td><td>0.5559120833904428   </td><td>0.7295666907060153   </td><td>nan                </td><td>nan                </td><td>nan                          </td><td>nan               </td><td>nan                </td><td>nan                </td><td>nan                </td><td>nan                </td><td>nan                </td><td>nan                </td><td>nan                   </td><td>nan                </td><td>nan                      </td><td>nan                </td><td>nan                </td><td>nan                </td><td>nan                           </td><td>nan                </td><td>nan                 </td><td>nan                </td><td>nan                </td><td>nan                </td><td>nan                </td><td>nan                </td><td>nan                    </td><td>nan                </td><td>nan                       </td><td>nan                 </td><td>nan                </td><td>nan                </td><td>nan                           </td><td>nan                </td><td>nan                </td><td>nan                </td><td>nan                </td><td>nan                </td><td>nan               </td><td>nan                </td><td>nan                    </td><td>nan                </td><td>nan                       </td><td>nan                 </td><td>                    </td><td>                </td><td>nan                </td><td>                    </td><td>                     </td><td>0.0                       </td><td>0.0                       </td><td>0.0                       </td><td>0.0                       </td><td>-815.0                  </td><td>0.0                   </td><td>0.0               </td><td>0.0                  </td><td>0.0                 </td><td>0.0               </td><td>0.0                   </td><td>0.0                </td><td>0.0                </td><td>0.0                  </td><td>0.0                 </td><td>0.0                  </td><td>0.0                 </td><td>0.0                  </td><td>0.0                  </td><td>0.0                 </td><td>0.0                  </td><td>0.0                 </td><td>0.0                  </td><td>0.0                  </td><td>0.0                  </td><td>0.0                         </td><td>0.0                        </td><td>0.0                         </td><td>0.0                        </td><td>0.0                        </td><td>0.0                         </td></tr>\n",
       "<tr><td>3      </td><td>100006.0          </td><td>0.0                </td><td>Cash loans          </td><td>F            </td><td>N             </td><td>Y                </td><td>0.0               </td><td>135000.0          </td><td>312682.5         </td><td>29686.5           </td><td>297000.0          </td><td>Unaccompanied    </td><td>Working             </td><td>Secondary / secondary special</td><td>Civil marriage      </td><td>House / apartment  </td><td>0.008019                    </td><td>-19005.0           </td><td>-3039.0          </td><td>-9833.0            </td><td>-2437.0           </td><td>nan               </td><td>1.0                 </td><td>1.0                </td><td>0.0               </td><td>1.0                </td><td>0.0                </td><td>0.0               </td><td>Laborers         </td><td>2.0               </td><td>2.0                   </td><td>2.0                          </td><td>WEDNESDAY                   </td><td>17.0                     </td><td>0.0                         </td><td>0.0                         </td><td>0.0                          </td><td>0.0                     </td><td>0.0                     </td><td>0.0                      </td><td>Business Entity Type 3</td><td>nan                 </td><td>0.6504416904014653   </td><td>nan                  </td><td>nan                </td><td>nan                </td><td>nan                          </td><td>nan               </td><td>nan                </td><td>nan                </td><td>nan                </td><td>nan                </td><td>nan                </td><td>nan                </td><td>nan                   </td><td>nan                </td><td>nan                      </td><td>nan                </td><td>nan                </td><td>nan                </td><td>nan                           </td><td>nan                </td><td>nan                 </td><td>nan                </td><td>nan                </td><td>nan                </td><td>nan                </td><td>nan                </td><td>nan                    </td><td>nan                </td><td>nan                       </td><td>nan                 </td><td>nan                </td><td>nan                </td><td>nan                           </td><td>nan                </td><td>nan                </td><td>nan                </td><td>nan                </td><td>nan                </td><td>nan               </td><td>nan                </td><td>nan                    </td><td>nan                </td><td>nan                       </td><td>nan                 </td><td>                    </td><td>                </td><td>nan                </td><td>                    </td><td>                     </td><td>2.0                       </td><td>0.0                       </td><td>2.0                       </td><td>0.0                       </td><td>-617.0                  </td><td>0.0                   </td><td>1.0               </td><td>0.0                  </td><td>0.0                 </td><td>0.0               </td><td>0.0                   </td><td>0.0                </td><td>0.0                </td><td>0.0                  </td><td>0.0                 </td><td>0.0                  </td><td>0.0                 </td><td>0.0                  </td><td>0.0                  </td><td>0.0                 </td><td>0.0                  </td><td>0.0                 </td><td>0.0                  </td><td>0.0                  </td><td>0.0                  </td><td>nan                         </td><td>nan                        </td><td>nan                         </td><td>nan                        </td><td>nan                        </td><td>nan                         </td></tr>\n",
       "<tr><td>4      </td><td>100007.0          </td><td>0.0                </td><td>Cash loans          </td><td>M            </td><td>N             </td><td>Y                </td><td>0.0               </td><td>121500.0          </td><td>513000.0         </td><td>21865.5           </td><td>513000.0          </td><td>Unaccompanied    </td><td>Working             </td><td>Secondary / secondary special</td><td>Single / not married</td><td>House / apartment  </td><td>0.028663                    </td><td>-19932.0           </td><td>-3038.0          </td><td>-4311.0            </td><td>-3458.0           </td><td>nan               </td><td>1.0                 </td><td>1.0                </td><td>0.0               </td><td>1.0                </td><td>0.0                </td><td>0.0               </td><td>Core staff       </td><td>1.0               </td><td>2.0                   </td><td>2.0                          </td><td>THURSDAY                    </td><td>11.0                     </td><td>0.0                         </td><td>0.0                         </td><td>0.0                          </td><td>0.0                     </td><td>1.0                     </td><td>1.0                      </td><td>Religion              </td><td>nan                 </td><td>0.3227382869704046   </td><td>nan                  </td><td>nan                </td><td>nan                </td><td>nan                          </td><td>nan               </td><td>nan                </td><td>nan                </td><td>nan                </td><td>nan                </td><td>nan                </td><td>nan                </td><td>nan                   </td><td>nan                </td><td>nan                      </td><td>nan                </td><td>nan                </td><td>nan                </td><td>nan                           </td><td>nan                </td><td>nan                 </td><td>nan                </td><td>nan                </td><td>nan                </td><td>nan                </td><td>nan                </td><td>nan                    </td><td>nan                </td><td>nan                       </td><td>nan                 </td><td>nan                </td><td>nan                </td><td>nan                           </td><td>nan                </td><td>nan                </td><td>nan                </td><td>nan                </td><td>nan                </td><td>nan               </td><td>nan                </td><td>nan                    </td><td>nan                </td><td>nan                       </td><td>nan                 </td><td>                    </td><td>                </td><td>nan                </td><td>                    </td><td>                     </td><td>0.0                       </td><td>0.0                       </td><td>0.0                       </td><td>0.0                       </td><td>-1106.0                 </td><td>0.0                   </td><td>0.0               </td><td>0.0                  </td><td>0.0                 </td><td>0.0               </td><td>0.0                   </td><td>1.0                </td><td>0.0                </td><td>0.0                  </td><td>0.0                 </td><td>0.0                  </td><td>0.0                 </td><td>0.0                  </td><td>0.0                  </td><td>0.0                 </td><td>0.0                  </td><td>0.0                 </td><td>0.0                  </td><td>0.0                  </td><td>0.0                  </td><td>0.0                         </td><td>0.0                        </td><td>0.0                         </td><td>0.0                        </td><td>0.0                        </td><td>0.0                         </td></tr>\n",
       "<tr><td>5      </td><td>100008.0          </td><td>0.0                </td><td>Cash loans          </td><td>M            </td><td>N             </td><td>Y                </td><td>0.0               </td><td>99000.0           </td><td>490495.5         </td><td>27517.5           </td><td>454500.0          </td><td>Spouse, partner  </td><td>State servant       </td><td>Secondary / secondary special</td><td>Married             </td><td>House / apartment  </td><td>0.035792000000000004        </td><td>-16941.0           </td><td>-1588.0          </td><td>-4970.0            </td><td>-477.0            </td><td>nan               </td><td>1.0                 </td><td>1.0                </td><td>1.0               </td><td>1.0                </td><td>1.0                </td><td>0.0               </td><td>Laborers         </td><td>2.0               </td><td>2.0                   </td><td>2.0                          </td><td>WEDNESDAY                   </td><td>16.0                     </td><td>0.0                         </td><td>0.0                         </td><td>0.0                          </td><td>0.0                     </td><td>0.0                     </td><td>0.0                      </td><td>Other                 </td><td>nan                 </td><td>0.3542247319929012   </td><td>0.6212263380626669   </td><td>nan                </td><td>nan                </td><td>nan                          </td><td>nan               </td><td>nan                </td><td>nan                </td><td>nan                </td><td>nan                </td><td>nan                </td><td>nan                </td><td>nan                   </td><td>nan                </td><td>nan                      </td><td>nan                </td><td>nan                </td><td>nan                </td><td>nan                           </td><td>nan                </td><td>nan                 </td><td>nan                </td><td>nan                </td><td>nan                </td><td>nan                </td><td>nan                </td><td>nan                    </td><td>nan                </td><td>nan                       </td><td>nan                 </td><td>nan                </td><td>nan                </td><td>nan                           </td><td>nan                </td><td>nan                </td><td>nan                </td><td>nan                </td><td>nan                </td><td>nan               </td><td>nan                </td><td>nan                    </td><td>nan                </td><td>nan                       </td><td>nan                 </td><td>                    </td><td>                </td><td>nan                </td><td>                    </td><td>                     </td><td>0.0                       </td><td>0.0                       </td><td>0.0                       </td><td>0.0                       </td><td>-2536.0                 </td><td>0.0                   </td><td>1.0               </td><td>0.0                  </td><td>0.0                 </td><td>0.0               </td><td>0.0                   </td><td>0.0                </td><td>0.0                </td><td>0.0                  </td><td>0.0                 </td><td>0.0                  </td><td>0.0                 </td><td>0.0                  </td><td>0.0                  </td><td>0.0                 </td><td>0.0                  </td><td>0.0                 </td><td>0.0                  </td><td>0.0                  </td><td>0.0                  </td><td>0.0                         </td><td>0.0                        </td><td>0.0                         </td><td>0.0                        </td><td>1.0                        </td><td>1.0                         </td></tr>\n",
       "<tr><td>6      </td><td>100009.0          </td><td>0.0                </td><td>Cash loans          </td><td>F            </td><td>Y             </td><td>Y                </td><td>1.0               </td><td>171000.0          </td><td>1560726.0        </td><td>41301.0           </td><td>1395000.0         </td><td>Unaccompanied    </td><td>Commercial associate</td><td>Higher education             </td><td>Married             </td><td>House / apartment  </td><td>0.035792000000000004        </td><td>-13778.0           </td><td>-3130.0          </td><td>-1213.0            </td><td>-619.0            </td><td>17.0              </td><td>1.0                 </td><td>1.0                </td><td>0.0               </td><td>1.0                </td><td>1.0                </td><td>0.0               </td><td>Accountants      </td><td>3.0               </td><td>2.0                   </td><td>2.0                          </td><td>SUNDAY                      </td><td>16.0                     </td><td>0.0                         </td><td>0.0                         </td><td>0.0                          </td><td>0.0                     </td><td>0.0                     </td><td>0.0                      </td><td>Business Entity Type 3</td><td>0.7747614130547695  </td><td>0.7239998516953141   </td><td>0.4920600938649263   </td><td>nan                </td><td>nan                </td><td>nan                          </td><td>nan               </td><td>nan                </td><td>nan                </td><td>nan                </td><td>nan                </td><td>nan                </td><td>nan                </td><td>nan                   </td><td>nan                </td><td>nan                      </td><td>nan                </td><td>nan                </td><td>nan                </td><td>nan                           </td><td>nan                </td><td>nan                 </td><td>nan                </td><td>nan                </td><td>nan                </td><td>nan                </td><td>nan                </td><td>nan                    </td><td>nan                </td><td>nan                       </td><td>nan                 </td><td>nan                </td><td>nan                </td><td>nan                           </td><td>nan                </td><td>nan                </td><td>nan                </td><td>nan                </td><td>nan                </td><td>nan               </td><td>nan                </td><td>nan                    </td><td>nan                </td><td>nan                       </td><td>nan                 </td><td>                    </td><td>                </td><td>nan                </td><td>                    </td><td>                     </td><td>1.0                       </td><td>0.0                       </td><td>1.0                       </td><td>0.0                       </td><td>-1562.0                 </td><td>0.0                   </td><td>0.0               </td><td>0.0                  </td><td>0.0                 </td><td>0.0               </td><td>0.0                   </td><td>1.0                </td><td>0.0                </td><td>0.0                  </td><td>0.0                 </td><td>0.0                  </td><td>0.0                 </td><td>1.0                  </td><td>0.0                  </td><td>0.0                 </td><td>0.0                  </td><td>0.0                 </td><td>0.0                  </td><td>0.0                  </td><td>0.0                  </td><td>0.0                         </td><td>0.0                        </td><td>0.0                         </td><td>1.0                        </td><td>1.0                        </td><td>2.0                         </td></tr>\n",
       "<tr><td>7      </td><td>100010.0          </td><td>0.0                </td><td>Cash loans          </td><td>M            </td><td>Y             </td><td>Y                </td><td>0.0               </td><td>360000.0          </td><td>1530000.0        </td><td>42075.0           </td><td>1530000.0         </td><td>Unaccompanied    </td><td>State servant       </td><td>Higher education             </td><td>Married             </td><td>House / apartment  </td><td>0.003122                    </td><td>-18850.0           </td><td>-449.0           </td><td>-4597.0            </td><td>-2379.0           </td><td>8.0               </td><td>1.0                 </td><td>1.0                </td><td>1.0               </td><td>1.0                </td><td>0.0                </td><td>0.0               </td><td>Managers         </td><td>2.0               </td><td>3.0                   </td><td>3.0                          </td><td>MONDAY                      </td><td>16.0                     </td><td>0.0                         </td><td>0.0                         </td><td>0.0                          </td><td>0.0                     </td><td>1.0                     </td><td>1.0                      </td><td>Other                 </td><td>nan                 </td><td>0.7142792864482229   </td><td>0.5406544504453575   </td><td>nan                </td><td>nan                </td><td>nan                          </td><td>nan               </td><td>nan                </td><td>nan                </td><td>nan                </td><td>nan                </td><td>nan                </td><td>nan                </td><td>nan                   </td><td>nan                </td><td>nan                      </td><td>nan                </td><td>nan                </td><td>nan                </td><td>nan                           </td><td>nan                </td><td>nan                 </td><td>nan                </td><td>nan                </td><td>nan                </td><td>nan                </td><td>nan                </td><td>nan                    </td><td>nan                </td><td>nan                       </td><td>nan                 </td><td>nan                </td><td>nan                </td><td>nan                           </td><td>nan                </td><td>nan                </td><td>nan                </td><td>nan                </td><td>nan                </td><td>nan               </td><td>nan                </td><td>nan                    </td><td>nan                </td><td>nan                       </td><td>nan                 </td><td>                    </td><td>                </td><td>nan                </td><td>                    </td><td>                     </td><td>2.0                       </td><td>0.0                       </td><td>2.0                       </td><td>0.0                       </td><td>-1070.0                 </td><td>0.0                   </td><td>1.0               </td><td>0.0                  </td><td>0.0                 </td><td>0.0               </td><td>0.0                   </td><td>0.0                </td><td>0.0                </td><td>0.0                  </td><td>0.0                 </td><td>0.0                  </td><td>0.0                 </td><td>0.0                  </td><td>0.0                  </td><td>0.0                 </td><td>0.0                  </td><td>0.0                 </td><td>0.0                  </td><td>0.0                  </td><td>0.0                  </td><td>0.0                         </td><td>0.0                        </td><td>0.0                         </td><td>0.0                        </td><td>0.0                        </td><td>0.0                         </td></tr>\n",
       "<tr><td>8      </td><td>100011.0          </td><td>0.0                </td><td>Cash loans          </td><td>F            </td><td>N             </td><td>Y                </td><td>0.0               </td><td>112500.0          </td><td>1019610.0        </td><td>33826.5           </td><td>913500.0          </td><td>Children         </td><td>Pensioner           </td><td>Secondary / secondary special</td><td>Married             </td><td>House / apartment  </td><td>0.018634                    </td><td>-20099.0           </td><td>365243.0         </td><td>-7427.0            </td><td>-3514.0           </td><td>nan               </td><td>1.0                 </td><td>0.0                </td><td>0.0               </td><td>1.0                </td><td>0.0                </td><td>0.0               </td><td>                 </td><td>2.0               </td><td>2.0                   </td><td>2.0                          </td><td>WEDNESDAY                   </td><td>14.0                     </td><td>0.0                         </td><td>0.0                         </td><td>0.0                          </td><td>0.0                     </td><td>0.0                     </td><td>0.0                      </td><td>XNA                   </td><td>0.5873340468730377  </td><td>0.20574728800732817  </td><td>0.7517237147741489   </td><td>nan                </td><td>nan                </td><td>nan                          </td><td>nan               </td><td>nan                </td><td>nan                </td><td>nan                </td><td>nan                </td><td>nan                </td><td>nan                </td><td>nan                   </td><td>nan                </td><td>nan                      </td><td>nan                </td><td>nan                </td><td>nan                </td><td>nan                           </td><td>nan                </td><td>nan                 </td><td>nan                </td><td>nan                </td><td>nan                </td><td>nan                </td><td>nan                </td><td>nan                    </td><td>nan                </td><td>nan                       </td><td>nan                 </td><td>nan                </td><td>nan                </td><td>nan                           </td><td>nan                </td><td>nan                </td><td>nan                </td><td>nan                </td><td>nan                </td><td>nan               </td><td>nan                </td><td>nan                    </td><td>nan                </td><td>nan                       </td><td>nan                 </td><td>                    </td><td>                </td><td>nan                </td><td>                    </td><td>                     </td><td>1.0                       </td><td>0.0                       </td><td>1.0                       </td><td>0.0                       </td><td>0.0                     </td><td>0.0                   </td><td>1.0               </td><td>0.0                  </td><td>0.0                 </td><td>0.0               </td><td>0.0                   </td><td>0.0                </td><td>0.0                </td><td>0.0                  </td><td>0.0                 </td><td>0.0                  </td><td>0.0                 </td><td>0.0                  </td><td>0.0                  </td><td>0.0                 </td><td>0.0                  </td><td>0.0                 </td><td>0.0                  </td><td>0.0                  </td><td>0.0                  </td><td>0.0                         </td><td>0.0                        </td><td>0.0                         </td><td>0.0                        </td><td>0.0                        </td><td>1.0                         </td></tr>\n",
       "<tr><td>9      </td><td>100012.0          </td><td>0.0                </td><td>Revolving loans     </td><td>M            </td><td>N             </td><td>Y                </td><td>0.0               </td><td>135000.0          </td><td>405000.0         </td><td>20250.0           </td><td>405000.0          </td><td>Unaccompanied    </td><td>Working             </td><td>Secondary / secondary special</td><td>Single / not married</td><td>House / apartment  </td><td>0.019689                    </td><td>-14469.0           </td><td>-2019.0          </td><td>-14437.0           </td><td>-3992.0           </td><td>nan               </td><td>1.0                 </td><td>1.0                </td><td>0.0               </td><td>1.0                </td><td>0.0                </td><td>0.0               </td><td>Laborers         </td><td>1.0               </td><td>2.0                   </td><td>2.0                          </td><td>THURSDAY                    </td><td>8.0                      </td><td>0.0                         </td><td>0.0                         </td><td>0.0                          </td><td>0.0                     </td><td>0.0                     </td><td>0.0                      </td><td>Electricity           </td><td>nan                 </td><td>0.7466436294590924   </td><td>nan                  </td><td>nan                </td><td>nan                </td><td>nan                          </td><td>nan               </td><td>nan                </td><td>nan                </td><td>nan                </td><td>nan                </td><td>nan                </td><td>nan                </td><td>nan                   </td><td>nan                </td><td>nan                      </td><td>nan                </td><td>nan                </td><td>nan                </td><td>nan                           </td><td>nan                </td><td>nan                 </td><td>nan                </td><td>nan                </td><td>nan                </td><td>nan                </td><td>nan                </td><td>nan                    </td><td>nan                </td><td>nan                       </td><td>nan                 </td><td>nan                </td><td>nan                </td><td>nan                           </td><td>nan                </td><td>nan                </td><td>nan                </td><td>nan                </td><td>nan                </td><td>nan               </td><td>nan                </td><td>nan                    </td><td>nan                </td><td>nan                       </td><td>nan                 </td><td>                    </td><td>                </td><td>nan                </td><td>                    </td><td>                     </td><td>2.0                       </td><td>0.0                       </td><td>2.0                       </td><td>0.0                       </td><td>-1673.0                 </td><td>0.0                   </td><td>0.0               </td><td>0.0                  </td><td>0.0                 </td><td>0.0               </td><td>0.0                   </td><td>0.0                </td><td>0.0                </td><td>0.0                  </td><td>0.0                 </td><td>0.0                  </td><td>0.0                 </td><td>0.0                  </td><td>0.0                  </td><td>0.0                 </td><td>0.0                  </td><td>0.0                 </td><td>0.0                  </td><td>0.0                  </td><td>0.0                  </td><td>nan                         </td><td>nan                        </td><td>nan                         </td><td>nan                        </td><td>nan                        </td><td>nan                         </td></tr>\n",
       "</tbody>\n",
       "</table>"
      ]
     },
     "metadata": {},
     "output_type": "display_data"
    }
   ],
   "source": [
    "data.describe()"
   ]
  },
  {
   "cell_type": "code",
   "execution_count": 6,
   "metadata": {},
   "outputs": [
    {
     "data": {
      "text/plain": [
       "[['0', '1']]"
      ]
     },
     "execution_count": 6,
     "metadata": {},
     "output_type": "execute_result"
    }
   ],
   "source": [
    "data['TARGET']=data['TARGET'].asfactor()\n",
    "data['TARGET'].levels()"
   ]
  },
  {
   "cell_type": "code",
   "execution_count": 6,
   "metadata": {},
   "outputs": [],
   "source": [
    "y='TARGET'\n",
    "x=list(data.columns)"
   ]
  },
  {
   "cell_type": "code",
   "execution_count": 7,
   "metadata": {},
   "outputs": [],
   "source": [
    "x.remove(y)\n",
    "x.remove('SK_ID_CURR')"
   ]
  },
  {
   "cell_type": "code",
   "execution_count": 8,
   "metadata": {},
   "outputs": [],
   "source": [
    "splits=data.split_frame(ratios=[0.7,0.15],seed=1)\n",
    "train=splits[0]\n",
    "valid=splits[1]\n",
    "test=splits[2]"
   ]
  },
  {
   "cell_type": "code",
   "execution_count": 9,
   "metadata": {},
   "outputs": [
    {
     "name": "stdout",
     "output_type": "stream",
     "text": [
      "215422\n",
      "45995\n"
     ]
    }
   ],
   "source": [
    "print (train.nrow)\n",
    "print (valid.nrow)"
   ]
  },
  {
   "cell_type": "code",
   "execution_count": 19,
   "metadata": {},
   "outputs": [],
   "source": [
    "from h2o.estimators.glm import H2OGeneralizedLinearEstimator"
   ]
  },
  {
   "cell_type": "code",
   "execution_count": 20,
   "metadata": {},
   "outputs": [],
   "source": [
    "glm_fit1 = H2OGeneralizedLinearEstimator(family='binomial', model_id='glm_fit1')"
   ]
  },
  {
   "cell_type": "code",
   "execution_count": 21,
   "metadata": {},
   "outputs": [
    {
     "name": "stdout",
     "output_type": "stream",
     "text": [
      "glm Model Build progress: |███████████████████████████████████████████████| 100%\n"
     ]
    }
   ],
   "source": [
    "glm_fit1.train(x=x, y=y, training_frame=train)"
   ]
  },
  {
   "cell_type": "code",
   "execution_count": 22,
   "metadata": {},
   "outputs": [
    {
     "name": "stdout",
     "output_type": "stream",
     "text": [
      "glm Model Build progress: |███████████████████████████████████████████████| 100%\n"
     ]
    }
   ],
   "source": [
    "glm_fit2 = H2OGeneralizedLinearEstimator(family='binomial', model_id='glm_fit2', lambda_search=True)\n",
    "glm_fit2.train(x=x, y=y, training_frame=train, validation_frame=valid)"
   ]
  },
  {
   "cell_type": "code",
   "execution_count": 23,
   "metadata": {},
   "outputs": [],
   "source": [
    "glm_perf1 = glm_fit1.model_performance(test)\n",
    "glm_perf2 = glm_fit2.model_performance(test)"
   ]
  },
  {
   "cell_type": "code",
   "execution_count": 24,
   "metadata": {},
   "outputs": [
    {
     "name": "stdout",
     "output_type": "stream",
     "text": [
      "\n",
      "ModelMetricsBinomialGLM: glm\n",
      "** Reported on test data. **\n",
      "\n",
      "MSE: 0.06944946975507571\n",
      "RMSE: 0.26353267303140177\n",
      "LogLoss: 0.25303503271714595\n",
      "Null degrees of freedom: 46093\n",
      "Residual degrees of freedom: 45952\n",
      "Null deviance: 25852.80076184814\n",
      "Residual deviance: 23326.79359612825\n",
      "AIC: 23610.79359612825\n",
      "AUC: 0.7354233010586632\n",
      "Gini: 0.4708466021173263\n",
      "Confusion Matrix (Act/Pred) for max f1 @ threshold = 0.14589981192617266: \n"
     ]
    },
    {
     "data": {
      "text/html": [
       "<div style=\"overflow:auto\"><table style=\"width:50%\"><tr><td><b></b></td>\n",
       "<td><b>0</b></td>\n",
       "<td><b>1</b></td>\n",
       "<td><b>Error</b></td>\n",
       "<td><b>Rate</b></td></tr>\n",
       "<tr><td>0</td>\n",
       "<td>37114.0</td>\n",
       "<td>5261.0</td>\n",
       "<td>0.1242</td>\n",
       "<td> (5261.0/42375.0)</td></tr>\n",
       "<tr><td>1</td>\n",
       "<td>2243.0</td>\n",
       "<td>1476.0</td>\n",
       "<td>0.6031</td>\n",
       "<td> (2243.0/3719.0)</td></tr>\n",
       "<tr><td>Total</td>\n",
       "<td>39357.0</td>\n",
       "<td>6737.0</td>\n",
       "<td>0.1628</td>\n",
       "<td> (7504.0/46094.0)</td></tr></table></div>"
      ],
      "text/plain": [
       "       0      1     Error    Rate\n",
       "-----  -----  ----  -------  ----------------\n",
       "0      37114  5261  0.1242   (5261.0/42375.0)\n",
       "1      2243   1476  0.6031   (2243.0/3719.0)\n",
       "Total  39357  6737  0.1628   (7504.0/46094.0)"
      ]
     },
     "metadata": {},
     "output_type": "display_data"
    },
    {
     "name": "stdout",
     "output_type": "stream",
     "text": [
      "Maximum Metrics: Maximum metrics at their respective thresholds\n",
      "\n"
     ]
    },
    {
     "data": {
      "text/html": [
       "<div style=\"overflow:auto\"><table style=\"width:50%\"><tr><td><b>metric</b></td>\n",
       "<td><b>threshold</b></td>\n",
       "<td><b>value</b></td>\n",
       "<td><b>idx</b></td></tr>\n",
       "<tr><td>max f1</td>\n",
       "<td>0.1458998</td>\n",
       "<td>0.2823259</td>\n",
       "<td>194.0</td></tr>\n",
       "<tr><td>max f2</td>\n",
       "<td>0.0925309</td>\n",
       "<td>0.4028569</td>\n",
       "<td>255.0</td></tr>\n",
       "<tr><td>max f0point5</td>\n",
       "<td>0.2221020</td>\n",
       "<td>0.2630880</td>\n",
       "<td>132.0</td></tr>\n",
       "<tr><td>max accuracy</td>\n",
       "<td>0.7133203</td>\n",
       "<td>0.9192954</td>\n",
       "<td>0.0</td></tr>\n",
       "<tr><td>max precision</td>\n",
       "<td>0.4285754</td>\n",
       "<td>0.4202899</td>\n",
       "<td>38.0</td></tr>\n",
       "<tr><td>max recall</td>\n",
       "<td>0.0033296</td>\n",
       "<td>1.0</td>\n",
       "<td>399.0</td></tr>\n",
       "<tr><td>max specificity</td>\n",
       "<td>0.7133203</td>\n",
       "<td>0.9999764</td>\n",
       "<td>0.0</td></tr>\n",
       "<tr><td>max absolute_mcc</td>\n",
       "<td>0.1155290</td>\n",
       "<td>0.2163836</td>\n",
       "<td>225.0</td></tr>\n",
       "<tr><td>max min_per_class_accuracy</td>\n",
       "<td>0.0794400</td>\n",
       "<td>0.6727552</td>\n",
       "<td>273.0</td></tr>\n",
       "<tr><td>max mean_per_class_accuracy</td>\n",
       "<td>0.0925309</td>\n",
       "<td>0.6750643</td>\n",
       "<td>255.0</td></tr></table></div>"
      ],
      "text/plain": [
       "metric                       threshold    value     idx\n",
       "---------------------------  -----------  --------  -----\n",
       "max f1                       0.1459       0.282326  194\n",
       "max f2                       0.0925309    0.402857  255\n",
       "max f0point5                 0.222102     0.263088  132\n",
       "max accuracy                 0.71332      0.919295  0\n",
       "max precision                0.428575     0.42029   38\n",
       "max recall                   0.00332963   1         399\n",
       "max specificity              0.71332      0.999976  0\n",
       "max absolute_mcc             0.115529     0.216384  225\n",
       "max min_per_class_accuracy   0.07944      0.672755  273\n",
       "max mean_per_class_accuracy  0.0925309    0.675064  255"
      ]
     },
     "metadata": {},
     "output_type": "display_data"
    },
    {
     "name": "stdout",
     "output_type": "stream",
     "text": [
      "Gains/Lift Table: Avg response rate:  8.07 %\n",
      "\n"
     ]
    },
    {
     "data": {
      "text/html": [
       "<div style=\"overflow:auto\"><table style=\"width:50%\"><tr><td><b></b></td>\n",
       "<td><b>group</b></td>\n",
       "<td><b>cumulative_data_fraction</b></td>\n",
       "<td><b>lower_threshold</b></td>\n",
       "<td><b>lift</b></td>\n",
       "<td><b>cumulative_lift</b></td>\n",
       "<td><b>response_rate</b></td>\n",
       "<td><b>cumulative_response_rate</b></td>\n",
       "<td><b>capture_rate</b></td>\n",
       "<td><b>cumulative_capture_rate</b></td>\n",
       "<td><b>gain</b></td>\n",
       "<td><b>cumulative_gain</b></td></tr>\n",
       "<tr><td></td>\n",
       "<td>1</td>\n",
       "<td>0.0100013</td>\n",
       "<td>0.3833143</td>\n",
       "<td>4.7049536</td>\n",
       "<td>4.7049536</td>\n",
       "<td>0.3796095</td>\n",
       "<td>0.3796095</td>\n",
       "<td>0.0470557</td>\n",
       "<td>0.0470557</td>\n",
       "<td>370.4953574</td>\n",
       "<td>370.4953574</td></tr>\n",
       "<tr><td></td>\n",
       "<td>2</td>\n",
       "<td>0.0200026</td>\n",
       "<td>0.3229755</td>\n",
       "<td>3.6833065</td>\n",
       "<td>4.1941300</td>\n",
       "<td>0.2971800</td>\n",
       "<td>0.3383948</td>\n",
       "<td>0.0368379</td>\n",
       "<td>0.0838935</td>\n",
       "<td>268.3306512</td>\n",
       "<td>319.4130043</td></tr>\n",
       "<tr><td></td>\n",
       "<td>3</td>\n",
       "<td>0.0300039</td>\n",
       "<td>0.2867719</td>\n",
       "<td>3.4413375</td>\n",
       "<td>3.9431992</td>\n",
       "<td>0.2776573</td>\n",
       "<td>0.3181490</td>\n",
       "<td>0.0344179</td>\n",
       "<td>0.1183114</td>\n",
       "<td>244.1337471</td>\n",
       "<td>294.3199186</td></tr>\n",
       "<tr><td></td>\n",
       "<td>4</td>\n",
       "<td>0.0400052</td>\n",
       "<td>0.2595684</td>\n",
       "<td>3.1187121</td>\n",
       "<td>3.7370774</td>\n",
       "<td>0.2516269</td>\n",
       "<td>0.3015184</td>\n",
       "<td>0.0311912</td>\n",
       "<td>0.1495026</td>\n",
       "<td>211.8712084</td>\n",
       "<td>273.7077410</td></tr>\n",
       "<tr><td></td>\n",
       "<td>5</td>\n",
       "<td>0.0500065</td>\n",
       "<td>0.2391635</td>\n",
       "<td>2.7692012</td>\n",
       "<td>3.5435022</td>\n",
       "<td>0.2234273</td>\n",
       "<td>0.2859002</td>\n",
       "<td>0.0276956</td>\n",
       "<td>0.1771982</td>\n",
       "<td>176.9201247</td>\n",
       "<td>254.3502178</td></tr>\n",
       "<tr><td></td>\n",
       "<td>6</td>\n",
       "<td>0.1000130</td>\n",
       "<td>0.1779950</td>\n",
       "<td>2.5863802</td>\n",
       "<td>3.0649412</td>\n",
       "<td>0.2086768</td>\n",
       "<td>0.2472885</td>\n",
       "<td>0.1293358</td>\n",
       "<td>0.3065340</td>\n",
       "<td>158.6380193</td>\n",
       "<td>206.4941186</td></tr>\n",
       "<tr><td></td>\n",
       "<td>7</td>\n",
       "<td>0.1499978</td>\n",
       "<td>0.1433090</td>\n",
       "<td>1.9204542</td>\n",
       "<td>2.6835559</td>\n",
       "<td>0.1549479</td>\n",
       "<td>0.2165172</td>\n",
       "<td>0.0959935</td>\n",
       "<td>0.4025276</td>\n",
       "<td>92.0454227</td>\n",
       "<td>168.3555887</td></tr>\n",
       "<tr><td></td>\n",
       "<td>8</td>\n",
       "<td>0.2000043</td>\n",
       "<td>0.1205509</td>\n",
       "<td>1.7206687</td>\n",
       "<td>2.4428080</td>\n",
       "<td>0.1388286</td>\n",
       "<td>0.1970930</td>\n",
       "<td>0.0860446</td>\n",
       "<td>0.4885722</td>\n",
       "<td>72.0668736</td>\n",
       "<td>144.2807988</td></tr>\n",
       "<tr><td></td>\n",
       "<td>9</td>\n",
       "<td>0.2999957</td>\n",
       "<td>0.0906135</td>\n",
       "<td>1.3230511</td>\n",
       "<td>2.0695827</td>\n",
       "<td>0.1067477</td>\n",
       "<td>0.1669800</td>\n",
       "<td>0.1322936</td>\n",
       "<td>0.6208658</td>\n",
       "<td>32.3051086</td>\n",
       "<td>106.9582680</td></tr>\n",
       "<tr><td></td>\n",
       "<td>10</td>\n",
       "<td>0.4000087</td>\n",
       "<td>0.0713816</td>\n",
       "<td>0.9302365</td>\n",
       "<td>1.7847152</td>\n",
       "<td>0.0750542</td>\n",
       "<td>0.1439961</td>\n",
       "<td>0.0930358</td>\n",
       "<td>0.7139016</td>\n",
       "<td>-6.9763465</td>\n",
       "<td>78.4715247</td></tr>\n",
       "<tr><td></td>\n",
       "<td>11</td>\n",
       "<td>0.5</td>\n",
       "<td>0.0567128</td>\n",
       "<td>0.8067385</td>\n",
       "<td>1.5891369</td>\n",
       "<td>0.0650900</td>\n",
       "<td>0.1282163</td>\n",
       "<td>0.0806668</td>\n",
       "<td>0.7945684</td>\n",
       "<td>-19.3261533</td>\n",
       "<td>58.9136865</td></tr>\n",
       "<tr><td></td>\n",
       "<td>12</td>\n",
       "<td>0.5999913</td>\n",
       "<td>0.0453582</td>\n",
       "<td>0.6507690</td>\n",
       "<td>1.4327535</td>\n",
       "<td>0.0525060</td>\n",
       "<td>0.1155988</td>\n",
       "<td>0.0650713</td>\n",
       "<td>0.8596397</td>\n",
       "<td>-34.9230970</td>\n",
       "<td>43.2753536</td></tr>\n",
       "<tr><td></td>\n",
       "<td>13</td>\n",
       "<td>0.7000043</td>\n",
       "<td>0.0360073</td>\n",
       "<td>0.5242663</td>\n",
       "<td>1.3029535</td>\n",
       "<td>0.0422993</td>\n",
       "<td>0.1051261</td>\n",
       "<td>0.0524334</td>\n",
       "<td>0.9120731</td>\n",
       "<td>-47.5733745</td>\n",
       "<td>30.2953549</td></tr>\n",
       "<tr><td></td>\n",
       "<td>14</td>\n",
       "<td>0.7999957</td>\n",
       "<td>0.0276201</td>\n",
       "<td>0.3603432</td>\n",
       "<td>1.1851368</td>\n",
       "<td>0.0290736</td>\n",
       "<td>0.0956203</td>\n",
       "<td>0.0360312</td>\n",
       "<td>0.9481043</td>\n",
       "<td>-63.9656818</td>\n",
       "<td>18.5136839</td></tr>\n",
       "<tr><td></td>\n",
       "<td>15</td>\n",
       "<td>0.8999870</td>\n",
       "<td>0.0192866</td>\n",
       "<td>0.3388302</td>\n",
       "<td>1.0911096</td>\n",
       "<td>0.0273378</td>\n",
       "<td>0.0880339</td>\n",
       "<td>0.0338801</td>\n",
       "<td>0.9819844</td>\n",
       "<td>-66.1169844</td>\n",
       "<td>9.1109564</td></tr>\n",
       "<tr><td></td>\n",
       "<td>16</td>\n",
       "<td>1.0</td>\n",
       "<td>0.0008961</td>\n",
       "<td>0.1801325</td>\n",
       "<td>1.0</td>\n",
       "<td>0.0145336</td>\n",
       "<td>0.0806830</td>\n",
       "<td>0.0180156</td>\n",
       "<td>1.0</td>\n",
       "<td>-81.9867492</td>\n",
       "<td>0.0</td></tr></table></div>"
      ],
      "text/plain": [
       "    group    cumulative_data_fraction    lower_threshold    lift      cumulative_lift    response_rate    cumulative_response_rate    capture_rate    cumulative_capture_rate    gain      cumulative_gain\n",
       "--  -------  --------------------------  -----------------  --------  -----------------  ---------------  --------------------------  --------------  -------------------------  --------  -----------------\n",
       "    1        0.0100013                   0.383314           4.70495   4.70495            0.37961          0.37961                     0.0470557       0.0470557                  370.495   370.495\n",
       "    2        0.0200026                   0.322975           3.68331   4.19413            0.29718          0.338395                    0.0368379       0.0838935                  268.331   319.413\n",
       "    3        0.0300039                   0.286772           3.44134   3.9432             0.277657         0.318149                    0.0344179       0.118311                   244.134   294.32\n",
       "    4        0.0400052                   0.259568           3.11871   3.73708            0.251627         0.301518                    0.0311912       0.149503                   211.871   273.708\n",
       "    5        0.0500065                   0.239164           2.7692    3.5435             0.223427         0.2859                      0.0276956       0.177198                   176.92    254.35\n",
       "    6        0.100013                    0.177995           2.58638   3.06494            0.208677         0.247289                    0.129336        0.306534                   158.638   206.494\n",
       "    7        0.149998                    0.143309           1.92045   2.68356            0.154948         0.216517                    0.0959935       0.402528                   92.0454   168.356\n",
       "    8        0.200004                    0.120551           1.72067   2.44281            0.138829         0.197093                    0.0860446       0.488572                   72.0669   144.281\n",
       "    9        0.299996                    0.0906135          1.32305   2.06958            0.106748         0.16698                     0.132294        0.620866                   32.3051   106.958\n",
       "    10       0.400009                    0.0713816          0.930237  1.78472            0.0750542        0.143996                    0.0930358       0.713902                   -6.97635  78.4715\n",
       "    11       0.5                         0.0567128          0.806738  1.58914            0.06509          0.128216                    0.0806668       0.794568                   -19.3262  58.9137\n",
       "    12       0.599991                    0.0453582          0.650769  1.43275            0.052506         0.115599                    0.0650713       0.85964                    -34.9231  43.2754\n",
       "    13       0.700004                    0.0360073          0.524266  1.30295            0.0422993        0.105126                    0.0524334       0.912073                   -47.5734  30.2954\n",
       "    14       0.799996                    0.0276201          0.360343  1.18514            0.0290736        0.0956203                   0.0360312       0.948104                   -63.9657  18.5137\n",
       "    15       0.899987                    0.0192866          0.33883   1.09111            0.0273378        0.0880339                   0.0338801       0.981984                   -66.117   9.11096\n",
       "    16       1                           0.000896131        0.180133  1                  0.0145336        0.080683                    0.0180156       1                          -81.9867  0"
      ]
     },
     "metadata": {},
     "output_type": "display_data"
    },
    {
     "name": "stdout",
     "output_type": "stream",
     "text": [
      "\n",
      "\n",
      "\n",
      "ModelMetricsBinomialGLM: glm\n",
      "** Reported on test data. **\n",
      "\n",
      "MSE: 0.06944986085156654\n",
      "RMSE: 0.26353341505692696\n",
      "LogLoss: 0.253021039895118\n",
      "Null degrees of freedom: 46093\n",
      "Residual degrees of freedom: 45961\n",
      "Null deviance: 25852.80076184814\n",
      "Residual deviance: 23325.50362585114\n",
      "AIC: 23591.50362585114\n",
      "AUC: 0.7354684618014327\n",
      "Gini: 0.4709369236028653\n",
      "Confusion Matrix (Act/Pred) for max f1 @ threshold = 0.1277240614751547: \n"
     ]
    },
    {
     "data": {
      "text/html": [
       "<div style=\"overflow:auto\"><table style=\"width:50%\"><tr><td><b></b></td>\n",
       "<td><b>0</b></td>\n",
       "<td><b>1</b></td>\n",
       "<td><b>Error</b></td>\n",
       "<td><b>Rate</b></td></tr>\n",
       "<tr><td>0</td>\n",
       "<td>35663.0</td>\n",
       "<td>6712.0</td>\n",
       "<td>0.1584</td>\n",
       "<td> (6712.0/42375.0)</td></tr>\n",
       "<tr><td>1</td>\n",
       "<td>2007.0</td>\n",
       "<td>1712.0</td>\n",
       "<td>0.5397</td>\n",
       "<td> (2007.0/3719.0)</td></tr>\n",
       "<tr><td>Total</td>\n",
       "<td>37670.0</td>\n",
       "<td>8424.0</td>\n",
       "<td>0.1892</td>\n",
       "<td> (8719.0/46094.0)</td></tr></table></div>"
      ],
      "text/plain": [
       "       0      1     Error    Rate\n",
       "-----  -----  ----  -------  ----------------\n",
       "0      35663  6712  0.1584   (6712.0/42375.0)\n",
       "1      2007   1712  0.5397   (2007.0/3719.0)\n",
       "Total  37670  8424  0.1892   (8719.0/46094.0)"
      ]
     },
     "metadata": {},
     "output_type": "display_data"
    },
    {
     "name": "stdout",
     "output_type": "stream",
     "text": [
      "Maximum Metrics: Maximum metrics at their respective thresholds\n",
      "\n"
     ]
    },
    {
     "data": {
      "text/html": [
       "<div style=\"overflow:auto\"><table style=\"width:50%\"><tr><td><b>metric</b></td>\n",
       "<td><b>threshold</b></td>\n",
       "<td><b>value</b></td>\n",
       "<td><b>idx</b></td></tr>\n",
       "<tr><td>max f1</td>\n",
       "<td>0.1277241</td>\n",
       "<td>0.2819732</td>\n",
       "<td>213.0</td></tr>\n",
       "<tr><td>max f2</td>\n",
       "<td>0.0871677</td>\n",
       "<td>0.4031630</td>\n",
       "<td>262.0</td></tr>\n",
       "<tr><td>max f0point5</td>\n",
       "<td>0.2165783</td>\n",
       "<td>0.2625040</td>\n",
       "<td>137.0</td></tr>\n",
       "<tr><td>max accuracy</td>\n",
       "<td>0.7121572</td>\n",
       "<td>0.9192954</td>\n",
       "<td>0.0</td></tr>\n",
       "<tr><td>max precision</td>\n",
       "<td>0.4898296</td>\n",
       "<td>0.4174757</td>\n",
       "<td>23.0</td></tr>\n",
       "<tr><td>max recall</td>\n",
       "<td>0.0034804</td>\n",
       "<td>1.0</td>\n",
       "<td>399.0</td></tr>\n",
       "<tr><td>max specificity</td>\n",
       "<td>0.7121572</td>\n",
       "<td>0.9999764</td>\n",
       "<td>0.0</td></tr>\n",
       "<tr><td>max absolute_mcc</td>\n",
       "<td>0.1167095</td>\n",
       "<td>0.2150039</td>\n",
       "<td>226.0</td></tr>\n",
       "<tr><td>max min_per_class_accuracy</td>\n",
       "<td>0.0794279</td>\n",
       "<td>0.6720472</td>\n",
       "<td>273.0</td></tr>\n",
       "<tr><td>max mean_per_class_accuracy</td>\n",
       "<td>0.0871677</td>\n",
       "<td>0.6753106</td>\n",
       "<td>262.0</td></tr></table></div>"
      ],
      "text/plain": [
       "metric                       threshold    value     idx\n",
       "---------------------------  -----------  --------  -----\n",
       "max f1                       0.127724     0.281973  213\n",
       "max f2                       0.0871677    0.403163  262\n",
       "max f0point5                 0.216578     0.262504  137\n",
       "max accuracy                 0.712157     0.919295  0\n",
       "max precision                0.48983      0.417476  23\n",
       "max recall                   0.00348038   1         399\n",
       "max specificity              0.712157     0.999976  0\n",
       "max absolute_mcc             0.11671      0.215004  226\n",
       "max min_per_class_accuracy   0.0794279    0.672047  273\n",
       "max mean_per_class_accuracy  0.0871677    0.675311  262"
      ]
     },
     "metadata": {},
     "output_type": "display_data"
    },
    {
     "name": "stdout",
     "output_type": "stream",
     "text": [
      "Gains/Lift Table: Avg response rate:  8.07 %\n",
      "\n"
     ]
    },
    {
     "data": {
      "text/html": [
       "<div style=\"overflow:auto\"><table style=\"width:50%\"><tr><td><b></b></td>\n",
       "<td><b>group</b></td>\n",
       "<td><b>cumulative_data_fraction</b></td>\n",
       "<td><b>lower_threshold</b></td>\n",
       "<td><b>lift</b></td>\n",
       "<td><b>cumulative_lift</b></td>\n",
       "<td><b>response_rate</b></td>\n",
       "<td><b>cumulative_response_rate</b></td>\n",
       "<td><b>capture_rate</b></td>\n",
       "<td><b>cumulative_capture_rate</b></td>\n",
       "<td><b>gain</b></td>\n",
       "<td><b>cumulative_gain</b></td></tr>\n",
       "<tr><td></td>\n",
       "<td>1</td>\n",
       "<td>0.0100013</td>\n",
       "<td>0.3800765</td>\n",
       "<td>4.6780681</td>\n",
       "<td>4.6780681</td>\n",
       "<td>0.3774403</td>\n",
       "<td>0.3774403</td>\n",
       "<td>0.0467868</td>\n",
       "<td>0.0467868</td>\n",
       "<td>367.8068125</td>\n",
       "<td>367.8068125</td></tr>\n",
       "<tr><td></td>\n",
       "<td>2</td>\n",
       "<td>0.0200026</td>\n",
       "<td>0.3213205</td>\n",
       "<td>3.6833065</td>\n",
       "<td>4.1806873</td>\n",
       "<td>0.2971800</td>\n",
       "<td>0.3373102</td>\n",
       "<td>0.0368379</td>\n",
       "<td>0.0836246</td>\n",
       "<td>268.3306512</td>\n",
       "<td>318.0687319</td></tr>\n",
       "<tr><td></td>\n",
       "<td>3</td>\n",
       "<td>0.0300039</td>\n",
       "<td>0.2841568</td>\n",
       "<td>3.4413375</td>\n",
       "<td>3.9342374</td>\n",
       "<td>0.2776573</td>\n",
       "<td>0.3174259</td>\n",
       "<td>0.0344179</td>\n",
       "<td>0.1180425</td>\n",
       "<td>244.1337471</td>\n",
       "<td>293.4237370</td></tr>\n",
       "<tr><td></td>\n",
       "<td>4</td>\n",
       "<td>0.0400052</td>\n",
       "<td>0.2585504</td>\n",
       "<td>3.2800248</td>\n",
       "<td>3.7706842</td>\n",
       "<td>0.2646421</td>\n",
       "<td>0.3042299</td>\n",
       "<td>0.0328045</td>\n",
       "<td>0.1508470</td>\n",
       "<td>228.0024777</td>\n",
       "<td>277.0684222</td></tr>\n",
       "<tr><td></td>\n",
       "<td>5</td>\n",
       "<td>0.0500065</td>\n",
       "<td>0.2379283</td>\n",
       "<td>2.6616595</td>\n",
       "<td>3.5488793</td>\n",
       "<td>0.2147505</td>\n",
       "<td>0.2863341</td>\n",
       "<td>0.0266201</td>\n",
       "<td>0.1774671</td>\n",
       "<td>166.1659451</td>\n",
       "<td>254.8879267</td></tr>\n",
       "<tr><td></td>\n",
       "<td>6</td>\n",
       "<td>0.1000130</td>\n",
       "<td>0.1776534</td>\n",
       "<td>2.5702489</td>\n",
       "<td>3.0595641</td>\n",
       "<td>0.2073753</td>\n",
       "<td>0.2468547</td>\n",
       "<td>0.1285292</td>\n",
       "<td>0.3059962</td>\n",
       "<td>157.0248924</td>\n",
       "<td>205.9564096</td></tr>\n",
       "<tr><td></td>\n",
       "<td>7</td>\n",
       "<td>0.1499978</td>\n",
       "<td>0.1429577</td>\n",
       "<td>1.9043160</td>\n",
       "<td>2.6745928</td>\n",
       "<td>0.1536458</td>\n",
       "<td>0.2157940</td>\n",
       "<td>0.0951869</td>\n",
       "<td>0.4011831</td>\n",
       "<td>90.4315956</td>\n",
       "<td>167.4592775</td></tr>\n",
       "<tr><td></td>\n",
       "<td>8</td>\n",
       "<td>0.2000043</td>\n",
       "<td>0.1204056</td>\n",
       "<td>1.7636855</td>\n",
       "<td>2.4468412</td>\n",
       "<td>0.1422993</td>\n",
       "<td>0.1974184</td>\n",
       "<td>0.0881958</td>\n",
       "<td>0.4893789</td>\n",
       "<td>76.3685454</td>\n",
       "<td>144.6841243</td></tr>\n",
       "<tr><td></td>\n",
       "<td>9</td>\n",
       "<td>0.2999957</td>\n",
       "<td>0.0907022</td>\n",
       "<td>1.3122946</td>\n",
       "<td>2.0686864</td>\n",
       "<td>0.1058798</td>\n",
       "<td>0.1669077</td>\n",
       "<td>0.1312181</td>\n",
       "<td>0.6205969</td>\n",
       "<td>31.2294574</td>\n",
       "<td>106.8686369</td></tr>\n",
       "<tr><td></td>\n",
       "<td>10</td>\n",
       "<td>0.4000087</td>\n",
       "<td>0.0714614</td>\n",
       "<td>0.9356136</td>\n",
       "<td>1.7853875</td>\n",
       "<td>0.0754881</td>\n",
       "<td>0.1440503</td>\n",
       "<td>0.0935735</td>\n",
       "<td>0.7141705</td>\n",
       "<td>-6.4386375</td>\n",
       "<td>78.5387456</td></tr>\n",
       "<tr><td></td>\n",
       "<td>11</td>\n",
       "<td>0.5</td>\n",
       "<td>0.0568120</td>\n",
       "<td>0.8201841</td>\n",
       "<td>1.5923635</td>\n",
       "<td>0.0661749</td>\n",
       "<td>0.1284766</td>\n",
       "<td>0.0820113</td>\n",
       "<td>0.7961818</td>\n",
       "<td>-17.9815892</td>\n",
       "<td>59.2363539</td></tr>\n",
       "<tr><td></td>\n",
       "<td>12</td>\n",
       "<td>0.5999913</td>\n",
       "<td>0.0455939</td>\n",
       "<td>0.6427016</td>\n",
       "<td>1.4340980</td>\n",
       "<td>0.0518551</td>\n",
       "<td>0.1157073</td>\n",
       "<td>0.0642646</td>\n",
       "<td>0.8604464</td>\n",
       "<td>-35.7298354</td>\n",
       "<td>43.4098003</td></tr>\n",
       "<tr><td></td>\n",
       "<td>13</td>\n",
       "<td>0.7000043</td>\n",
       "<td>0.0362103</td>\n",
       "<td>0.5188892</td>\n",
       "<td>1.3033377</td>\n",
       "<td>0.0418655</td>\n",
       "<td>0.1051571</td>\n",
       "<td>0.0518957</td>\n",
       "<td>0.9123420</td>\n",
       "<td>-48.1110834</td>\n",
       "<td>30.3337675</td></tr>\n",
       "<tr><td></td>\n",
       "<td>14</td>\n",
       "<td>0.7999957</td>\n",
       "<td>0.0278518</td>\n",
       "<td>0.3684106</td>\n",
       "<td>1.1864813</td>\n",
       "<td>0.0297245</td>\n",
       "<td>0.0957288</td>\n",
       "<td>0.0368379</td>\n",
       "<td>0.9491799</td>\n",
       "<td>-63.1589433</td>\n",
       "<td>18.6481294</td></tr>\n",
       "<tr><td></td>\n",
       "<td>15</td>\n",
       "<td>0.8999870</td>\n",
       "<td>0.0194949</td>\n",
       "<td>0.3253845</td>\n",
       "<td>1.0908108</td>\n",
       "<td>0.0262530</td>\n",
       "<td>0.0880098</td>\n",
       "<td>0.0325356</td>\n",
       "<td>0.9817155</td>\n",
       "<td>-67.4615485</td>\n",
       "<td>9.0810793</td></tr>\n",
       "<tr><td></td>\n",
       "<td>16</td>\n",
       "<td>1.0</td>\n",
       "<td>0.0014208</td>\n",
       "<td>0.1828211</td>\n",
       "<td>1.0</td>\n",
       "<td>0.0147505</td>\n",
       "<td>0.0806830</td>\n",
       "<td>0.0182845</td>\n",
       "<td>1.0</td>\n",
       "<td>-81.7178947</td>\n",
       "<td>0.0</td></tr></table></div>"
      ],
      "text/plain": [
       "    group    cumulative_data_fraction    lower_threshold    lift      cumulative_lift    response_rate    cumulative_response_rate    capture_rate    cumulative_capture_rate    gain      cumulative_gain\n",
       "--  -------  --------------------------  -----------------  --------  -----------------  ---------------  --------------------------  --------------  -------------------------  --------  -----------------\n",
       "    1        0.0100013                   0.380076           4.67807   4.67807            0.37744          0.37744                     0.0467868       0.0467868                  367.807   367.807\n",
       "    2        0.0200026                   0.321321           3.68331   4.18069            0.29718          0.33731                     0.0368379       0.0836246                  268.331   318.069\n",
       "    3        0.0300039                   0.284157           3.44134   3.93424            0.277657         0.317426                    0.0344179       0.118042                   244.134   293.424\n",
       "    4        0.0400052                   0.25855            3.28002   3.77068            0.264642         0.30423                     0.0328045       0.150847                   228.002   277.068\n",
       "    5        0.0500065                   0.237928           2.66166   3.54888            0.214751         0.286334                    0.0266201       0.177467                   166.166   254.888\n",
       "    6        0.100013                    0.177653           2.57025   3.05956            0.207375         0.246855                    0.128529        0.305996                   157.025   205.956\n",
       "    7        0.149998                    0.142958           1.90432   2.67459            0.153646         0.215794                    0.0951869       0.401183                   90.4316   167.459\n",
       "    8        0.200004                    0.120406           1.76369   2.44684            0.142299         0.197418                    0.0881958       0.489379                   76.3685   144.684\n",
       "    9        0.299996                    0.0907022          1.31229   2.06869            0.10588          0.166908                    0.131218        0.620597                   31.2295   106.869\n",
       "    10       0.400009                    0.0714614          0.935614  1.78539            0.0754881        0.14405                     0.0935735       0.71417                    -6.43864  78.5387\n",
       "    11       0.5                         0.056812           0.820184  1.59236            0.0661749        0.128477                    0.0820113       0.796182                   -17.9816  59.2364\n",
       "    12       0.599991                    0.0455939          0.642702  1.4341             0.0518551        0.115707                    0.0642646       0.860446                   -35.7298  43.4098\n",
       "    13       0.700004                    0.0362103          0.518889  1.30334            0.0418655        0.105157                    0.0518957       0.912342                   -48.1111  30.3338\n",
       "    14       0.799996                    0.0278518          0.368411  1.18648            0.0297245        0.0957288                   0.0368379       0.94918                    -63.1589  18.6481\n",
       "    15       0.899987                    0.0194949          0.325385  1.09081            0.026253         0.0880098                   0.0325356       0.981716                   -67.4615  9.08108\n",
       "    16       1                           0.0014208          0.182821  1                  0.0147505        0.080683                    0.0182845       1                          -81.7179  0"
      ]
     },
     "metadata": {},
     "output_type": "display_data"
    },
    {
     "name": "stdout",
     "output_type": "stream",
     "text": [
      "\n",
      "\n"
     ]
    }
   ],
   "source": [
    "print (glm_perf1)\n",
    "print (glm_perf2)"
   ]
  },
  {
   "cell_type": "code",
   "execution_count": 25,
   "metadata": {},
   "outputs": [
    {
     "name": "stdout",
     "output_type": "stream",
     "text": [
      "0.7354233010586632\n",
      "0.7354684618014327\n"
     ]
    }
   ],
   "source": [
    "print (glm_perf1.auc())\n",
    "print (glm_perf2.auc())"
   ]
  },
  {
   "cell_type": "code",
   "execution_count": 26,
   "metadata": {},
   "outputs": [
    {
     "name": "stdout",
     "output_type": "stream",
     "text": [
      "0.7499640025843041\n",
      "0.7420544649633977\n"
     ]
    }
   ],
   "source": [
    "print (glm_fit2.auc(train=True))\n",
    "print (glm_fit2.auc(valid=True))"
   ]
  },
  {
   "cell_type": "code",
   "execution_count": 27,
   "metadata": {},
   "outputs": [],
   "source": [
    "from h2o.estimators.random_forest import H2ORandomForestEstimator"
   ]
  },
  {
   "cell_type": "code",
   "execution_count": 28,
   "metadata": {},
   "outputs": [],
   "source": [
    "rf_fit1 = H2ORandomForestEstimator(model_id='rf_fit1', seed=1)"
   ]
  },
  {
   "cell_type": "code",
   "execution_count": 29,
   "metadata": {},
   "outputs": [
    {
     "name": "stdout",
     "output_type": "stream",
     "text": [
      "drf Model Build progress: |███████████████████████████████████████████████| 100%\n"
     ]
    }
   ],
   "source": [
    "rf_fit1.train(x=x, y=y, training_frame=train)"
   ]
  },
  {
   "cell_type": "code",
   "execution_count": 31,
   "metadata": {},
   "outputs": [
    {
     "name": "stdout",
     "output_type": "stream",
     "text": [
      "drf Model Build progress: |███████████████████████████████████████████████| 100%\n"
     ]
    }
   ],
   "source": [
    "rf_fit2 = H2ORandomForestEstimator(model_id='rf_fit2', ntrees=500, seed=1)\n",
    "rf_fit2.train(x=x, y=y, training_frame=train)"
   ]
  },
  {
   "cell_type": "code",
   "execution_count": 32,
   "metadata": {},
   "outputs": [],
   "source": [
    "rf_perf1 = rf_fit1.model_performance(test)\n",
    "rf_perf2 = rf_fit2.model_performance(test)"
   ]
  },
  {
   "cell_type": "code",
   "execution_count": 34,
   "metadata": {},
   "outputs": [
    {
     "name": "stdout",
     "output_type": "stream",
     "text": [
      "0.7145046222816581\n",
      "0.7295626238854769\n"
     ]
    }
   ],
   "source": [
    "print (rf_perf1.auc())\n",
    "print (rf_perf2.auc())"
   ]
  },
  {
   "cell_type": "code",
   "execution_count": 17,
   "metadata": {},
   "outputs": [],
   "source": [
    "from h2o.estimators.gbm import H2OGradientBoostingEstimator"
   ]
  },
  {
   "cell_type": "code",
   "execution_count": 18,
   "metadata": {},
   "outputs": [
    {
     "name": "stdout",
     "output_type": "stream",
     "text": [
      "gbm Model Build progress: |███████████████████████████████████████████████| 100%\n"
     ]
    }
   ],
   "source": [
    "gbm_fit1 = H2OGradientBoostingEstimator(model_id='gbm_fit1', seed=1)\n",
    "gbm_fit1.train(x=x, y=y, training_frame=train)"
   ]
  },
  {
   "cell_type": "code",
   "execution_count": 19,
   "metadata": {},
   "outputs": [
    {
     "name": "stdout",
     "output_type": "stream",
     "text": [
      "gbm Model Build progress: |███████████████████████████████████████████████| 100%\n"
     ]
    }
   ],
   "source": [
    "gbm_fit2 = H2OGradientBoostingEstimator(model_id='gbm_fit2', ntrees=500, seed=1)\n",
    "gbm_fit2.train(x=x, y=y, training_frame=train)\n"
   ]
  },
  {
   "cell_type": "code",
   "execution_count": 20,
   "metadata": {},
   "outputs": [
    {
     "name": "stdout",
     "output_type": "stream",
     "text": [
      "gbm Model Build progress: |███████████████████████████████████████████████| 100%\n"
     ]
    }
   ],
   "source": [
    "gbm_fit3 = H2OGradientBoostingEstimator(model_id='gbm_fit3', \n",
    "                                        ntrees=500, \n",
    "                                        score_tree_interval=5,     #used for early stopping\n",
    "                                        stopping_rounds=3,         #used for early stopping\n",
    "                                        stopping_metric='AUC',     #used for early stopping\n",
    "                                        stopping_tolerance=0.0005, #used for early stopping\n",
    "                                        seed=1)\n",
    "gbm_fit3.train(x=x, y=y, training_frame=train, validation_frame=valid)"
   ]
  },
  {
   "cell_type": "code",
   "execution_count": 22,
   "metadata": {},
   "outputs": [
    {
     "name": "stdout",
     "output_type": "stream",
     "text": [
      "Model Details\n",
      "=============\n",
      "H2OGradientBoostingEstimator :  Gradient Boosting Machine\n",
      "Model Key:  gbm_fit3\n",
      "\n",
      "\n",
      "ModelMetricsBinomial: gbm\n",
      "** Reported on train data. **\n",
      "\n",
      "MSE: 0.0644233729707005\n",
      "RMSE: 0.2538175978349423\n",
      "LogLoss: 0.23280150116037931\n",
      "Mean Per-Class Error: 0.27651474981911695\n",
      "AUC: 0.7999374266291674\n",
      "Gini: 0.5998748532583349\n",
      "Confusion Matrix (Act/Pred) for max f1 @ threshold = 0.1606547134802201: \n"
     ]
    },
    {
     "data": {
      "text/html": [
       "<div style=\"overflow:auto\"><table style=\"width:50%\"><tr><td><b></b></td>\n",
       "<td><b>0</b></td>\n",
       "<td><b>1</b></td>\n",
       "<td><b>Error</b></td>\n",
       "<td><b>Rate</b></td></tr>\n",
       "<tr><td>0</td>\n",
       "<td>179932.0</td>\n",
       "<td>18010.0</td>\n",
       "<td>0.091</td>\n",
       "<td> (18010.0/197942.0)</td></tr>\n",
       "<tr><td>1</td>\n",
       "<td>9727.0</td>\n",
       "<td>7753.0</td>\n",
       "<td>0.5565</td>\n",
       "<td> (9727.0/17480.0)</td></tr>\n",
       "<tr><td>Total</td>\n",
       "<td>189659.0</td>\n",
       "<td>25763.0</td>\n",
       "<td>0.1288</td>\n",
       "<td> (27737.0/215422.0)</td></tr></table></div>"
      ],
      "text/plain": [
       "       0       1      Error    Rate\n",
       "-----  ------  -----  -------  ------------------\n",
       "0      179932  18010  0.091    (18010.0/197942.0)\n",
       "1      9727    7753   0.5565   (9727.0/17480.0)\n",
       "Total  189659  25763  0.1288   (27737.0/215422.0)"
      ]
     },
     "metadata": {},
     "output_type": "display_data"
    },
    {
     "name": "stdout",
     "output_type": "stream",
     "text": [
      "Maximum Metrics: Maximum metrics at their respective thresholds\n",
      "\n"
     ]
    },
    {
     "data": {
      "text/html": [
       "<div style=\"overflow:auto\"><table style=\"width:50%\"><tr><td><b>metric</b></td>\n",
       "<td><b>threshold</b></td>\n",
       "<td><b>value</b></td>\n",
       "<td><b>idx</b></td></tr>\n",
       "<tr><td>max f1</td>\n",
       "<td>0.1606547</td>\n",
       "<td>0.3585783</td>\n",
       "<td>206.0</td></tr>\n",
       "<tr><td>max f2</td>\n",
       "<td>0.0894643</td>\n",
       "<td>0.4623809</td>\n",
       "<td>273.0</td></tr>\n",
       "<tr><td>max f0point5</td>\n",
       "<td>0.2728475</td>\n",
       "<td>0.3842501</td>\n",
       "<td>134.0</td></tr>\n",
       "<tr><td>max accuracy</td>\n",
       "<td>0.4038893</td>\n",
       "<td>0.9223988</td>\n",
       "<td>80.0</td></tr>\n",
       "<tr><td>max precision</td>\n",
       "<td>0.9166245</td>\n",
       "<td>1.0</td>\n",
       "<td>0.0</td></tr>\n",
       "<tr><td>max recall</td>\n",
       "<td>0.0122168</td>\n",
       "<td>1.0</td>\n",
       "<td>394.0</td></tr>\n",
       "<tr><td>max specificity</td>\n",
       "<td>0.9166245</td>\n",
       "<td>1.0</td>\n",
       "<td>0.0</td></tr>\n",
       "<tr><td>max absolute_mcc</td>\n",
       "<td>0.1606547</td>\n",
       "<td>0.2966706</td>\n",
       "<td>206.0</td></tr>\n",
       "<tr><td>max min_per_class_accuracy</td>\n",
       "<td>0.0815675</td>\n",
       "<td>0.7231664</td>\n",
       "<td>282.0</td></tr>\n",
       "<tr><td>max mean_per_class_accuracy</td>\n",
       "<td>0.0824269</td>\n",
       "<td>0.7234853</td>\n",
       "<td>281.0</td></tr></table></div>"
      ],
      "text/plain": [
       "metric                       threshold    value     idx\n",
       "---------------------------  -----------  --------  -----\n",
       "max f1                       0.160655     0.358578  206\n",
       "max f2                       0.0894643    0.462381  273\n",
       "max f0point5                 0.272847     0.38425   134\n",
       "max accuracy                 0.403889     0.922399  80\n",
       "max precision                0.916624     1         0\n",
       "max recall                   0.0122168    1         394\n",
       "max specificity              0.916624     1         0\n",
       "max absolute_mcc             0.160655     0.296671  206\n",
       "max min_per_class_accuracy   0.0815675    0.723166  282\n",
       "max mean_per_class_accuracy  0.0824269    0.723485  281"
      ]
     },
     "metadata": {},
     "output_type": "display_data"
    },
    {
     "name": "stdout",
     "output_type": "stream",
     "text": [
      "Gains/Lift Table: Avg response rate:  8.11 %\n",
      "\n"
     ]
    },
    {
     "data": {
      "text/html": [
       "<div style=\"overflow:auto\"><table style=\"width:50%\"><tr><td><b></b></td>\n",
       "<td><b>group</b></td>\n",
       "<td><b>cumulative_data_fraction</b></td>\n",
       "<td><b>lower_threshold</b></td>\n",
       "<td><b>lift</b></td>\n",
       "<td><b>cumulative_lift</b></td>\n",
       "<td><b>response_rate</b></td>\n",
       "<td><b>cumulative_response_rate</b></td>\n",
       "<td><b>capture_rate</b></td>\n",
       "<td><b>cumulative_capture_rate</b></td>\n",
       "<td><b>gain</b></td>\n",
       "<td><b>cumulative_gain</b></td></tr>\n",
       "<tr><td></td>\n",
       "<td>1</td>\n",
       "<td>0.0100036</td>\n",
       "<td>0.4311961</td>\n",
       "<td>8.2578796</td>\n",
       "<td>8.2578796</td>\n",
       "<td>0.6700696</td>\n",
       "<td>0.6700696</td>\n",
       "<td>0.0826087</td>\n",
       "<td>0.0826087</td>\n",
       "<td>725.7879552</td>\n",
       "<td>725.7879552</td></tr>\n",
       "<tr><td></td>\n",
       "<td>2</td>\n",
       "<td>0.0200026</td>\n",
       "<td>0.3513212</td>\n",
       "<td>5.6584726</td>\n",
       "<td>6.9584777</td>\n",
       "<td>0.4591458</td>\n",
       "<td>0.5646322</td>\n",
       "<td>0.0565789</td>\n",
       "<td>0.1391876</td>\n",
       "<td>465.8472609</td>\n",
       "<td>595.8477706</td></tr>\n",
       "<tr><td></td>\n",
       "<td>3</td>\n",
       "<td>0.0300016</td>\n",
       "<td>0.3053124</td>\n",
       "<td>4.7087189</td>\n",
       "<td>6.2086741</td>\n",
       "<td>0.3820799</td>\n",
       "<td>0.5037908</td>\n",
       "<td>0.0470824</td>\n",
       "<td>0.1862700</td>\n",
       "<td>370.8718865</td>\n",
       "<td>520.8674125</td></tr>\n",
       "<tr><td></td>\n",
       "<td>4</td>\n",
       "<td>0.0400006</td>\n",
       "<td>0.2739100</td>\n",
       "<td>4.1880707</td>\n",
       "<td>5.7035819</td>\n",
       "<td>0.3398329</td>\n",
       "<td>0.4628061</td>\n",
       "<td>0.0418764</td>\n",
       "<td>0.2281465</td>\n",
       "<td>318.8070728</td>\n",
       "<td>470.3581898</td></tr>\n",
       "<tr><td></td>\n",
       "<td>5</td>\n",
       "<td>0.0500042</td>\n",
       "<td>0.2495706</td>\n",
       "<td>3.6314083</td>\n",
       "<td>5.2890317</td>\n",
       "<td>0.2946636</td>\n",
       "<td>0.4291682</td>\n",
       "<td>0.0363272</td>\n",
       "<td>0.2644737</td>\n",
       "<td>263.1408252</td>\n",
       "<td>428.9031749</td></tr>\n",
       "<tr><td></td>\n",
       "<td>6</td>\n",
       "<td>0.1000037</td>\n",
       "<td>0.1773815</td>\n",
       "<td>2.6979656</td>\n",
       "<td>3.9935588</td>\n",
       "<td>0.2189212</td>\n",
       "<td>0.3240496</td>\n",
       "<td>0.1348970</td>\n",
       "<td>0.3993707</td>\n",
       "<td>169.7965552</td>\n",
       "<td>299.3558787</td></tr>\n",
       "<tr><td></td>\n",
       "<td>7</td>\n",
       "<td>0.1500032</td>\n",
       "<td>0.1391082</td>\n",
       "<td>2.0766783</td>\n",
       "<td>3.3546184</td>\n",
       "<td>0.1685080</td>\n",
       "<td>0.2722040</td>\n",
       "<td>0.1038330</td>\n",
       "<td>0.5032037</td>\n",
       "<td>107.6678319</td>\n",
       "<td>235.4618405</td></tr>\n",
       "<tr><td></td>\n",
       "<td>8</td>\n",
       "<td>0.2000028</td>\n",
       "<td>0.1144472</td>\n",
       "<td>1.6144315</td>\n",
       "<td>2.9195818</td>\n",
       "<td>0.1309999</td>\n",
       "<td>0.2369038</td>\n",
       "<td>0.0807208</td>\n",
       "<td>0.5839245</td>\n",
       "<td>61.4431465</td>\n",
       "<td>191.9581767</td></tr>\n",
       "<tr><td></td>\n",
       "<td>9</td>\n",
       "<td>0.3000019</td>\n",
       "<td>0.0839211</td>\n",
       "<td>1.2625975</td>\n",
       "<td>2.3672622</td>\n",
       "<td>0.1024510</td>\n",
       "<td>0.1920869</td>\n",
       "<td>0.1262586</td>\n",
       "<td>0.7101831</td>\n",
       "<td>26.2597534</td>\n",
       "<td>136.7262236</td></tr>\n",
       "<tr><td></td>\n",
       "<td>10</td>\n",
       "<td>0.4000009</td>\n",
       "<td>0.0650326</td>\n",
       "<td>0.8838755</td>\n",
       "<td>1.9964199</td>\n",
       "<td>0.0717204</td>\n",
       "<td>0.1619956</td>\n",
       "<td>0.0883867</td>\n",
       "<td>0.7985698</td>\n",
       "<td>-11.6124517</td>\n",
       "<td>99.6419851</td></tr>\n",
       "<tr><td></td>\n",
       "<td>11</td>\n",
       "<td>0.5</td>\n",
       "<td>0.0518372</td>\n",
       "<td>0.6830727</td>\n",
       "<td>1.7337529</td>\n",
       "<td>0.0554266</td>\n",
       "<td>0.1406820</td>\n",
       "<td>0.0683066</td>\n",
       "<td>0.8668764</td>\n",
       "<td>-31.6927297</td>\n",
       "<td>73.3752860</td></tr>\n",
       "<tr><td></td>\n",
       "<td>12</td>\n",
       "<td>0.5999991</td>\n",
       "<td>0.0419838</td>\n",
       "<td>0.4765490</td>\n",
       "<td>1.5242205</td>\n",
       "<td>0.0386686</td>\n",
       "<td>0.1236799</td>\n",
       "<td>0.0476545</td>\n",
       "<td>0.9145309</td>\n",
       "<td>-52.3450953</td>\n",
       "<td>52.4220513</td></tr>\n",
       "<tr><td></td>\n",
       "<td>13</td>\n",
       "<td>0.6999981</td>\n",
       "<td>0.0342269</td>\n",
       "<td>0.3678524</td>\n",
       "<td>1.3590262</td>\n",
       "<td>0.0298487</td>\n",
       "<td>0.1102755</td>\n",
       "<td>0.0367849</td>\n",
       "<td>0.9513158</td>\n",
       "<td>-63.2147615</td>\n",
       "<td>35.9026161</td></tr>\n",
       "<tr><td></td>\n",
       "<td>14</td>\n",
       "<td>0.7999972</td>\n",
       "<td>0.0276707</td>\n",
       "<td>0.2511465</td>\n",
       "<td>1.2205420</td>\n",
       "<td>0.0203788</td>\n",
       "<td>0.0990385</td>\n",
       "<td>0.0251144</td>\n",
       "<td>0.9764302</td>\n",
       "<td>-74.8853504</td>\n",
       "<td>22.0542007</td></tr>\n",
       "<tr><td></td>\n",
       "<td>15</td>\n",
       "<td>0.8999963</td>\n",
       "<td>0.0212030</td>\n",
       "<td>0.1578962</td>\n",
       "<td>1.1024709</td>\n",
       "<td>0.0128122</td>\n",
       "<td>0.0894579</td>\n",
       "<td>0.0157895</td>\n",
       "<td>0.9922197</td>\n",
       "<td>-84.2103797</td>\n",
       "<td>10.2470860</td></tr>\n",
       "<tr><td></td>\n",
       "<td>16</td>\n",
       "<td>1.0</td>\n",
       "<td>0.0035930</td>\n",
       "<td>0.0778003</td>\n",
       "<td>1.0</td>\n",
       "<td>0.0063130</td>\n",
       "<td>0.0811431</td>\n",
       "<td>0.0077803</td>\n",
       "<td>1.0</td>\n",
       "<td>-92.2199686</td>\n",
       "<td>0.0</td></tr></table></div>"
      ],
      "text/plain": [
       "    group    cumulative_data_fraction    lower_threshold    lift       cumulative_lift    response_rate    cumulative_response_rate    capture_rate    cumulative_capture_rate    gain      cumulative_gain\n",
       "--  -------  --------------------------  -----------------  ---------  -----------------  ---------------  --------------------------  --------------  -------------------------  --------  -----------------\n",
       "    1        0.0100036                   0.431196           8.25788    8.25788            0.67007          0.67007                     0.0826087       0.0826087                  725.788   725.788\n",
       "    2        0.0200026                   0.351321           5.65847    6.95848            0.459146         0.564632                    0.0565789       0.139188                   465.847   595.848\n",
       "    3        0.0300016                   0.305312           4.70872    6.20867            0.38208          0.503791                    0.0470824       0.18627                    370.872   520.867\n",
       "    4        0.0400006                   0.27391            4.18807    5.70358            0.339833         0.462806                    0.0418764       0.228146                   318.807   470.358\n",
       "    5        0.0500042                   0.249571           3.63141    5.28903            0.294664         0.429168                    0.0363272       0.264474                   263.141   428.903\n",
       "    6        0.100004                    0.177381           2.69797    3.99356            0.218921         0.32405                     0.134897        0.399371                   169.797   299.356\n",
       "    7        0.150003                    0.139108           2.07668    3.35462            0.168508         0.272204                    0.103833        0.503204                   107.668   235.462\n",
       "    8        0.200003                    0.114447           1.61443    2.91958            0.131            0.236904                    0.0807208       0.583924                   61.4431   191.958\n",
       "    9        0.300002                    0.0839211          1.2626     2.36726            0.102451         0.192087                    0.126259        0.710183                   26.2598   136.726\n",
       "    10       0.400001                    0.0650326          0.883875   1.99642            0.0717204        0.161996                    0.0883867       0.79857                    -11.6125  99.642\n",
       "    11       0.5                         0.0518372          0.683073   1.73375            0.0554266        0.140682                    0.0683066       0.866876                   -31.6927  73.3753\n",
       "    12       0.599999                    0.0419838          0.476549   1.52422            0.0386686        0.12368                     0.0476545       0.914531                   -52.3451  52.4221\n",
       "    13       0.699998                    0.0342269          0.367852   1.35903            0.0298487        0.110276                    0.0367849       0.951316                   -63.2148  35.9026\n",
       "    14       0.799997                    0.0276707          0.251146   1.22054            0.0203788        0.0990385                   0.0251144       0.97643                    -74.8854  22.0542\n",
       "    15       0.899996                    0.021203           0.157896   1.10247            0.0128122        0.0894579                   0.0157895       0.99222                    -84.2104  10.2471\n",
       "    16       1                           0.00359296         0.0778003  1                  0.00631296       0.0811431                   0.00778032      1                          -92.22    0"
      ]
     },
     "metadata": {},
     "output_type": "display_data"
    },
    {
     "name": "stdout",
     "output_type": "stream",
     "text": [
      "\n",
      "\n",
      "ModelMetricsBinomial: gbm\n",
      "** Reported on validation data. **\n",
      "\n",
      "MSE: 0.0668349045193018\n",
      "RMSE: 0.25852447566778236\n",
      "LogLoss: 0.24369310993266702\n",
      "Mean Per-Class Error: 0.31515202363413486\n",
      "AUC: 0.7540876262743328\n",
      "Gini: 0.5081752525486656\n",
      "Confusion Matrix (Act/Pred) for max f1 @ threshold = 0.14228733759759726: \n"
     ]
    },
    {
     "data": {
      "text/html": [
       "<div style=\"overflow:auto\"><table style=\"width:50%\"><tr><td><b></b></td>\n",
       "<td><b>0</b></td>\n",
       "<td><b>1</b></td>\n",
       "<td><b>Error</b></td>\n",
       "<td><b>Rate</b></td></tr>\n",
       "<tr><td>0</td>\n",
       "<td>37399.0</td>\n",
       "<td>4970.0</td>\n",
       "<td>0.1173</td>\n",
       "<td> (4970.0/42369.0)</td></tr>\n",
       "<tr><td>1</td>\n",
       "<td>2112.0</td>\n",
       "<td>1514.0</td>\n",
       "<td>0.5825</td>\n",
       "<td> (2112.0/3626.0)</td></tr>\n",
       "<tr><td>Total</td>\n",
       "<td>39511.0</td>\n",
       "<td>6484.0</td>\n",
       "<td>0.154</td>\n",
       "<td> (7082.0/45995.0)</td></tr></table></div>"
      ],
      "text/plain": [
       "       0      1     Error    Rate\n",
       "-----  -----  ----  -------  ----------------\n",
       "0      37399  4970  0.1173   (4970.0/42369.0)\n",
       "1      2112   1514  0.5825   (2112.0/3626.0)\n",
       "Total  39511  6484  0.154    (7082.0/45995.0)"
      ]
     },
     "metadata": {},
     "output_type": "display_data"
    },
    {
     "name": "stdout",
     "output_type": "stream",
     "text": [
      "Maximum Metrics: Maximum metrics at their respective thresholds\n",
      "\n"
     ]
    },
    {
     "data": {
      "text/html": [
       "<div style=\"overflow:auto\"><table style=\"width:50%\"><tr><td><b>metric</b></td>\n",
       "<td><b>threshold</b></td>\n",
       "<td><b>value</b></td>\n",
       "<td><b>idx</b></td></tr>\n",
       "<tr><td>max f1</td>\n",
       "<td>0.1422873</td>\n",
       "<td>0.2995054</td>\n",
       "<td>205.0</td></tr>\n",
       "<tr><td>max f2</td>\n",
       "<td>0.0716275</td>\n",
       "<td>0.4088962</td>\n",
       "<td>285.0</td></tr>\n",
       "<tr><td>max f0point5</td>\n",
       "<td>0.2486786</td>\n",
       "<td>0.2939984</td>\n",
       "<td>133.0</td></tr>\n",
       "<tr><td>max accuracy</td>\n",
       "<td>0.5337540</td>\n",
       "<td>0.9216219</td>\n",
       "<td>34.0</td></tr>\n",
       "<tr><td>max precision</td>\n",
       "<td>0.8853415</td>\n",
       "<td>1.0</td>\n",
       "<td>0.0</td></tr>\n",
       "<tr><td>max recall</td>\n",
       "<td>0.0075234</td>\n",
       "<td>1.0</td>\n",
       "<td>398.0</td></tr>\n",
       "<tr><td>max specificity</td>\n",
       "<td>0.8853415</td>\n",
       "<td>1.0</td>\n",
       "<td>0.0</td></tr>\n",
       "<tr><td>max absolute_mcc</td>\n",
       "<td>0.1375667</td>\n",
       "<td>0.2327016</td>\n",
       "<td>209.0</td></tr>\n",
       "<tr><td>max min_per_class_accuracy</td>\n",
       "<td>0.0738544</td>\n",
       "<td>0.6816068</td>\n",
       "<td>282.0</td></tr>\n",
       "<tr><td>max mean_per_class_accuracy</td>\n",
       "<td>0.0716275</td>\n",
       "<td>0.6848480</td>\n",
       "<td>285.0</td></tr></table></div>"
      ],
      "text/plain": [
       "metric                       threshold    value     idx\n",
       "---------------------------  -----------  --------  -----\n",
       "max f1                       0.142287     0.299505  205\n",
       "max f2                       0.0716275    0.408896  285\n",
       "max f0point5                 0.248679     0.293998  133\n",
       "max accuracy                 0.533754     0.921622  34\n",
       "max precision                0.885341     1         0\n",
       "max recall                   0.00752337   1         398\n",
       "max specificity              0.885341     1         0\n",
       "max absolute_mcc             0.137567     0.232702  209\n",
       "max min_per_class_accuracy   0.0738544    0.681607  282\n",
       "max mean_per_class_accuracy  0.0716275    0.684848  285"
      ]
     },
     "metadata": {},
     "output_type": "display_data"
    },
    {
     "name": "stdout",
     "output_type": "stream",
     "text": [
      "Gains/Lift Table: Avg response rate:  7.88 %\n",
      "\n"
     ]
    },
    {
     "data": {
      "text/html": [
       "<div style=\"overflow:auto\"><table style=\"width:50%\"><tr><td><b></b></td>\n",
       "<td><b>group</b></td>\n",
       "<td><b>cumulative_data_fraction</b></td>\n",
       "<td><b>lower_threshold</b></td>\n",
       "<td><b>lift</b></td>\n",
       "<td><b>cumulative_lift</b></td>\n",
       "<td><b>response_rate</b></td>\n",
       "<td><b>cumulative_response_rate</b></td>\n",
       "<td><b>capture_rate</b></td>\n",
       "<td><b>cumulative_capture_rate</b></td>\n",
       "<td><b>gain</b></td>\n",
       "<td><b>cumulative_gain</b></td></tr>\n",
       "<tr><td></td>\n",
       "<td>1</td>\n",
       "<td>0.0100011</td>\n",
       "<td>0.4097268</td>\n",
       "<td>5.5426959</td>\n",
       "<td>5.5426959</td>\n",
       "<td>0.4369565</td>\n",
       "<td>0.4369565</td>\n",
       "<td>0.0554330</td>\n",
       "<td>0.0554330</td>\n",
       "<td>454.2695868</td>\n",
       "<td>454.2695868</td></tr>\n",
       "<tr><td></td>\n",
       "<td>2</td>\n",
       "<td>0.0200022</td>\n",
       "<td>0.3389524</td>\n",
       "<td>4.2742182</td>\n",
       "<td>4.9084570</td>\n",
       "<td>0.3369565</td>\n",
       "<td>0.3869565</td>\n",
       "<td>0.0427468</td>\n",
       "<td>0.0981798</td>\n",
       "<td>327.4218207</td>\n",
       "<td>390.8457037</td></tr>\n",
       "<tr><td></td>\n",
       "<td>3</td>\n",
       "<td>0.0300033</td>\n",
       "<td>0.2946521</td>\n",
       "<td>3.8605842</td>\n",
       "<td>4.5591661</td>\n",
       "<td>0.3043478</td>\n",
       "<td>0.3594203</td>\n",
       "<td>0.0386100</td>\n",
       "<td>0.1367899</td>\n",
       "<td>286.0584187</td>\n",
       "<td>355.9166087</td></tr>\n",
       "<tr><td></td>\n",
       "<td>4</td>\n",
       "<td>0.0400043</td>\n",
       "<td>0.2647905</td>\n",
       "<td>3.6399794</td>\n",
       "<td>4.3293694</td>\n",
       "<td>0.2869565</td>\n",
       "<td>0.3413043</td>\n",
       "<td>0.0364038</td>\n",
       "<td>0.1731936</td>\n",
       "<td>263.9979376</td>\n",
       "<td>332.9369409</td></tr>\n",
       "<tr><td></td>\n",
       "<td>5</td>\n",
       "<td>0.0500054</td>\n",
       "<td>0.2411607</td>\n",
       "<td>3.3090722</td>\n",
       "<td>4.1253100</td>\n",
       "<td>0.2608696</td>\n",
       "<td>0.3252174</td>\n",
       "<td>0.0330943</td>\n",
       "<td>0.2062879</td>\n",
       "<td>230.9072160</td>\n",
       "<td>312.5309959</td></tr>\n",
       "<tr><td></td>\n",
       "<td>6</td>\n",
       "<td>0.1000109</td>\n",
       "<td>0.1731914</td>\n",
       "<td>2.5093797</td>\n",
       "<td>3.3173448</td>\n",
       "<td>0.1978261</td>\n",
       "<td>0.2615217</td>\n",
       "<td>0.1254826</td>\n",
       "<td>0.3317705</td>\n",
       "<td>150.9379721</td>\n",
       "<td>231.7344840</td></tr>\n",
       "<tr><td></td>\n",
       "<td>7</td>\n",
       "<td>0.1500163</td>\n",
       "<td>0.1363343</td>\n",
       "<td>2.0461096</td>\n",
       "<td>2.8935998</td>\n",
       "<td>0.1613043</td>\n",
       "<td>0.2281159</td>\n",
       "<td>0.1023166</td>\n",
       "<td>0.4340871</td>\n",
       "<td>104.6109619</td>\n",
       "<td>189.3599767</td></tr>\n",
       "<tr><td></td>\n",
       "<td>8</td>\n",
       "<td>0.2</td>\n",
       "<td>0.1128521</td>\n",
       "<td>1.5007652</td>\n",
       "<td>2.5455047</td>\n",
       "<td>0.1183123</td>\n",
       "<td>0.2006740</td>\n",
       "<td>0.0750138</td>\n",
       "<td>0.5091009</td>\n",
       "<td>50.0765219</td>\n",
       "<td>154.5504688</td></tr>\n",
       "<tr><td></td>\n",
       "<td>9</td>\n",
       "<td>0.3000109</td>\n",
       "<td>0.0831724</td>\n",
       "<td>1.2684777</td>\n",
       "<td>2.1197982</td>\n",
       "<td>0.1</td>\n",
       "<td>0.1671136</td>\n",
       "<td>0.1268616</td>\n",
       "<td>0.6359625</td>\n",
       "<td>26.8477661</td>\n",
       "<td>111.9798164</td></tr>\n",
       "<tr><td></td>\n",
       "<td>10</td>\n",
       "<td>0.4</td>\n",
       "<td>0.0648016</td>\n",
       "<td>0.9846630</td>\n",
       "<td>1.8360452</td>\n",
       "<td>0.0776256</td>\n",
       "<td>0.1447440</td>\n",
       "<td>0.0984556</td>\n",
       "<td>0.7344181</td>\n",
       "<td>-1.5336975</td>\n",
       "<td>83.6045229</td></tr>\n",
       "<tr><td></td>\n",
       "<td>11</td>\n",
       "<td>0.5000109</td>\n",
       "<td>0.0517608</td>\n",
       "<td>0.8355407</td>\n",
       "<td>1.6359269</td>\n",
       "<td>0.0658696</td>\n",
       "<td>0.1289677</td>\n",
       "<td>0.0835632</td>\n",
       "<td>0.8179812</td>\n",
       "<td>-16.4459280</td>\n",
       "<td>63.5926926</td></tr>\n",
       "<tr><td></td>\n",
       "<td>12</td>\n",
       "<td>0.6</td>\n",
       "<td>0.0418493</td>\n",
       "<td>0.6757491</td>\n",
       "<td>1.4759147</td>\n",
       "<td>0.0532725</td>\n",
       "<td>0.1163532</td>\n",
       "<td>0.0675676</td>\n",
       "<td>0.8855488</td>\n",
       "<td>-32.4250865</td>\n",
       "<td>47.5914690</td></tr>\n",
       "<tr><td></td>\n",
       "<td>13</td>\n",
       "<td>0.6999891</td>\n",
       "<td>0.0341688</td>\n",
       "<td>0.4468219</td>\n",
       "<td>1.3289151</td>\n",
       "<td>0.0352250</td>\n",
       "<td>0.1047646</td>\n",
       "<td>0.0446773</td>\n",
       "<td>0.9302261</td>\n",
       "<td>-55.3178123</td>\n",
       "<td>32.8915130</td></tr>\n",
       "<tr><td></td>\n",
       "<td>14</td>\n",
       "<td>0.8</td>\n",
       "<td>0.0276123</td>\n",
       "<td>0.3309072</td>\n",
       "<td>1.2041506</td>\n",
       "<td>0.0260870</td>\n",
       "<td>0.0949288</td>\n",
       "<td>0.0330943</td>\n",
       "<td>0.9633205</td>\n",
       "<td>-66.9092784</td>\n",
       "<td>20.4150579</td></tr>\n",
       "<tr><td></td>\n",
       "<td>15</td>\n",
       "<td>0.8999891</td>\n",
       "<td>0.0210780</td>\n",
       "<td>0.2344436</td>\n",
       "<td>1.0964158</td>\n",
       "<td>0.0184823</td>\n",
       "<td>0.0864356</td>\n",
       "<td>0.0234418</td>\n",
       "<td>0.9867623</td>\n",
       "<td>-76.5556423</td>\n",
       "<td>9.6415768</td></tr>\n",
       "<tr><td></td>\n",
       "<td>16</td>\n",
       "<td>1.0</td>\n",
       "<td>0.0032064</td>\n",
       "<td>0.1323629</td>\n",
       "<td>1.0</td>\n",
       "<td>0.0104348</td>\n",
       "<td>0.0788347</td>\n",
       "<td>0.0132377</td>\n",
       "<td>1.0</td>\n",
       "<td>-86.7637114</td>\n",
       "<td>0.0</td></tr></table></div>"
      ],
      "text/plain": [
       "    group    cumulative_data_fraction    lower_threshold    lift      cumulative_lift    response_rate    cumulative_response_rate    capture_rate    cumulative_capture_rate    gain      cumulative_gain\n",
       "--  -------  --------------------------  -----------------  --------  -----------------  ---------------  --------------------------  --------------  -------------------------  --------  -----------------\n",
       "    1        0.0100011                   0.409727           5.5427    5.5427             0.436957         0.436957                    0.055433        0.055433                   454.27    454.27\n",
       "    2        0.0200022                   0.338952           4.27422   4.90846            0.336957         0.386957                    0.0427468       0.0981798                  327.422   390.846\n",
       "    3        0.0300033                   0.294652           3.86058   4.55917            0.304348         0.35942                     0.03861         0.13679                    286.058   355.917\n",
       "    4        0.0400043                   0.264791           3.63998   4.32937            0.286957         0.341304                    0.0364038       0.173194                   263.998   332.937\n",
       "    5        0.0500054                   0.241161           3.30907   4.12531            0.26087          0.325217                    0.0330943       0.206288                   230.907   312.531\n",
       "    6        0.100011                    0.173191           2.50938   3.31734            0.197826         0.261522                    0.125483        0.331771                   150.938   231.734\n",
       "    7        0.150016                    0.136334           2.04611   2.8936             0.161304         0.228116                    0.102317        0.434087                   104.611   189.36\n",
       "    8        0.2                         0.112852           1.50077   2.5455             0.118312         0.200674                    0.0750138       0.509101                   50.0765   154.55\n",
       "    9        0.300011                    0.0831724          1.26848   2.1198             0.1              0.167114                    0.126862        0.635962                   26.8478   111.98\n",
       "    10       0.4                         0.0648016          0.984663  1.83605            0.0776256        0.144744                    0.0984556       0.734418                   -1.5337   83.6045\n",
       "    11       0.500011                    0.0517608          0.835541  1.63593            0.0658696        0.128968                    0.0835632       0.817981                   -16.4459  63.5927\n",
       "    12       0.6                         0.0418493          0.675749  1.47591            0.0532725        0.116353                    0.0675676       0.885549                   -32.4251  47.5915\n",
       "    13       0.699989                    0.0341688          0.446822  1.32892            0.035225         0.104765                    0.0446773       0.930226                   -55.3178  32.8915\n",
       "    14       0.8                         0.0276123          0.330907  1.20415            0.026087         0.0949288                   0.0330943       0.96332                    -66.9093  20.4151\n",
       "    15       0.899989                    0.021078           0.234444  1.09642            0.0184823        0.0864356                   0.0234418       0.986762                   -76.5556  9.64158\n",
       "    16       1                           0.00320638         0.132363  1                  0.0104348        0.0788347                   0.0132377       1                          -86.7637  0"
      ]
     },
     "metadata": {},
     "output_type": "display_data"
    },
    {
     "name": "stdout",
     "output_type": "stream",
     "text": [
      "\n",
      "Scoring History: \n"
     ]
    },
    {
     "data": {
      "text/html": [
       "<div style=\"overflow:auto\"><table style=\"width:50%\"><tr><td><b></b></td>\n",
       "<td><b>timestamp</b></td>\n",
       "<td><b>duration</b></td>\n",
       "<td><b>number_of_trees</b></td>\n",
       "<td><b>training_rmse</b></td>\n",
       "<td><b>training_logloss</b></td>\n",
       "<td><b>training_auc</b></td>\n",
       "<td><b>training_lift</b></td>\n",
       "<td><b>training_classification_error</b></td>\n",
       "<td><b>validation_rmse</b></td>\n",
       "<td><b>validation_logloss</b></td>\n",
       "<td><b>validation_auc</b></td>\n",
       "<td><b>validation_lift</b></td>\n",
       "<td><b>validation_classification_error</b></td></tr>\n",
       "<tr><td></td>\n",
       "<td>2018-08-22 00:14:48</td>\n",
       "<td> 0.102 sec</td>\n",
       "<td>0.0</td>\n",
       "<td>0.2730547</td>\n",
       "<td>0.2815523</td>\n",
       "<td>0.5</td>\n",
       "<td>1.0</td>\n",
       "<td>0.9188569</td>\n",
       "<td>0.2694904</td>\n",
       "<td>0.2759500</td>\n",
       "<td>0.5</td>\n",
       "<td>1.0</td>\n",
       "<td>0.9211653</td></tr>\n",
       "<tr><td></td>\n",
       "<td>2018-08-22 00:15:02</td>\n",
       "<td>14.013 sec</td>\n",
       "<td>5.0</td>\n",
       "<td>0.2670104</td>\n",
       "<td>0.2636949</td>\n",
       "<td>0.7310287</td>\n",
       "<td>5.4840311</td>\n",
       "<td>0.1592734</td>\n",
       "<td>0.2644710</td>\n",
       "<td>0.2608105</td>\n",
       "<td>0.7151689</td>\n",
       "<td>4.4479087</td>\n",
       "<td>0.1863898</td></tr>\n",
       "<tr><td></td>\n",
       "<td>2018-08-22 00:15:09</td>\n",
       "<td>20.901 sec</td>\n",
       "<td>10.0</td>\n",
       "<td>0.2643354</td>\n",
       "<td>0.2568769</td>\n",
       "<td>0.7393102</td>\n",
       "<td>5.7743404</td>\n",
       "<td>0.1683858</td>\n",
       "<td>0.2624872</td>\n",
       "<td>0.2552707</td>\n",
       "<td>0.7231108</td>\n",
       "<td>4.6327010</td>\n",
       "<td>0.1656267</td></tr>\n",
       "<tr><td></td>\n",
       "<td>2018-08-22 00:15:18</td>\n",
       "<td>29.667 sec</td>\n",
       "<td>15.0</td>\n",
       "<td>0.2627520</td>\n",
       "<td>0.2528683</td>\n",
       "<td>0.7467191</td>\n",
       "<td>6.0391173</td>\n",
       "<td>0.1516883</td>\n",
       "<td>0.2614278</td>\n",
       "<td>0.2522259</td>\n",
       "<td>0.7292290</td>\n",
       "<td>4.7981546</td>\n",
       "<td>0.1791064</td></tr>\n",
       "<tr><td></td>\n",
       "<td>2018-08-22 00:15:26</td>\n",
       "<td>38.004 sec</td>\n",
       "<td>20.0</td>\n",
       "<td>0.2615522</td>\n",
       "<td>0.2499361</td>\n",
       "<td>0.7539273</td>\n",
       "<td>6.4050035</td>\n",
       "<td>0.1470463</td>\n",
       "<td>0.2607241</td>\n",
       "<td>0.2501629</td>\n",
       "<td>0.7348047</td>\n",
       "<td>4.9636082</td>\n",
       "<td>0.1679965</td></tr>\n",
       "<tr><td>---</td>\n",
       "<td>---</td>\n",
       "<td>---</td>\n",
       "<td>---</td>\n",
       "<td>---</td>\n",
       "<td>---</td>\n",
       "<td>---</td>\n",
       "<td>---</td>\n",
       "<td>---</td>\n",
       "<td>---</td>\n",
       "<td>---</td>\n",
       "<td>---</td>\n",
       "<td>---</td>\n",
       "<td>---</td></tr>\n",
       "<tr><td></td>\n",
       "<td>2018-08-22 00:17:10</td>\n",
       "<td> 2 min 21.503 sec</td>\n",
       "<td>90.0</td>\n",
       "<td>0.2549133</td>\n",
       "<td>0.2350387</td>\n",
       "<td>0.7942031</td>\n",
       "<td>7.9433481</td>\n",
       "<td>0.1303395</td>\n",
       "<td>0.2585499</td>\n",
       "<td>0.2437929</td>\n",
       "<td>0.7540561</td>\n",
       "<td>5.6805739</td>\n",
       "<td>0.1517991</td></tr>\n",
       "<tr><td></td>\n",
       "<td>2018-08-22 00:17:17</td>\n",
       "<td> 2 min 28.284 sec</td>\n",
       "<td>95.0</td>\n",
       "<td>0.2546005</td>\n",
       "<td>0.2344029</td>\n",
       "<td>0.7957665</td>\n",
       "<td>7.9776606</td>\n",
       "<td>0.1349166</td>\n",
       "<td>0.2585318</td>\n",
       "<td>0.2437242</td>\n",
       "<td>0.7543213</td>\n",
       "<td>5.6254227</td>\n",
       "<td>0.1631047</td></tr>\n",
       "<tr><td></td>\n",
       "<td>2018-08-22 00:17:24</td>\n",
       "<td> 2 min 36.097 sec</td>\n",
       "<td>100.0</td>\n",
       "<td>0.2542982</td>\n",
       "<td>0.2338292</td>\n",
       "<td>0.7971228</td>\n",
       "<td>8.1263482</td>\n",
       "<td>0.1235853</td>\n",
       "<td>0.2585099</td>\n",
       "<td>0.2436633</td>\n",
       "<td>0.7544809</td>\n",
       "<td>5.5978471</td>\n",
       "<td>0.1614741</td></tr>\n",
       "<tr><td></td>\n",
       "<td>2018-08-22 00:17:31</td>\n",
       "<td> 2 min 42.806 sec</td>\n",
       "<td>105.0</td>\n",
       "<td>0.2540487</td>\n",
       "<td>0.2332771</td>\n",
       "<td>0.7986804</td>\n",
       "<td>8.1549420</td>\n",
       "<td>0.1306320</td>\n",
       "<td>0.2585116</td>\n",
       "<td>0.2436652</td>\n",
       "<td>0.7543769</td>\n",
       "<td>5.5702715</td>\n",
       "<td>0.1575171</td></tr>\n",
       "<tr><td></td>\n",
       "<td>2018-08-22 00:17:39</td>\n",
       "<td> 2 min 50.855 sec</td>\n",
       "<td>110.0</td>\n",
       "<td>0.2538176</td>\n",
       "<td>0.2328015</td>\n",
       "<td>0.7999374</td>\n",
       "<td>8.2578796</td>\n",
       "<td>0.1287566</td>\n",
       "<td>0.2585245</td>\n",
       "<td>0.2436931</td>\n",
       "<td>0.7540876</td>\n",
       "<td>5.5426959</td>\n",
       "<td>0.1539733</td></tr></table></div>"
      ],
      "text/plain": [
       "     timestamp            duration          number_of_trees    training_rmse        training_logloss     training_auc        training_lift      training_classification_error    validation_rmse      validation_logloss    validation_auc      validation_lift     validation_classification_error\n",
       "---  -------------------  ----------------  -----------------  -------------------  -------------------  ------------------  -----------------  -------------------------------  -------------------  --------------------  ------------------  ------------------  ---------------------------------\n",
       "     2018-08-22 00:14:48  0.102 sec         0.0                0.27305468821967854  0.2815522799731723   0.5                 1.0                0.9188569412594814               0.2694904111226097   0.2759499786953879    0.5                 1.0                 0.9211653440591369\n",
       "     2018-08-22 00:15:02  14.013 sec        5.0                0.2670104136595619   0.2636948798711568   0.7310287005171082  5.484031072567473  0.15927342611246761              0.2644709678781499   0.26081050473497175   0.715168868652042   4.44790868260256    0.1863898249809762\n",
       "     2018-08-22 00:15:09  20.901 sec        10.0               0.2643354193085262   0.2568768613290531   0.7393102032211224  5.774340385311508  0.1683857730408222               0.262487215208422    0.25527066699992246   0.7231107748399703  4.632701024005372   0.16562669855419068\n",
       "     2018-08-22 00:15:18  29.667 sec        15.0               0.262751979622787    0.2528683235200471   0.7467190931585327  6.039117332849569  0.15168831409976696              0.26142775007941266  0.2522258733206962    0.7292289583764483  4.798154632005563   0.1791064246113708\n",
       "     2018-08-22 00:15:26  38.004 sec        20.0               0.26155223326874244  0.24993613968994013  0.7539273162605221  6.40500353071724   0.1470462626844055               0.2607241172356138   0.2501629178173179    0.7348046567000451  4.9636082400057555  0.1679965213610175\n",
       "---  ---                  ---               ---                ---                  ---                  ---                 ---                ---                              ---                  ---                   ---                 ---                 ---\n",
       "     2018-08-22 00:17:10  2 min 21.503 sec  90.0               0.2549133423530286   0.23503870660446008  0.7942031324121549  7.943348128719863  0.13033951964051954              0.25854994015053856  0.24379286249045082   0.7540560862093114  5.680573874673254   0.15179910859876072\n",
       "     2018-08-22 00:17:17  2 min 28.284 sec  95.0               0.25460046763399813  0.23440293477598298  0.7957664844649615  7.97766064763442   0.13491658233606596              0.2585318199884648   0.24372419684076918   0.7543213176197872  5.625422672006523   0.16310468529187955\n",
       "     2018-08-22 00:17:24  2 min 36.097 sec  100.0              0.25429824153198355  0.2338292478643258   0.7971228171292208  8.126348229597498  0.12358533483116858              0.25850987394654656  0.24366331240306238   0.7544809348882745  5.597847070673158   0.16147407326883356\n",
       "     2018-08-22 00:17:31  2 min 42.806 sec  105.0              0.2540486572779327   0.23327706770135964  0.7986803995724703  8.154941995359628  0.1306319688796873               0.25851164489441714  0.24366519936940959   0.7543769187415317  5.570271469339792   0.157517121426242\n",
       "     2018-08-22 00:17:39  2 min 50.855 sec  110.0              0.2538175978349423   0.23280150116037931  0.7999374266291674  8.257879552103299  0.12875658010788127              0.25852447566778236  0.24369310993266702   0.7540876262743328  5.542695868006427   0.15397325796282205"
      ]
     },
     "metadata": {},
     "output_type": "display_data"
    },
    {
     "name": "stdout",
     "output_type": "stream",
     "text": [
      "\n",
      "See the whole table with table.as_data_frame()\n",
      "Variable Importances: \n"
     ]
    },
    {
     "data": {
      "text/html": [
       "<div style=\"overflow:auto\"><table style=\"width:50%\"><tr><td><b>variable</b></td>\n",
       "<td><b>relative_importance</b></td>\n",
       "<td><b>scaled_importance</b></td>\n",
       "<td><b>percentage</b></td></tr>\n",
       "<tr><td>EXT_SOURCE_3</td>\n",
       "<td>2560.1640625</td>\n",
       "<td>1.0</td>\n",
       "<td>0.2585069</td></tr>\n",
       "<tr><td>EXT_SOURCE_2</td>\n",
       "<td>2280.7536621</td>\n",
       "<td>0.8908623</td>\n",
       "<td>0.2302941</td></tr>\n",
       "<tr><td>ORGANIZATION_TYPE</td>\n",
       "<td>1463.9012451</td>\n",
       "<td>0.5717998</td>\n",
       "<td>0.1478142</td></tr>\n",
       "<tr><td>EXT_SOURCE_1</td>\n",
       "<td>777.8157959</td>\n",
       "<td>0.3038148</td>\n",
       "<td>0.0785382</td></tr>\n",
       "<tr><td>OCCUPATION_TYPE</td>\n",
       "<td>408.5943298</td>\n",
       "<td>0.1595969</td>\n",
       "<td>0.0412569</td></tr>\n",
       "<tr><td>---</td>\n",
       "<td>---</td>\n",
       "<td>---</td>\n",
       "<td>---</td></tr>\n",
       "<tr><td>FLAG_DOCUMENT_17</td>\n",
       "<td>0.0</td>\n",
       "<td>0.0</td>\n",
       "<td>0.0</td></tr>\n",
       "<tr><td>FLAG_DOCUMENT_19</td>\n",
       "<td>0.0</td>\n",
       "<td>0.0</td>\n",
       "<td>0.0</td></tr>\n",
       "<tr><td>FLAG_DOCUMENT_20</td>\n",
       "<td>0.0</td>\n",
       "<td>0.0</td>\n",
       "<td>0.0</td></tr>\n",
       "<tr><td>FLAG_DOCUMENT_21</td>\n",
       "<td>0.0</td>\n",
       "<td>0.0</td>\n",
       "<td>0.0</td></tr>\n",
       "<tr><td>AMT_REQ_CREDIT_BUREAU_HOUR</td>\n",
       "<td>0.0</td>\n",
       "<td>0.0</td>\n",
       "<td>0.0</td></tr></table></div>"
      ],
      "text/plain": [
       "variable                    relative_importance    scaled_importance    percentage\n",
       "--------------------------  ---------------------  -------------------  -------------------\n",
       "EXT_SOURCE_3                2560.1640625           1.0                  0.2585069155941196\n",
       "EXT_SOURCE_2                2280.753662109375      0.8908623066453871   0.23029406710996175\n",
       "ORGANIZATION_TYPE           1463.9012451171875     0.5717997789906042   0.14781419720426037\n",
       "EXT_SOURCE_1                777.8157958984375      0.30381482471826454  0.07853823324968663\n",
       "OCCUPATION_TYPE             408.5943298339844      0.15959693201653335  0.04125691063387843\n",
       "---                         ---                    ---                  ---\n",
       "FLAG_DOCUMENT_17            0.0                    0.0                  0.0\n",
       "FLAG_DOCUMENT_19            0.0                    0.0                  0.0\n",
       "FLAG_DOCUMENT_20            0.0                    0.0                  0.0\n",
       "FLAG_DOCUMENT_21            0.0                    0.0                  0.0\n",
       "AMT_REQ_CREDIT_BUREAU_HOUR  0.0                    0.0                  0.0"
      ]
     },
     "metadata": {},
     "output_type": "display_data"
    },
    {
     "name": "stdout",
     "output_type": "stream",
     "text": [
      "\n",
      "See the whole table with table.as_data_frame()\n",
      "\n"
     ]
    }
   ],
   "source": [
    "print(gbm_fit3)"
   ]
  },
  {
   "cell_type": "code",
   "execution_count": 27,
   "metadata": {},
   "outputs": [
    {
     "data": {
      "image/png": "[encoded data removed]",
      "text/plain": [
       "<matplotlib.figure.Figure at 0xe0a0a17898>"
      ]
     },
     "metadata": {},
     "output_type": "display_data"
    }
   ],
   "source": [
    "gbm_fit3.varimp_plot()"
   ]
  },
  {
   "cell_type": "code",
   "execution_count": 39,
   "metadata": {},
   "outputs": [],
   "source": [
    "gbm_perf1 = gbm_fit1.model_performance(test)\n",
    "gbm_perf2 = gbm_fit2.model_performance(test)\n",
    "gbm_perf3 = gbm_fit3.model_performance(test)"
   ]
  },
  {
   "cell_type": "code",
   "execution_count": 41,
   "metadata": {},
   "outputs": [
    {
     "name": "stdout",
     "output_type": "stream",
     "text": [
      "0.7404721667654182\n",
      "0.7439255358555008\n",
      "0.7446497670814228\n"
     ]
    }
   ],
   "source": [
    "print (gbm_perf1.auc())\n",
    "print (gbm_perf2.auc())\n",
    "print (gbm_perf3.auc())"
   ]
  },
  {
   "cell_type": "code",
   "execution_count": 42,
   "metadata": {},
   "outputs": [],
   "source": [
    "from h2o.estimators.deeplearning import H2ODeepLearningEstimator"
   ]
  },
  {
   "cell_type": "code",
   "execution_count": 43,
   "metadata": {},
   "outputs": [
    {
     "name": "stdout",
     "output_type": "stream",
     "text": [
      "deeplearning Model Build progress: |██████████████████████████████████████| 100%\n"
     ]
    }
   ],
   "source": [
    "dl_fit1 = H2ODeepLearningEstimator(model_id='dl_fit1', seed=1)\n",
    "dl_fit1.train(x=x, y=y, training_frame=train)"
   ]
  },
  {
   "cell_type": "code",
   "execution_count": 44,
   "metadata": {},
   "outputs": [
    {
     "name": "stdout",
     "output_type": "stream",
     "text": [
      "deeplearning Model Build progress: |██████████████████████████████████████| 100%\n"
     ]
    }
   ],
   "source": [
    "dl_fit2 = H2ODeepLearningEstimator(model_id='dl_fit2', \n",
    "                                   epochs=20, \n",
    "                                   hidden=[10,10],\n",
    "                                   score_interval=1,          #used for early stopping\n",
    "                                   stopping_rounds=3,         #used for early stopping\n",
    "                                   stopping_metric='AUC',     #used for early stopping\n",
    "                                   stopping_tolerance=0.0005, #used for early stopping\n",
    "                                   seed=1)\n",
    "dl_fit2.train(x=x, y=y, training_frame=train, validation_frame=valid)"
   ]
  },
  {
   "cell_type": "code",
   "execution_count": 45,
   "metadata": {},
   "outputs": [],
   "source": [
    "dl_perf1 = dl_fit1.model_performance(test)\n",
    "dl_perf2 = dl_fit2.model_performance(test)"
   ]
  },
  {
   "cell_type": "code",
   "execution_count": 47,
   "metadata": {},
   "outputs": [
    {
     "name": "stdout",
     "output_type": "stream",
     "text": [
      "0.6775445392828503\n",
      "0.6993890672231649\n"
     ]
    }
   ],
   "source": [
    "print (dl_perf1.auc())\n",
    "print (dl_perf2.auc())"
   ]
  },
  {
   "cell_type": "code",
   "execution_count": 54,
   "metadata": {},
   "outputs": [],
   "source": [
    "# Import H2O Grid Search:\n",
    "from h2o.grid.grid_search import H2OGridSearch\n",
    "\n",
    "# Import H2O GBM:\n",
    "from h2o.estimators.gbm import H2OGradientBoostingEstimator"
   ]
  },
  {
   "cell_type": "code",
   "execution_count": 58,
   "metadata": {},
   "outputs": [],
   "source": [
    "gbm_params2 = {'learn_rate': [i * 0.01 for i in range(1, 11)], \n",
    "                'max_depth': list(range(2, 11)),\n",
    "                'sample_rate': [i * 0.1 for i in range(5, 11)],\n",
    "                'col_sample_rate': [i * 0.1 for i in range(1, 11)]}\n",
    "\n",
    "# Search criteria\n",
    "search_criteria2 = {'strategy': 'RandomDiscrete', 'max_models': 36}"
   ]
  },
  {
   "cell_type": "code",
   "execution_count": 59,
   "metadata": {},
   "outputs": [
    {
     "name": "stdout",
     "output_type": "stream",
     "text": [
      "gbm Grid Build progress: |████████████████████████████████████████████████| 100%\n"
     ]
    }
   ],
   "source": [
    "gbm_grid2 = H2OGridSearch(model=H2OGradientBoostingEstimator,\n",
    "                          grid_id='gbm_grid2',\n",
    "                          hyper_params=gbm_params2,\n",
    "                          search_criteria=search_criteria2)\n",
    "gbm_grid2.train(x=x, y=y, \n",
    "                training_frame=train, \n",
    "                validation_frame=valid, \n",
    "                ntrees=100,\n",
    "                seed=1)"
   ]
  },
  {
   "cell_type": "code",
   "execution_count": 60,
   "metadata": {},
   "outputs": [],
   "source": [
    "gbm_gridperf2 = gbm_grid2.get_grid(sort_by='auc', decreasing=True)"
   ]
  },
  {
   "cell_type": "code",
   "execution_count": 62,
   "metadata": {},
   "outputs": [
    {
     "name": "stdout",
     "output_type": "stream",
     "text": [
      "          col_sample_rate learn_rate max_depth         sample_rate  \\\n",
      "0      0.7000000000000001        0.1         5                 0.9   \n",
      "1                     0.4       0.08         5  0.6000000000000001   \n",
      "2                     1.0       0.09         7                 0.9   \n",
      "3                     0.8       0.07         4                 0.8   \n",
      "4                     0.4       0.08         4                 0.8   \n",
      "5                     0.2       0.05         7                 0.5   \n",
      "6                     0.2       0.06         5                 0.5   \n",
      "7                     0.1       0.04         9  0.6000000000000001   \n",
      "8                     0.4       0.04         7                 0.9   \n",
      "9                     0.1       0.07         4                 1.0   \n",
      "10                    0.1       0.09         8  0.7000000000000001   \n",
      "11                    0.1       0.08         3  0.7000000000000001   \n",
      "12                    0.1       0.04        10                 0.8   \n",
      "13                    0.8       0.04         5  0.7000000000000001   \n",
      "14                    0.1       0.07         9  0.6000000000000001   \n",
      "15                    0.5       0.07         9                 0.9   \n",
      "16                    0.9       0.04         5  0.7000000000000001   \n",
      "17                    0.8       0.04         9  0.6000000000000001   \n",
      "18                    0.1       0.07         3  0.7000000000000001   \n",
      "19    0.30000000000000004       0.02         9  0.7000000000000001   \n",
      "20                    0.9       0.03         6                 0.9   \n",
      "21                    0.2       0.08        10                 0.9   \n",
      "22                    0.2       0.02         7                 0.8   \n",
      "23                    1.0       0.08         2                 0.8   \n",
      "24                    1.0       0.06        10                 0.9   \n",
      "25                    0.4       0.07         9                 0.5   \n",
      "26     0.6000000000000001       0.09         9  0.6000000000000001   \n",
      "27                    0.2       0.07         2                 0.8   \n",
      "28     0.7000000000000001       0.07         2  0.7000000000000001   \n",
      "29                    0.5       0.09        10  0.6000000000000001   \n",
      "30                    0.4       0.03         4                 0.9   \n",
      "31                    0.5       0.06         2                 0.8   \n",
      "32     0.7000000000000001       0.06         2                 0.8   \n",
      "33     0.6000000000000001       0.02         6                 0.8   \n",
      "34                    0.5       0.01         8                 1.0   \n",
      "35                    1.0       0.02         5  0.6000000000000001   \n",
      "\n",
      "             model_ids                 auc  \n",
      "0   gbm_grid2_model_25  0.7535687009139634  \n",
      "1   gbm_grid2_model_18  0.7510845538404434  \n",
      "2   gbm_grid2_model_14  0.7510759845502565  \n",
      "3   gbm_grid2_model_28  0.7508063529573528  \n",
      "4    gbm_grid2_model_4  0.7500357514822269  \n",
      "5   gbm_grid2_model_27    0.74953068734742  \n",
      "6   gbm_grid2_model_19  0.7492306287533931  \n",
      "7   gbm_grid2_model_16   0.749225672039016  \n",
      "8   gbm_grid2_model_31  0.7490799257598096  \n",
      "9   gbm_grid2_model_17  0.7485600370458909  \n",
      "10  gbm_grid2_model_30  0.7480578532080135  \n",
      "11  gbm_grid2_model_20  0.7474407080950612  \n",
      "12   gbm_grid2_model_9  0.7471680888043256  \n",
      "13   gbm_grid2_model_7  0.7470087253925168  \n",
      "14  gbm_grid2_model_29   0.746848392118013  \n",
      "15  gbm_grid2_model_34  0.7463083608530245  \n",
      "16   gbm_grid2_model_5  0.7462679455679728  \n",
      "17  gbm_grid2_model_26  0.7461829393809649  \n",
      "18  gbm_grid2_model_22  0.7456927746804443  \n",
      "19   gbm_grid2_model_2   0.745051565256196  \n",
      "20   gbm_grid2_model_3  0.7449181472987625  \n",
      "21  gbm_grid2_model_11   0.744760388391345  \n",
      "22  gbm_grid2_model_35  0.7445549760289648  \n",
      "23  gbm_grid2_model_15  0.7436074755037744  \n",
      "24  gbm_grid2_model_23  0.7433530330021363  \n",
      "25  gbm_grid2_model_13  0.7431133206969989  \n",
      "26   gbm_grid2_model_8   0.742135741409975  \n",
      "27   gbm_grid2_model_6  0.7420560889952258  \n",
      "28  gbm_grid2_model_32  0.7413298538565327  \n",
      "29  gbm_grid2_model_21  0.7395811686355985  \n",
      "30   gbm_grid2_model_1  0.7389163570493923  \n",
      "31  gbm_grid2_model_10  0.7388482518589436  \n",
      "32  gbm_grid2_model_33  0.7388143392103498  \n",
      "33  gbm_grid2_model_24  0.7383574492621539  \n",
      "34  gbm_grid2_model_12  0.7355627736339038  \n",
      "35   gbm_grid2_model_0  0.7343948799477269  \n",
      "\n"
     ]
    }
   ],
   "source": [
    "print (gbm_gridperf2)"
   ]
  },
  {
   "cell_type": "code",
   "execution_count": 63,
   "metadata": {},
   "outputs": [],
   "source": [
    "best_gbm_model = gbm_gridperf2.models[0]"
   ]
  },
  {
   "cell_type": "code",
   "execution_count": 65,
   "metadata": {},
   "outputs": [
    {
     "name": "stdout",
     "output_type": "stream",
     "text": [
      "0.7448865992301353\n"
     ]
    }
   ],
   "source": [
    "gbm_perf = best_gbm_model.model_performance(test)\n",
    "print (gbm_perf.auc())"
   ]
  },
  {
   "cell_type": "code",
   "execution_count": 10,
   "metadata": {},
   "outputs": [],
   "source": [
    "from h2o.automl import H2OAutoML"
   ]
  },
  {
   "cell_type": "code",
   "execution_count": 11,
   "metadata": {},
   "outputs": [
    {
     "name": "stdout",
     "output_type": "stream",
     "text": [
      "AutoML progress: |████████████████████████████████████████████████████████| 100%\n",
      "Parse progress: |█████████████████████████████████████████████████████████| 100%\n"
     ]
    }
   ],
   "source": [
    "aml = H2OAutoML(max_models = 10,max_runtime_secs=100, seed = 1)\n",
    "aml.train(x = x, y = y, training_frame = train,validation_frame=valid)"
   ]
  },
  {
   "cell_type": "code",
   "execution_count": 12,
   "metadata": {},
   "outputs": [],
   "source": [
    "lb = aml.leaderboard"
   ]
  },
  {
   "cell_type": "code",
   "execution_count": 13,
   "metadata": {},
   "outputs": [
    {
     "data": {
      "text/html": [
       "<table>\n",
       "<thead>\n",
       "<tr><th>model_id                                             </th><th style=\"text-align: right;\">     auc</th><th style=\"text-align: right;\">  logloss</th></tr>\n",
       "</thead>\n",
       "<tbody>\n",
       "<tr><td>DRF_0_AutoML_20180821_234135                         </td><td style=\"text-align: right;\">0.706639</td><td style=\"text-align: right;\"> 0.260443</td></tr>\n",
       "<tr><td>StackedEnsemble_AllModels_0_AutoML_20180821_234135   </td><td style=\"text-align: right;\">0.706581</td><td style=\"text-align: right;\"> 0.261037</td></tr>\n",
       "<tr><td>StackedEnsemble_BestOfFamily_0_AutoML_20180821_234135</td><td style=\"text-align: right;\">0.706581</td><td style=\"text-align: right;\"> 0.261037</td></tr>\n",
       "</tbody>\n",
       "</table>"
      ]
     },
     "metadata": {},
     "output_type": "display_data"
    },
    {
     "data": {
      "text/plain": []
     },
     "execution_count": 13,
     "metadata": {},
     "output_type": "execute_result"
    }
   ],
   "source": [
    "lb.head()"
   ]
  },
  {
   "cell_type": "code",
   "execution_count": 14,
   "metadata": {},
   "outputs": [
    {
     "data": {
      "text/html": [
       "<table>\n",
       "<thead>\n",
       "<tr><th>model_id                                             </th><th style=\"text-align: right;\">     auc</th><th style=\"text-align: right;\">  logloss</th></tr>\n",
       "</thead>\n",
       "<tbody>\n",
       "<tr><td>DRF_0_AutoML_20180821_234135                         </td><td style=\"text-align: right;\">0.706639</td><td style=\"text-align: right;\"> 0.260443</td></tr>\n",
       "<tr><td>StackedEnsemble_AllModels_0_AutoML_20180821_234135   </td><td style=\"text-align: right;\">0.706581</td><td style=\"text-align: right;\"> 0.261037</td></tr>\n",
       "<tr><td>StackedEnsemble_BestOfFamily_0_AutoML_20180821_234135</td><td style=\"text-align: right;\">0.706581</td><td style=\"text-align: right;\"> 0.261037</td></tr>\n",
       "</tbody>\n",
       "</table>"
      ]
     },
     "metadata": {},
     "output_type": "display_data"
    },
    {
     "data": {
      "text/plain": []
     },
     "execution_count": 14,
     "metadata": {},
     "output_type": "execute_result"
    }
   ],
   "source": [
    "lb.head(rows=lb.nrows)"
   ]
  },
  {
   "cell_type": "code",
   "execution_count": null,
   "metadata": {},
   "outputs": [],
   "source": []
  }
 ],
 "metadata": {
  "kernelspec": {
   "display_name": "Python 3",
   "language": "python",
   "name": "python3"
  },
  "language_info": {
   "codemirror_mode": {
    "name": "ipython",
    "version": 3
   },
   "file_extension": ".py",
   "mimetype": "text/x-python",
   "name": "python",
   "nbconvert_exporter": "python",
   "pygments_lexer": "ipython3",
   "version": "3.6.4"
  }
 },
 "nbformat": 4,
 "nbformat_minor": 2
}
