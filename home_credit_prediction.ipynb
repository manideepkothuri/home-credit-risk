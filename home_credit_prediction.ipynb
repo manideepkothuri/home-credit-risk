{
 "cells": [
  {
   "cell_type": "code",
   "execution_count": 1,
   "metadata": {},
   "outputs": [],
   "source": [
    "import pandas as pd \n",
    "import numpy as np \n",
    "import os\n",
    "import matplotlib.pyplot as plt \n",
    "import seaborn as sns\n",
    "import h2o"
   ]
  },
  {
   "cell_type": "code",
   "execution_count": 4,
   "metadata": {},
   "outputs": [],
   "source": [
    "path='G:/projects/application_train.csv'"
   ]
  },
  {
   "cell_type": "code",
   "execution_count": 2,
   "metadata": {},
   "outputs": [],
   "source": [
    "data=pd.read_csv('G:/projects/application_train.csv')"
   ]
  },
  {
   "cell_type": "code",
   "execution_count": 3,
   "metadata": {},
   "outputs": [
    {
     "data": {
      "text/plain": [
       "(307511, 122)"
      ]
     },
     "execution_count": 3,
     "metadata": {},
     "output_type": "execute_result"
    }
   ],
   "source": [
    "data.shape"
   ]
  },
  {
   "cell_type": "code",
   "execution_count": 4,
   "metadata": {},
   "outputs": [
    {
     "data": {
      "text/html": [
       "<div>\n",
       "<style scoped>\n",
       "    .dataframe tbody tr th:only-of-type {\n",
       "        vertical-align: middle;\n",
       "    }\n",
       "\n",
       "    .dataframe tbody tr th {\n",
       "        vertical-align: top;\n",
       "    }\n",
       "\n",
       "    .dataframe thead th {\n",
       "        text-align: right;\n",
       "    }\n",
       "</style>\n",
       "<table border=\"1\" class=\"dataframe\">\n",
       "  <thead>\n",
       "    <tr style=\"text-align: right;\">\n",
       "      <th></th>\n",
       "      <th>SK_ID_CURR</th>\n",
       "      <th>TARGET</th>\n",
       "      <th>CNT_CHILDREN</th>\n",
       "      <th>AMT_INCOME_TOTAL</th>\n",
       "      <th>AMT_CREDIT</th>\n",
       "      <th>AMT_ANNUITY</th>\n",
       "      <th>AMT_GOODS_PRICE</th>\n",
       "      <th>REGION_POPULATION_RELATIVE</th>\n",
       "      <th>DAYS_BIRTH</th>\n",
       "      <th>DAYS_EMPLOYED</th>\n",
       "      <th>...</th>\n",
       "      <th>FLAG_DOCUMENT_18</th>\n",
       "      <th>FLAG_DOCUMENT_19</th>\n",
       "      <th>FLAG_DOCUMENT_20</th>\n",
       "      <th>FLAG_DOCUMENT_21</th>\n",
       "      <th>AMT_REQ_CREDIT_BUREAU_HOUR</th>\n",
       "      <th>AMT_REQ_CREDIT_BUREAU_DAY</th>\n",
       "      <th>AMT_REQ_CREDIT_BUREAU_WEEK</th>\n",
       "      <th>AMT_REQ_CREDIT_BUREAU_MON</th>\n",
       "      <th>AMT_REQ_CREDIT_BUREAU_QRT</th>\n",
       "      <th>AMT_REQ_CREDIT_BUREAU_YEAR</th>\n",
       "    </tr>\n",
       "  </thead>\n",
       "  <tbody>\n",
       "    <tr>\n",
       "      <th>count</th>\n",
       "      <td>307511.000000</td>\n",
       "      <td>307511.000000</td>\n",
       "      <td>307511.000000</td>\n",
       "      <td>3.075110e+05</td>\n",
       "      <td>3.075110e+05</td>\n",
       "      <td>307499.000000</td>\n",
       "      <td>3.072330e+05</td>\n",
       "      <td>307511.000000</td>\n",
       "      <td>307511.000000</td>\n",
       "      <td>307511.000000</td>\n",
       "      <td>...</td>\n",
       "      <td>307511.000000</td>\n",
       "      <td>307511.000000</td>\n",
       "      <td>307511.000000</td>\n",
       "      <td>307511.000000</td>\n",
       "      <td>265992.000000</td>\n",
       "      <td>265992.000000</td>\n",
       "      <td>265992.000000</td>\n",
       "      <td>265992.000000</td>\n",
       "      <td>265992.000000</td>\n",
       "      <td>265992.000000</td>\n",
       "    </tr>\n",
       "    <tr>\n",
       "      <th>mean</th>\n",
       "      <td>278180.518577</td>\n",
       "      <td>0.080729</td>\n",
       "      <td>0.417052</td>\n",
       "      <td>1.687979e+05</td>\n",
       "      <td>5.990260e+05</td>\n",
       "      <td>27108.573909</td>\n",
       "      <td>5.383962e+05</td>\n",
       "      <td>0.020868</td>\n",
       "      <td>-16036.995067</td>\n",
       "      <td>63815.045904</td>\n",
       "      <td>...</td>\n",
       "      <td>0.008130</td>\n",
       "      <td>0.000595</td>\n",
       "      <td>0.000507</td>\n",
       "      <td>0.000335</td>\n",
       "      <td>0.006402</td>\n",
       "      <td>0.007000</td>\n",
       "      <td>0.034362</td>\n",
       "      <td>0.267395</td>\n",
       "      <td>0.265474</td>\n",
       "      <td>1.899974</td>\n",
       "    </tr>\n",
       "    <tr>\n",
       "      <th>std</th>\n",
       "      <td>102790.175348</td>\n",
       "      <td>0.272419</td>\n",
       "      <td>0.722121</td>\n",
       "      <td>2.371231e+05</td>\n",
       "      <td>4.024908e+05</td>\n",
       "      <td>14493.737315</td>\n",
       "      <td>3.694465e+05</td>\n",
       "      <td>0.013831</td>\n",
       "      <td>4363.988632</td>\n",
       "      <td>141275.766519</td>\n",
       "      <td>...</td>\n",
       "      <td>0.089798</td>\n",
       "      <td>0.024387</td>\n",
       "      <td>0.022518</td>\n",
       "      <td>0.018299</td>\n",
       "      <td>0.083849</td>\n",
       "      <td>0.110757</td>\n",
       "      <td>0.204685</td>\n",
       "      <td>0.916002</td>\n",
       "      <td>0.794056</td>\n",
       "      <td>1.869295</td>\n",
       "    </tr>\n",
       "    <tr>\n",
       "      <th>min</th>\n",
       "      <td>100002.000000</td>\n",
       "      <td>0.000000</td>\n",
       "      <td>0.000000</td>\n",
       "      <td>2.565000e+04</td>\n",
       "      <td>4.500000e+04</td>\n",
       "      <td>1615.500000</td>\n",
       "      <td>4.050000e+04</td>\n",
       "      <td>0.000290</td>\n",
       "      <td>-25229.000000</td>\n",
       "      <td>-17912.000000</td>\n",
       "      <td>...</td>\n",
       "      <td>0.000000</td>\n",
       "      <td>0.000000</td>\n",
       "      <td>0.000000</td>\n",
       "      <td>0.000000</td>\n",
       "      <td>0.000000</td>\n",
       "      <td>0.000000</td>\n",
       "      <td>0.000000</td>\n",
       "      <td>0.000000</td>\n",
       "      <td>0.000000</td>\n",
       "      <td>0.000000</td>\n",
       "    </tr>\n",
       "    <tr>\n",
       "      <th>25%</th>\n",
       "      <td>189145.500000</td>\n",
       "      <td>0.000000</td>\n",
       "      <td>0.000000</td>\n",
       "      <td>1.125000e+05</td>\n",
       "      <td>2.700000e+05</td>\n",
       "      <td>16524.000000</td>\n",
       "      <td>2.385000e+05</td>\n",
       "      <td>0.010006</td>\n",
       "      <td>-19682.000000</td>\n",
       "      <td>-2760.000000</td>\n",
       "      <td>...</td>\n",
       "      <td>0.000000</td>\n",
       "      <td>0.000000</td>\n",
       "      <td>0.000000</td>\n",
       "      <td>0.000000</td>\n",
       "      <td>0.000000</td>\n",
       "      <td>0.000000</td>\n",
       "      <td>0.000000</td>\n",
       "      <td>0.000000</td>\n",
       "      <td>0.000000</td>\n",
       "      <td>0.000000</td>\n",
       "    </tr>\n",
       "    <tr>\n",
       "      <th>50%</th>\n",
       "      <td>278202.000000</td>\n",
       "      <td>0.000000</td>\n",
       "      <td>0.000000</td>\n",
       "      <td>1.471500e+05</td>\n",
       "      <td>5.135310e+05</td>\n",
       "      <td>24903.000000</td>\n",
       "      <td>4.500000e+05</td>\n",
       "      <td>0.018850</td>\n",
       "      <td>-15750.000000</td>\n",
       "      <td>-1213.000000</td>\n",
       "      <td>...</td>\n",
       "      <td>0.000000</td>\n",
       "      <td>0.000000</td>\n",
       "      <td>0.000000</td>\n",
       "      <td>0.000000</td>\n",
       "      <td>0.000000</td>\n",
       "      <td>0.000000</td>\n",
       "      <td>0.000000</td>\n",
       "      <td>0.000000</td>\n",
       "      <td>0.000000</td>\n",
       "      <td>1.000000</td>\n",
       "    </tr>\n",
       "    <tr>\n",
       "      <th>75%</th>\n",
       "      <td>367142.500000</td>\n",
       "      <td>0.000000</td>\n",
       "      <td>1.000000</td>\n",
       "      <td>2.025000e+05</td>\n",
       "      <td>8.086500e+05</td>\n",
       "      <td>34596.000000</td>\n",
       "      <td>6.795000e+05</td>\n",
       "      <td>0.028663</td>\n",
       "      <td>-12413.000000</td>\n",
       "      <td>-289.000000</td>\n",
       "      <td>...</td>\n",
       "      <td>0.000000</td>\n",
       "      <td>0.000000</td>\n",
       "      <td>0.000000</td>\n",
       "      <td>0.000000</td>\n",
       "      <td>0.000000</td>\n",
       "      <td>0.000000</td>\n",
       "      <td>0.000000</td>\n",
       "      <td>0.000000</td>\n",
       "      <td>0.000000</td>\n",
       "      <td>3.000000</td>\n",
       "    </tr>\n",
       "    <tr>\n",
       "      <th>max</th>\n",
       "      <td>456255.000000</td>\n",
       "      <td>1.000000</td>\n",
       "      <td>19.000000</td>\n",
       "      <td>1.170000e+08</td>\n",
       "      <td>4.050000e+06</td>\n",
       "      <td>258025.500000</td>\n",
       "      <td>4.050000e+06</td>\n",
       "      <td>0.072508</td>\n",
       "      <td>-7489.000000</td>\n",
       "      <td>365243.000000</td>\n",
       "      <td>...</td>\n",
       "      <td>1.000000</td>\n",
       "      <td>1.000000</td>\n",
       "      <td>1.000000</td>\n",
       "      <td>1.000000</td>\n",
       "      <td>4.000000</td>\n",
       "      <td>9.000000</td>\n",
       "      <td>8.000000</td>\n",
       "      <td>27.000000</td>\n",
       "      <td>261.000000</td>\n",
       "      <td>25.000000</td>\n",
       "    </tr>\n",
       "  </tbody>\n",
       "</table>\n",
       "<p>8 rows × 106 columns</p>\n",
       "</div>"
      ],
      "text/plain": [
       "          SK_ID_CURR         TARGET   CNT_CHILDREN  AMT_INCOME_TOTAL  \\\n",
       "count  307511.000000  307511.000000  307511.000000      3.075110e+05   \n",
       "mean   278180.518577       0.080729       0.417052      1.687979e+05   \n",
       "std    102790.175348       0.272419       0.722121      2.371231e+05   \n",
       "min    100002.000000       0.000000       0.000000      2.565000e+04   \n",
       "25%    189145.500000       0.000000       0.000000      1.125000e+05   \n",
       "50%    278202.000000       0.000000       0.000000      1.471500e+05   \n",
       "75%    367142.500000       0.000000       1.000000      2.025000e+05   \n",
       "max    456255.000000       1.000000      19.000000      1.170000e+08   \n",
       "\n",
       "         AMT_CREDIT    AMT_ANNUITY  AMT_GOODS_PRICE  \\\n",
       "count  3.075110e+05  307499.000000     3.072330e+05   \n",
       "mean   5.990260e+05   27108.573909     5.383962e+05   \n",
       "std    4.024908e+05   14493.737315     3.694465e+05   \n",
       "min    4.500000e+04    1615.500000     4.050000e+04   \n",
       "25%    2.700000e+05   16524.000000     2.385000e+05   \n",
       "50%    5.135310e+05   24903.000000     4.500000e+05   \n",
       "75%    8.086500e+05   34596.000000     6.795000e+05   \n",
       "max    4.050000e+06  258025.500000     4.050000e+06   \n",
       "\n",
       "       REGION_POPULATION_RELATIVE     DAYS_BIRTH  DAYS_EMPLOYED  \\\n",
       "count               307511.000000  307511.000000  307511.000000   \n",
       "mean                     0.020868  -16036.995067   63815.045904   \n",
       "std                      0.013831    4363.988632  141275.766519   \n",
       "min                      0.000290  -25229.000000  -17912.000000   \n",
       "25%                      0.010006  -19682.000000   -2760.000000   \n",
       "50%                      0.018850  -15750.000000   -1213.000000   \n",
       "75%                      0.028663  -12413.000000    -289.000000   \n",
       "max                      0.072508   -7489.000000  365243.000000   \n",
       "\n",
       "                  ...              FLAG_DOCUMENT_18  FLAG_DOCUMENT_19  \\\n",
       "count             ...                 307511.000000     307511.000000   \n",
       "mean              ...                      0.008130          0.000595   \n",
       "std               ...                      0.089798          0.024387   \n",
       "min               ...                      0.000000          0.000000   \n",
       "25%               ...                      0.000000          0.000000   \n",
       "50%               ...                      0.000000          0.000000   \n",
       "75%               ...                      0.000000          0.000000   \n",
       "max               ...                      1.000000          1.000000   \n",
       "\n",
       "       FLAG_DOCUMENT_20  FLAG_DOCUMENT_21  AMT_REQ_CREDIT_BUREAU_HOUR  \\\n",
       "count     307511.000000     307511.000000               265992.000000   \n",
       "mean           0.000507          0.000335                    0.006402   \n",
       "std            0.022518          0.018299                    0.083849   \n",
       "min            0.000000          0.000000                    0.000000   \n",
       "25%            0.000000          0.000000                    0.000000   \n",
       "50%            0.000000          0.000000                    0.000000   \n",
       "75%            0.000000          0.000000                    0.000000   \n",
       "max            1.000000          1.000000                    4.000000   \n",
       "\n",
       "       AMT_REQ_CREDIT_BUREAU_DAY  AMT_REQ_CREDIT_BUREAU_WEEK  \\\n",
       "count              265992.000000               265992.000000   \n",
       "mean                    0.007000                    0.034362   \n",
       "std                     0.110757                    0.204685   \n",
       "min                     0.000000                    0.000000   \n",
       "25%                     0.000000                    0.000000   \n",
       "50%                     0.000000                    0.000000   \n",
       "75%                     0.000000                    0.000000   \n",
       "max                     9.000000                    8.000000   \n",
       "\n",
       "       AMT_REQ_CREDIT_BUREAU_MON  AMT_REQ_CREDIT_BUREAU_QRT  \\\n",
       "count              265992.000000              265992.000000   \n",
       "mean                    0.267395                   0.265474   \n",
       "std                     0.916002                   0.794056   \n",
       "min                     0.000000                   0.000000   \n",
       "25%                     0.000000                   0.000000   \n",
       "50%                     0.000000                   0.000000   \n",
       "75%                     0.000000                   0.000000   \n",
       "max                    27.000000                 261.000000   \n",
       "\n",
       "       AMT_REQ_CREDIT_BUREAU_YEAR  \n",
       "count               265992.000000  \n",
       "mean                     1.899974  \n",
       "std                      1.869295  \n",
       "min                      0.000000  \n",
       "25%                      0.000000  \n",
       "50%                      1.000000  \n",
       "75%                      3.000000  \n",
       "max                     25.000000  \n",
       "\n",
       "[8 rows x 106 columns]"
      ]
     },
     "execution_count": 4,
     "metadata": {},
     "output_type": "execute_result"
    }
   ],
   "source": [
    "data.describe()"
   ]
  },
  {
   "cell_type": "code",
   "execution_count": 5,
   "metadata": {},
   "outputs": [
    {
     "data": {
      "text/plain": [
       "<matplotlib.axes._subplots.AxesSubplot at 0x77ba8fc588>"
      ]
     },
     "execution_count": 5,
     "metadata": {},
     "output_type": "execute_result"
    },
    {
     "data": {
      "image/png": "[encoded data removed]",
      "text/plain": [
       "<matplotlib.figure.Figure at 0x77ba8da5c0>"
      ]
     },
     "metadata": {},
     "output_type": "display_data"
    }
   ],
   "source": [
    "target_distribution = data['TARGET'].value_counts()\n",
    "target_distribution.plot.pie(figsize=(10, 10),\n",
    "                             title='Target Distribution',\n",
    "                             fontsize=15, \n",
    "                             legend=True, \n",
    "                             autopct=lambda v: \"{:0.1f}%\".format(v))"
   ]
  },
  {
   "cell_type": "code",
   "execution_count": 15,
   "metadata": {},
   "outputs": [
    {
     "data": {
      "text/plain": [
       "SK_ID_CURR                         0\n",
       "TARGET                             0\n",
       "NAME_CONTRACT_TYPE                 0\n",
       "CODE_GENDER                        0\n",
       "FLAG_OWN_CAR                       0\n",
       "FLAG_OWN_REALTY                    0\n",
       "CNT_CHILDREN                       0\n",
       "AMT_INCOME_TOTAL                   0\n",
       "AMT_CREDIT                         0\n",
       "AMT_ANNUITY                       12\n",
       "AMT_GOODS_PRICE                  278\n",
       "NAME_TYPE_SUITE                 1292\n",
       "NAME_INCOME_TYPE                   0\n",
       "NAME_EDUCATION_TYPE                0\n",
       "NAME_FAMILY_STATUS                 0\n",
       "NAME_HOUSING_TYPE                  0\n",
       "REGION_POPULATION_RELATIVE         0\n",
       "DAYS_BIRTH                         0\n",
       "DAYS_EMPLOYED                      0\n",
       "DAYS_REGISTRATION                  0\n",
       "DAYS_ID_PUBLISH                    0\n",
       "OWN_CAR_AGE                   202929\n",
       "FLAG_MOBIL                         0\n",
       "FLAG_EMP_PHONE                     0\n",
       "FLAG_WORK_PHONE                    0\n",
       "FLAG_CONT_MOBILE                   0\n",
       "FLAG_PHONE                         0\n",
       "FLAG_EMAIL                         0\n",
       "OCCUPATION_TYPE                96391\n",
       "CNT_FAM_MEMBERS                    2\n",
       "                               ...  \n",
       "DEF_30_CNT_SOCIAL_CIRCLE        1021\n",
       "OBS_60_CNT_SOCIAL_CIRCLE        1021\n",
       "DEF_60_CNT_SOCIAL_CIRCLE        1021\n",
       "DAYS_LAST_PHONE_CHANGE             1\n",
       "FLAG_DOCUMENT_2                    0\n",
       "FLAG_DOCUMENT_3                    0\n",
       "FLAG_DOCUMENT_4                    0\n",
       "FLAG_DOCUMENT_5                    0\n",
       "FLAG_DOCUMENT_6                    0\n",
       "FLAG_DOCUMENT_7                    0\n",
       "FLAG_DOCUMENT_8                    0\n",
       "FLAG_DOCUMENT_9                    0\n",
       "FLAG_DOCUMENT_10                   0\n",
       "FLAG_DOCUMENT_11                   0\n",
       "FLAG_DOCUMENT_12                   0\n",
       "FLAG_DOCUMENT_13                   0\n",
       "FLAG_DOCUMENT_14                   0\n",
       "FLAG_DOCUMENT_15                   0\n",
       "FLAG_DOCUMENT_16                   0\n",
       "FLAG_DOCUMENT_17                   0\n",
       "FLAG_DOCUMENT_18                   0\n",
       "FLAG_DOCUMENT_19                   0\n",
       "FLAG_DOCUMENT_20                   0\n",
       "FLAG_DOCUMENT_21                   0\n",
       "AMT_REQ_CREDIT_BUREAU_HOUR     41519\n",
       "AMT_REQ_CREDIT_BUREAU_DAY      41519\n",
       "AMT_REQ_CREDIT_BUREAU_WEEK     41519\n",
       "AMT_REQ_CREDIT_BUREAU_MON      41519\n",
       "AMT_REQ_CREDIT_BUREAU_QRT      41519\n",
       "AMT_REQ_CREDIT_BUREAU_YEAR     41519\n",
       "Length: 122, dtype: int64"
      ]
     },
     "execution_count": 15,
     "metadata": {},
     "output_type": "execute_result"
    }
   ],
   "source": [
    "data.isnull().sum()"
   ]
  },
  {
   "cell_type": "code",
   "execution_count": 14,
   "metadata": {},
   "outputs": [],
   "source": [
    "new_data=data.fillna(data.median())"
   ]
  },
  {
   "cell_type": "code",
   "execution_count": 22,
   "metadata": {},
   "outputs": [
    {
     "data": {
      "text/plain": [
       "SK_ID_CURR                        0\n",
       "TARGET                            0\n",
       "NAME_CONTRACT_TYPE                0\n",
       "CODE_GENDER                       0\n",
       "FLAG_OWN_CAR                      0\n",
       "FLAG_OWN_REALTY                   0\n",
       "CNT_CHILDREN                      0\n",
       "AMT_INCOME_TOTAL                  0\n",
       "AMT_CREDIT                        0\n",
       "AMT_ANNUITY                       0\n",
       "AMT_GOODS_PRICE                   0\n",
       "NAME_TYPE_SUITE                1292\n",
       "NAME_INCOME_TYPE                  0\n",
       "NAME_EDUCATION_TYPE               0\n",
       "NAME_FAMILY_STATUS                0\n",
       "NAME_HOUSING_TYPE                 0\n",
       "REGION_POPULATION_RELATIVE        0\n",
       "DAYS_BIRTH                        0\n",
       "DAYS_EMPLOYED                     0\n",
       "DAYS_REGISTRATION                 0\n",
       "DAYS_ID_PUBLISH                   0\n",
       "OWN_CAR_AGE                       0\n",
       "FLAG_MOBIL                        0\n",
       "FLAG_EMP_PHONE                    0\n",
       "FLAG_WORK_PHONE                   0\n",
       "FLAG_CONT_MOBILE                  0\n",
       "FLAG_PHONE                        0\n",
       "FLAG_EMAIL                        0\n",
       "OCCUPATION_TYPE               96391\n",
       "CNT_FAM_MEMBERS                   0\n",
       "                              ...  \n",
       "DEF_30_CNT_SOCIAL_CIRCLE          0\n",
       "OBS_60_CNT_SOCIAL_CIRCLE          0\n",
       "DEF_60_CNT_SOCIAL_CIRCLE          0\n",
       "DAYS_LAST_PHONE_CHANGE            0\n",
       "FLAG_DOCUMENT_2                   0\n",
       "FLAG_DOCUMENT_3                   0\n",
       "FLAG_DOCUMENT_4                   0\n",
       "FLAG_DOCUMENT_5                   0\n",
       "FLAG_DOCUMENT_6                   0\n",
       "FLAG_DOCUMENT_7                   0\n",
       "FLAG_DOCUMENT_8                   0\n",
       "FLAG_DOCUMENT_9                   0\n",
       "FLAG_DOCUMENT_10                  0\n",
       "FLAG_DOCUMENT_11                  0\n",
       "FLAG_DOCUMENT_12                  0\n",
       "FLAG_DOCUMENT_13                  0\n",
       "FLAG_DOCUMENT_14                  0\n",
       "FLAG_DOCUMENT_15                  0\n",
       "FLAG_DOCUMENT_16                  0\n",
       "FLAG_DOCUMENT_17                  0\n",
       "FLAG_DOCUMENT_18                  0\n",
       "FLAG_DOCUMENT_19                  0\n",
       "FLAG_DOCUMENT_20                  0\n",
       "FLAG_DOCUMENT_21                  0\n",
       "AMT_REQ_CREDIT_BUREAU_HOUR        0\n",
       "AMT_REQ_CREDIT_BUREAU_DAY         0\n",
       "AMT_REQ_CREDIT_BUREAU_WEEK        0\n",
       "AMT_REQ_CREDIT_BUREAU_MON         0\n",
       "AMT_REQ_CREDIT_BUREAU_QRT         0\n",
       "AMT_REQ_CREDIT_BUREAU_YEAR        0\n",
       "Length: 122, dtype: int64"
      ]
     },
     "execution_count": 22,
     "metadata": {},
     "output_type": "execute_result"
    }
   ],
   "source": [
    "new_data.isnull().sum()"
   ]
  },
  {
   "cell_type": "code",
   "execution_count": 26,
   "metadata": {},
   "outputs": [
    {
     "data": {
      "text/plain": [
       "False    307511\n",
       "Name: EXT_SOURCE_1, dtype: int64"
      ]
     },
     "execution_count": 26,
     "metadata": {},
     "output_type": "execute_result"
    }
   ],
   "source": [
    "new_data['EXT_SOURCE_1'].isnull().value_counts()"
   ]
  },
  {
   "cell_type": "code",
   "execution_count": 4,
   "metadata": {},
   "outputs": [],
   "source": [
    "ext_data=data[['EXT_SOURCE_1','EXT_SOURCE_2','EXT_SOURCE_3','AMT_INCOME_TOTAL','CNT_CHILDREN','AMT_CREDIT','AMT_ANNUITY',\n",
    "                  'AMT_GOODS_PRICE','AMT_REQ_CREDIT_BUREAU_YEAR','AMT_REQ_CREDIT_BUREAU_DAY','AMT_REQ_CREDIT_BUREAU_WEEK',\n",
    "                  'AMT_REQ_CREDIT_BUREAU_MON']]"
   ]
  },
  {
   "cell_type": "code",
   "execution_count": 11,
   "metadata": {},
   "outputs": [
    {
     "data": {
      "image/png": "[encoded data removed]",
      "text/plain": [
       "<matplotlib.figure.Figure at 0x8f907f2a90>"
      ]
     },
     "metadata": {},
     "output_type": "display_data"
    }
   ],
   "source": [
    "sns.jointplot(\"CNT_CHILDREN\",\"AMT_INCOME_TOTAL\",data=new_data);"
   ]
  },
  {
   "cell_type": "code",
   "execution_count": 10,
   "metadata": {},
   "outputs": [
    {
     "data": {
      "image/png": "[encoded data removed]",
      "text/plain": [
       "<matplotlib.figure.Figure at 0x340bc3f240>"
      ]
     },
     "metadata": {},
     "output_type": "display_data"
    }
   ],
   "source": [
    "ext_data_corrs = ext_data.corr()\n",
    "plt.figure(figsize = (8, 6))\n",
    "sns.heatmap(ext_data_corrs, cmap = plt.cm.RdYlBu_r, vmin = -0.25, annot = True, vmax = 0.6)\n",
    "plt.title('Correlation Heatmap');"
   ]
  },
  {
   "cell_type": "code",
   "execution_count": 5,
   "metadata": {},
   "outputs": [
    {
     "data": {
      "image/png": "[encoded data removed]",
      "text/plain": [
       "<matplotlib.figure.Figure at 0x5dbf147c18>"
      ]
     },
     "metadata": {},
     "output_type": "display_data"
    }
   ],
   "source": [
    "with sns.axes_style(style='ticks'):\n",
    "    g=sns.factorplot(\"AMT_INCOME_TOTAL\",\"NAME_INCOME_TYPE\",\"TARGET\",data=data,kind=\"bar\")\n",
    "    g.set_axis_labels(\"incometotal\",\"income_type\")"
   ]
  },
  {
   "cell_type": "code",
   "execution_count": 6,
   "metadata": {},
   "outputs": [
    {
     "data": {
      "image/png": "[encoded data removed]",
      "text/plain": [
       "<matplotlib.figure.Figure at 0x5dbf154dd8>"
      ]
     },
     "metadata": {},
     "output_type": "display_data"
    }
   ],
   "source": [
    "with sns.axes_style(style='ticks'):\n",
    "    g=sns.factorplot(\"AMT_INCOME_TOTAL\",\"NAME_FAMILY_STATUS\",\"TARGET\",data=data,kind=\"bar\")\n",
    "    g.set_axis_labels(\"incometotal\",\"familystatus\")"
   ]
  },
  {
   "cell_type": "code",
   "execution_count": 7,
   "metadata": {},
   "outputs": [
    {
     "data": {
      "image/png": "[encoded data removed]",
      "text/plain": [
       "<matplotlib.figure.Figure at 0x5dae5c5eb8>"
      ]
     },
     "metadata": {},
     "output_type": "display_data"
    }
   ],
   "source": [
    "with sns.axes_style(style='ticks'):\n",
    "    g=sns.factorplot(\"AMT_INCOME_TOTAL\",\"NAME_EDUCATION_TYPE\",\"TARGET\",data=data,kind='bar')\n",
    "    g.set_axis_labels(\"incometotal\",\"education_type\")"
   ]
  },
  {
   "cell_type": "code",
   "execution_count": 25,
   "metadata": {},
   "outputs": [
    {
     "name": "stdout",
     "output_type": "stream",
     "text": [
      "Checking whether there is an H2O instance running at http://localhost:54321..... not found.\n",
      "Attempting to start a local H2O server...\n",
      "; OpenJDK 64-Bit Server VM (Zulu 8.20.0.5-win64) (build 25.121-b15, mixed mode)\n",
      "  Starting server from G:\\conda\\h2o_jar\\h2o.jar\n",
      "  Ice root: C:\\Users\\MOUNIK~1\\AppData\\Local\\Temp\\tmpseufmqj0\n",
      "  JVM stdout: C:\\Users\\MOUNIK~1\\AppData\\Local\\Temp\\tmpseufmqj0\\h2o_Mounika_kothuri_started_from_python.out\n",
      "  JVM stderr: C:\\Users\\MOUNIK~1\\AppData\\Local\\Temp\\tmpseufmqj0\\h2o_Mounika_kothuri_started_from_python.err\n",
      "  Server is running at http://127.0.0.1:54321\n",
      "Connecting to H2O server at http://127.0.0.1:54321... successful.\n",
      "Warning: Your H2O cluster version is too old (5 months and 25 days)! Please download and install the latest version from http://h2o.ai/download/\n"
     ]
    },
    {
     "data": {
      "text/html": [
       "<div style=\"overflow:auto\"><table style=\"width:50%\"><tr><td>H2O cluster uptime:</td>\n",
       "<td>13 secs</td></tr>\n",
       "<tr><td>H2O cluster timezone:</td>\n",
       "<td>Asia/Kolkata</td></tr>\n",
       "<tr><td>H2O data parsing timezone:</td>\n",
       "<td>UTC</td></tr>\n",
       "<tr><td>H2O cluster version:</td>\n",
       "<td>3.18.0.2</td></tr>\n",
       "<tr><td>H2O cluster version age:</td>\n",
       "<td>5 months and 25 days !!!</td></tr>\n",
       "<tr><td>H2O cluster name:</td>\n",
       "<td>H2O_from_python_Mounika_kothuri_vyxgcz</td></tr>\n",
       "<tr><td>H2O cluster total nodes:</td>\n",
       "<td>1</td></tr>\n",
       "<tr><td>H2O cluster free memory:</td>\n",
       "<td>1.778 Gb</td></tr>\n",
       "<tr><td>H2O cluster total cores:</td>\n",
       "<td>4</td></tr>\n",
       "<tr><td>H2O cluster allowed cores:</td>\n",
       "<td>4</td></tr>\n",
       "<tr><td>H2O cluster status:</td>\n",
       "<td>accepting new members, healthy</td></tr>\n",
       "<tr><td>H2O connection url:</td>\n",
       "<td>http://127.0.0.1:54321</td></tr>\n",
       "<tr><td>H2O connection proxy:</td>\n",
       "<td>None</td></tr>\n",
       "<tr><td>H2O internal security:</td>\n",
       "<td>False</td></tr>\n",
       "<tr><td>H2O API Extensions:</td>\n",
       "<td>Algos, AutoML, Core V3, Core V4</td></tr>\n",
       "<tr><td>Python version:</td>\n",
       "<td>3.6.4 final</td></tr></table></div>"
      ],
      "text/plain": [
       "--------------------------  --------------------------------------\n",
       "H2O cluster uptime:         13 secs\n",
       "H2O cluster timezone:       Asia/Kolkata\n",
       "H2O data parsing timezone:  UTC\n",
       "H2O cluster version:        3.18.0.2\n",
       "H2O cluster version age:    5 months and 25 days !!!\n",
       "H2O cluster name:           H2O_from_python_Mounika_kothuri_vyxgcz\n",
       "H2O cluster total nodes:    1\n",
       "H2O cluster free memory:    1.778 Gb\n",
       "H2O cluster total cores:    4\n",
       "H2O cluster allowed cores:  4\n",
       "H2O cluster status:         accepting new members, healthy\n",
       "H2O connection url:         http://127.0.0.1:54321\n",
       "H2O connection proxy:\n",
       "H2O internal security:      False\n",
       "H2O API Extensions:         Algos, AutoML, Core V3, Core V4\n",
       "Python version:             3.6.4 final\n",
       "--------------------------  --------------------------------------"
      ]
     },
     "metadata": {},
     "output_type": "display_data"
    }
   ],
   "source": [
    "h2o.init(nthreads=-1,max_mem_size=\"2G\")"
   ]
  },
  {
   "cell_type": "code",
   "execution_count": 26,
   "metadata": {},
   "outputs": [
    {
     "name": "stdout",
     "output_type": "stream",
     "text": [
      "Parse progress: |█████████████████████████████████████████████████████████| 100%\n"
     ]
    }
   ],
   "source": [
    "data=h2o.H2OFrame(new_data)"
   ]
  },
  {
   "cell_type": "code",
   "execution_count": 27,
   "metadata": {},
   "outputs": [
    {
     "data": {
      "text/plain": [
       "[['0', '1']]"
      ]
     },
     "execution_count": 27,
     "metadata": {},
     "output_type": "execute_result"
    }
   ],
   "source": [
    "data['TARGET']=data['TARGET'].asfactor()\n",
    "data['TARGET'].levels()"
   ]
  },
  {
   "cell_type": "code",
   "execution_count": 6,
   "metadata": {},
   "outputs": [],
   "source": [
    "y='TARGET'\n",
    "x=list(data.columns)"
   ]
  },
  {
   "cell_type": "code",
   "execution_count": 7,
   "metadata": {},
   "outputs": [],
   "source": [
    "x.remove(y)\n",
    "x.remove('SK_ID_CURR')"
   ]
  },
  {
   "cell_type": "code",
   "execution_count": 8,
   "metadata": {},
   "outputs": [],
   "source": [
    "splits=data.split_frame(ratios=[0.7,0.15],seed=1)\n",
    "train=splits[0]\n",
    "valid=splits[1]\n",
    "test=splits[2]"
   ]
  },
  {
   "cell_type": "code",
   "execution_count": 9,
   "metadata": {},
   "outputs": [
    {
     "name": "stdout",
     "output_type": "stream",
     "text": [
      "215422\n",
      "45995\n"
     ]
    }
   ],
   "source": [
    "print (train.nrow)\n",
    "print (valid.nrow)"
   ]
  },
  {
   "cell_type": "code",
   "execution_count": 19,
   "metadata": {},
   "outputs": [],
   "source": [
    "from h2o.estimators.glm import H2OGeneralizedLinearEstimator"
   ]
  },
  {
   "cell_type": "code",
   "execution_count": 20,
   "metadata": {},
   "outputs": [],
   "source": [
    "glm_fit1 = H2OGeneralizedLinearEstimator(family='binomial', model_id='glm_fit1')"
   ]
  },
  {
   "cell_type": "code",
   "execution_count": 21,
   "metadata": {},
   "outputs": [
    {
     "name": "stdout",
     "output_type": "stream",
     "text": [
      "glm Model Build progress: |███████████████████████████████████████████████| 100%\n"
     ]
    }
   ],
   "source": [
    "glm_fit1.train(x=x, y=y, training_frame=train)"
   ]
  },
  {
   "cell_type": "code",
   "execution_count": 22,
   "metadata": {},
   "outputs": [
    {
     "name": "stdout",
     "output_type": "stream",
     "text": [
      "glm Model Build progress: |███████████████████████████████████████████████| 100%\n"
     ]
    }
   ],
   "source": [
    "glm_fit2 = H2OGeneralizedLinearEstimator(family='binomial', model_id='glm_fit2', lambda_search=True)\n",
    "glm_fit2.train(x=x, y=y, training_frame=train, validation_frame=valid)"
   ]
  },
  {
   "cell_type": "code",
   "execution_count": 23,
   "metadata": {},
   "outputs": [],
   "source": [
    "glm_perf1 = glm_fit1.model_performance(test)\n",
    "glm_perf2 = glm_fit2.model_performance(test)"
   ]
  },
  {
   "cell_type": "code",
   "execution_count": 24,
   "metadata": {},
   "outputs": [
    {
     "name": "stdout",
     "output_type": "stream",
     "text": [
      "\n",
      "ModelMetricsBinomialGLM: glm\n",
      "** Reported on test data. **\n",
      "\n",
      "MSE: 0.06944946975507571\n",
      "RMSE: 0.26353267303140177\n",
      "LogLoss: 0.25303503271714595\n",
      "Null degrees of freedom: 46093\n",
      "Residual degrees of freedom: 45952\n",
      "Null deviance: 25852.80076184814\n",
      "Residual deviance: 23326.79359612825\n",
      "AIC: 23610.79359612825\n",
      "AUC: 0.7354233010586632\n",
      "Gini: 0.4708466021173263\n",
      "Confusion Matrix (Act/Pred) for max f1 @ threshold = 0.14589981192617266: \n"
     ]
    },
    {
     "data": {
      "text/html": [
       "<div style=\"overflow:auto\"><table style=\"width:50%\"><tr><td><b></b></td>\n",
       "<td><b>0</b></td>\n",
       "<td><b>1</b></td>\n",
       "<td><b>Error</b></td>\n",
       "<td><b>Rate</b></td></tr>\n",
       "<tr><td>0</td>\n",
       "<td>37114.0</td>\n",
       "<td>5261.0</td>\n",
       "<td>0.1242</td>\n",
       "<td> (5261.0/42375.0)</td></tr>\n",
       "<tr><td>1</td>\n",
       "<td>2243.0</td>\n",
       "<td>1476.0</td>\n",
       "<td>0.6031</td>\n",
       "<td> (2243.0/3719.0)</td></tr>\n",
       "<tr><td>Total</td>\n",
       "<td>39357.0</td>\n",
       "<td>6737.0</td>\n",
       "<td>0.1628</td>\n",
       "<td> (7504.0/46094.0)</td></tr></table></div>"
      ],
      "text/plain": [
       "       0      1     Error    Rate\n",
       "-----  -----  ----  -------  ----------------\n",
       "0      37114  5261  0.1242   (5261.0/42375.0)\n",
       "1      2243   1476  0.6031   (2243.0/3719.0)\n",
       "Total  39357  6737  0.1628   (7504.0/46094.0)"
      ]
     },
     "metadata": {},
     "output_type": "display_data"
    },
    {
     "name": "stdout",
     "output_type": "stream",
     "text": [
      "Maximum Metrics: Maximum metrics at their respective thresholds\n",
      "\n"
     ]
    },
    {
     "data": {
      "text/html": [
       "<div style=\"overflow:auto\"><table style=\"width:50%\"><tr><td><b>metric</b></td>\n",
       "<td><b>threshold</b></td>\n",
       "<td><b>value</b></td>\n",
       "<td><b>idx</b></td></tr>\n",
       "<tr><td>max f1</td>\n",
       "<td>0.1458998</td>\n",
       "<td>0.2823259</td>\n",
       "<td>194.0</td></tr>\n",
       "<tr><td>max f2</td>\n",
       "<td>0.0925309</td>\n",
       "<td>0.4028569</td>\n",
       "<td>255.0</td></tr>\n",
       "<tr><td>max f0point5</td>\n",
       "<td>0.2221020</td>\n",
       "<td>0.2630880</td>\n",
       "<td>132.0</td></tr>\n",
       "<tr><td>max accuracy</td>\n",
       "<td>0.7133203</td>\n",
       "<td>0.9192954</td>\n",
       "<td>0.0</td></tr>\n",
       "<tr><td>max precision</td>\n",
       "<td>0.4285754</td>\n",
       "<td>0.4202899</td>\n",
       "<td>38.0</td></tr>\n",
       "<tr><td>max recall</td>\n",
       "<td>0.0033296</td>\n",
       "<td>1.0</td>\n",
       "<td>399.0</td></tr>\n",
       "<tr><td>max specificity</td>\n",
       "<td>0.7133203</td>\n",
       "<td>0.9999764</td>\n",
       "<td>0.0</td></tr>\n",
       "<tr><td>max absolute_mcc</td>\n",
       "<td>0.1155290</td>\n",
       "<td>0.2163836</td>\n",
       "<td>225.0</td></tr>\n",
       "<tr><td>max min_per_class_accuracy</td>\n",
       "<td>0.0794400</td>\n",
       "<td>0.6727552</td>\n",
       "<td>273.0</td></tr>\n",
       "<tr><td>max mean_per_class_accuracy</td>\n",
       "<td>0.0925309</td>\n",
       "<td>0.6750643</td>\n",
       "<td>255.0</td></tr></table></div>"
      ],
      "text/plain": [
       "metric                       threshold    value     idx\n",
       "---------------------------  -----------  --------  -----\n",
       "max f1                       0.1459       0.282326  194\n",
       "max f2                       0.0925309    0.402857  255\n",
       "max f0point5                 0.222102     0.263088  132\n",
       "max accuracy                 0.71332      0.919295  0\n",
       "max precision                0.428575     0.42029   38\n",
       "max recall                   0.00332963   1         399\n",
       "max specificity              0.71332      0.999976  0\n",
       "max absolute_mcc             0.115529     0.216384  225\n",
       "max min_per_class_accuracy   0.07944      0.672755  273\n",
       "max mean_per_class_accuracy  0.0925309    0.675064  255"
      ]
     },
     "metadata": {},
     "output_type": "display_data"
    },
    {
     "name": "stdout",
     "output_type": "stream",
     "text": [
      "Gains/Lift Table: Avg response rate:  8.07 %\n",
      "\n"
     ]
    },
    {
     "data": {
      "text/html": [
       "<div style=\"overflow:auto\"><table style=\"width:50%\"><tr><td><b></b></td>\n",
       "<td><b>group</b></td>\n",
       "<td><b>cumulative_data_fraction</b></td>\n",
       "<td><b>lower_threshold</b></td>\n",
       "<td><b>lift</b></td>\n",
       "<td><b>cumulative_lift</b></td>\n",
       "<td><b>response_rate</b></td>\n",
       "<td><b>cumulative_response_rate</b></td>\n",
       "<td><b>capture_rate</b></td>\n",
       "<td><b>cumulative_capture_rate</b></td>\n",
       "<td><b>gain</b></td>\n",
       "<td><b>cumulative_gain</b></td></tr>\n",
       "<tr><td></td>\n",
       "<td>1</td>\n",
       "<td>0.0100013</td>\n",
       "<td>0.3833143</td>\n",
       "<td>4.7049536</td>\n",
       "<td>4.7049536</td>\n",
       "<td>0.3796095</td>\n",
       "<td>0.3796095</td>\n",
       "<td>0.0470557</td>\n",
       "<td>0.0470557</td>\n",
       "<td>370.4953574</td>\n",
       "<td>370.4953574</td></tr>\n",
       "<tr><td></td>\n",
       "<td>2</td>\n",
       "<td>0.0200026</td>\n",
       "<td>0.3229755</td>\n",
       "<td>3.6833065</td>\n",
       "<td>4.1941300</td>\n",
       "<td>0.2971800</td>\n",
       "<td>0.3383948</td>\n",
       "<td>0.0368379</td>\n",
       "<td>0.0838935</td>\n",
       "<td>268.3306512</td>\n",
       "<td>319.4130043</td></tr>\n",
       "<tr><td></td>\n",
       "<td>3</td>\n",
       "<td>0.0300039</td>\n",
       "<td>0.2867719</td>\n",
       "<td>3.4413375</td>\n",
       "<td>3.9431992</td>\n",
       "<td>0.2776573</td>\n",
       "<td>0.3181490</td>\n",
       "<td>0.0344179</td>\n",
       "<td>0.1183114</td>\n",
       "<td>244.1337471</td>\n",
       "<td>294.3199186</td></tr>\n",
       "<tr><td></td>\n",
       "<td>4</td>\n",
       "<td>0.0400052</td>\n",
       "<td>0.2595684</td>\n",
       "<td>3.1187121</td>\n",
       "<td>3.7370774</td>\n",
       "<td>0.2516269</td>\n",
       "<td>0.3015184</td>\n",
       "<td>0.0311912</td>\n",
       "<td>0.1495026</td>\n",
       "<td>211.8712084</td>\n",
       "<td>273.7077410</td></tr>\n",
       "<tr><td></td>\n",
       "<td>5</td>\n",
       "<td>0.0500065</td>\n",
       "<td>0.2391635</td>\n",
       "<td>2.7692012</td>\n",
       "<td>3.5435022</td>\n",
       "<td>0.2234273</td>\n",
       "<td>0.2859002</td>\n",
       "<td>0.0276956</td>\n",
       "<td>0.1771982</td>\n",
       "<td>176.9201247</td>\n",
       "<td>254.3502178</td></tr>\n",
       "<tr><td></td>\n",
       "<td>6</td>\n",
       "<td>0.1000130</td>\n",
       "<td>0.1779950</td>\n",
       "<td>2.5863802</td>\n",
       "<td>3.0649412</td>\n",
       "<td>0.2086768</td>\n",
       "<td>0.2472885</td>\n",
       "<td>0.1293358</td>\n",
       "<td>0.3065340</td>\n",
       "<td>158.6380193</td>\n",
       "<td>206.4941186</td></tr>\n",
       "<tr><td></td>\n",
       "<td>7</td>\n",
       "<td>0.1499978</td>\n",
       "<td>0.1433090</td>\n",
       "<td>1.9204542</td>\n",
       "<td>2.6835559</td>\n",
       "<td>0.1549479</td>\n",
       "<td>0.2165172</td>\n",
       "<td>0.0959935</td>\n",
       "<td>0.4025276</td>\n",
       "<td>92.0454227</td>\n",
       "<td>168.3555887</td></tr>\n",
       "<tr><td></td>\n",
       "<td>8</td>\n",
       "<td>0.2000043</td>\n",
       "<td>0.1205509</td>\n",
       "<td>1.7206687</td>\n",
       "<td>2.4428080</td>\n",
       "<td>0.1388286</td>\n",
       "<td>0.1970930</td>\n",
       "<td>0.0860446</td>\n",
       "<td>0.4885722</td>\n",
       "<td>72.0668736</td>\n",
       "<td>144.2807988</td></tr>\n",
       "<tr><td></td>\n",
       "<td>9</td>\n",
       "<td>0.2999957</td>\n",
       "<td>0.0906135</td>\n",
       "<td>1.3230511</td>\n",
       "<td>2.0695827</td>\n",
       "<td>0.1067477</td>\n",
       "<td>0.1669800</td>\n",
       "<td>0.1322936</td>\n",
       "<td>0.6208658</td>\n",
       "<td>32.3051086</td>\n",
       "<td>106.9582680</td></tr>\n",
       "<tr><td></td>\n",
       "<td>10</td>\n",
       "<td>0.4000087</td>\n",
       "<td>0.0713816</td>\n",
       "<td>0.9302365</td>\n",
       "<td>1.7847152</td>\n",
       "<td>0.0750542</td>\n",
       "<td>0.1439961</td>\n",
       "<td>0.0930358</td>\n",
       "<td>0.7139016</td>\n",
       "<td>-6.9763465</td>\n",
       "<td>78.4715247</td></tr>\n",
       "<tr><td></td>\n",
       "<td>11</td>\n",
       "<td>0.5</td>\n",
       "<td>0.0567128</td>\n",
       "<td>0.8067385</td>\n",
       "<td>1.5891369</td>\n",
       "<td>0.0650900</td>\n",
       "<td>0.1282163</td>\n",
       "<td>0.0806668</td>\n",
       "<td>0.7945684</td>\n",
       "<td>-19.3261533</td>\n",
       "<td>58.9136865</td></tr>\n",
       "<tr><td></td>\n",
       "<td>12</td>\n",
       "<td>0.5999913</td>\n",
       "<td>0.0453582</td>\n",
       "<td>0.6507690</td>\n",
       "<td>1.4327535</td>\n",
       "<td>0.0525060</td>\n",
       "<td>0.1155988</td>\n",
       "<td>0.0650713</td>\n",
       "<td>0.8596397</td>\n",
       "<td>-34.9230970</td>\n",
       "<td>43.2753536</td></tr>\n",
       "<tr><td></td>\n",
       "<td>13</td>\n",
       "<td>0.7000043</td>\n",
       "<td>0.0360073</td>\n",
       "<td>0.5242663</td>\n",
       "<td>1.3029535</td>\n",
       "<td>0.0422993</td>\n",
       "<td>0.1051261</td>\n",
       "<td>0.0524334</td>\n",
       "<td>0.9120731</td>\n",
       "<td>-47.5733745</td>\n",
       "<td>30.2953549</td></tr>\n",
       "<tr><td></td>\n",
       "<td>14</td>\n",
       "<td>0.7999957</td>\n",
       "<td>0.0276201</td>\n",
       "<td>0.3603432</td>\n",
       "<td>1.1851368</td>\n",
       "<td>0.0290736</td>\n",
       "<td>0.0956203</td>\n",
       "<td>0.0360312</td>\n",
       "<td>0.9481043</td>\n",
       "<td>-63.9656818</td>\n",
       "<td>18.5136839</td></tr>\n",
       "<tr><td></td>\n",
       "<td>15</td>\n",
       "<td>0.8999870</td>\n",
       "<td>0.0192866</td>\n",
       "<td>0.3388302</td>\n",
       "<td>1.0911096</td>\n",
       "<td>0.0273378</td>\n",
       "<td>0.0880339</td>\n",
       "<td>0.0338801</td>\n",
       "<td>0.9819844</td>\n",
       "<td>-66.1169844</td>\n",
       "<td>9.1109564</td></tr>\n",
       "<tr><td></td>\n",
       "<td>16</td>\n",
       "<td>1.0</td>\n",
       "<td>0.0008961</td>\n",
       "<td>0.1801325</td>\n",
       "<td>1.0</td>\n",
       "<td>0.0145336</td>\n",
       "<td>0.0806830</td>\n",
       "<td>0.0180156</td>\n",
       "<td>1.0</td>\n",
       "<td>-81.9867492</td>\n",
       "<td>0.0</td></tr></table></div>"
      ],
      "text/plain": [
       "    group    cumulative_data_fraction    lower_threshold    lift      cumulative_lift    response_rate    cumulative_response_rate    capture_rate    cumulative_capture_rate    gain      cumulative_gain\n",
       "--  -------  --------------------------  -----------------  --------  -----------------  ---------------  --------------------------  --------------  -------------------------  --------  -----------------\n",
       "    1        0.0100013                   0.383314           4.70495   4.70495            0.37961          0.37961                     0.0470557       0.0470557                  370.495   370.495\n",
       "    2        0.0200026                   0.322975           3.68331   4.19413            0.29718          0.338395                    0.0368379       0.0838935                  268.331   319.413\n",
       "    3        0.0300039                   0.286772           3.44134   3.9432             0.277657         0.318149                    0.0344179       0.118311                   244.134   294.32\n",
       "    4        0.0400052                   0.259568           3.11871   3.73708            0.251627         0.301518                    0.0311912       0.149503                   211.871   273.708\n",
       "    5        0.0500065                   0.239164           2.7692    3.5435             0.223427         0.2859                      0.0276956       0.177198                   176.92    254.35\n",
       "    6        0.100013                    0.177995           2.58638   3.06494            0.208677         0.247289                    0.129336        0.306534                   158.638   206.494\n",
       "    7        0.149998                    0.143309           1.92045   2.68356            0.154948         0.216517                    0.0959935       0.402528                   92.0454   168.356\n",
       "    8        0.200004                    0.120551           1.72067   2.44281            0.138829         0.197093                    0.0860446       0.488572                   72.0669   144.281\n",
       "    9        0.299996                    0.0906135          1.32305   2.06958            0.106748         0.16698                     0.132294        0.620866                   32.3051   106.958\n",
       "    10       0.400009                    0.0713816          0.930237  1.78472            0.0750542        0.143996                    0.0930358       0.713902                   -6.97635  78.4715\n",
       "    11       0.5                         0.0567128          0.806738  1.58914            0.06509          0.128216                    0.0806668       0.794568                   -19.3262  58.9137\n",
       "    12       0.599991                    0.0453582          0.650769  1.43275            0.052506         0.115599                    0.0650713       0.85964                    -34.9231  43.2754\n",
       "    13       0.700004                    0.0360073          0.524266  1.30295            0.0422993        0.105126                    0.0524334       0.912073                   -47.5734  30.2954\n",
       "    14       0.799996                    0.0276201          0.360343  1.18514            0.0290736        0.0956203                   0.0360312       0.948104                   -63.9657  18.5137\n",
       "    15       0.899987                    0.0192866          0.33883   1.09111            0.0273378        0.0880339                   0.0338801       0.981984                   -66.117   9.11096\n",
       "    16       1                           0.000896131        0.180133  1                  0.0145336        0.080683                    0.0180156       1                          -81.9867  0"
      ]
     },
     "metadata": {},
     "output_type": "display_data"
    },
    {
     "name": "stdout",
     "output_type": "stream",
     "text": [
      "\n",
      "\n",
      "\n",
      "ModelMetricsBinomialGLM: glm\n",
      "** Reported on test data. **\n",
      "\n",
      "MSE: 0.06944986085156654\n",
      "RMSE: 0.26353341505692696\n",
      "LogLoss: 0.253021039895118\n",
      "Null degrees of freedom: 46093\n",
      "Residual degrees of freedom: 45961\n",
      "Null deviance: 25852.80076184814\n",
      "Residual deviance: 23325.50362585114\n",
      "AIC: 23591.50362585114\n",
      "AUC: 0.7354684618014327\n",
      "Gini: 0.4709369236028653\n",
      "Confusion Matrix (Act/Pred) for max f1 @ threshold = 0.1277240614751547: \n"
     ]
    },
    {
     "data": {
      "text/html": [
       "<div style=\"overflow:auto\"><table style=\"width:50%\"><tr><td><b></b></td>\n",
       "<td><b>0</b></td>\n",
       "<td><b>1</b></td>\n",
       "<td><b>Error</b></td>\n",
       "<td><b>Rate</b></td></tr>\n",
       "<tr><td>0</td>\n",
       "<td>35663.0</td>\n",
       "<td>6712.0</td>\n",
       "<td>0.1584</td>\n",
       "<td> (6712.0/42375.0)</td></tr>\n",
       "<tr><td>1</td>\n",
       "<td>2007.0</td>\n",
       "<td>1712.0</td>\n",
       "<td>0.5397</td>\n",
       "<td> (2007.0/3719.0)</td></tr>\n",
       "<tr><td>Total</td>\n",
       "<td>37670.0</td>\n",
       "<td>8424.0</td>\n",
       "<td>0.1892</td>\n",
       "<td> (8719.0/46094.0)</td></tr></table></div>"
      ],
      "text/plain": [
       "       0      1     Error    Rate\n",
       "-----  -----  ----  -------  ----------------\n",
       "0      35663  6712  0.1584   (6712.0/42375.0)\n",
       "1      2007   1712  0.5397   (2007.0/3719.0)\n",
       "Total  37670  8424  0.1892   (8719.0/46094.0)"
      ]
     },
     "metadata": {},
     "output_type": "display_data"
    },
    {
     "name": "stdout",
     "output_type": "stream",
     "text": [
      "Maximum Metrics: Maximum metrics at their respective thresholds\n",
      "\n"
     ]
    },
    {
     "data": {
      "text/html": [
       "<div style=\"overflow:auto\"><table style=\"width:50%\"><tr><td><b>metric</b></td>\n",
       "<td><b>threshold</b></td>\n",
       "<td><b>value</b></td>\n",
       "<td><b>idx</b></td></tr>\n",
       "<tr><td>max f1</td>\n",
       "<td>0.1277241</td>\n",
       "<td>0.2819732</td>\n",
       "<td>213.0</td></tr>\n",
       "<tr><td>max f2</td>\n",
       "<td>0.0871677</td>\n",
       "<td>0.4031630</td>\n",
       "<td>262.0</td></tr>\n",
       "<tr><td>max f0point5</td>\n",
       "<td>0.2165783</td>\n",
       "<td>0.2625040</td>\n",
       "<td>137.0</td></tr>\n",
       "<tr><td>max accuracy</td>\n",
       "<td>0.7121572</td>\n",
       "<td>0.9192954</td>\n",
       "<td>0.0</td></tr>\n",
       "<tr><td>max precision</td>\n",
       "<td>0.4898296</td>\n",
       "<td>0.4174757</td>\n",
       "<td>23.0</td></tr>\n",
       "<tr><td>max recall</td>\n",
       "<td>0.0034804</td>\n",
       "<td>1.0</td>\n",
       "<td>399.0</td></tr>\n",
       "<tr><td>max specificity</td>\n",
       "<td>0.7121572</td>\n",
       "<td>0.9999764</td>\n",
       "<td>0.0</td></tr>\n",
       "<tr><td>max absolute_mcc</td>\n",
       "<td>0.1167095</td>\n",
       "<td>0.2150039</td>\n",
       "<td>226.0</td></tr>\n",
       "<tr><td>max min_per_class_accuracy</td>\n",
       "<td>0.0794279</td>\n",
       "<td>0.6720472</td>\n",
       "<td>273.0</td></tr>\n",
       "<tr><td>max mean_per_class_accuracy</td>\n",
       "<td>0.0871677</td>\n",
       "<td>0.6753106</td>\n",
       "<td>262.0</td></tr></table></div>"
      ],
      "text/plain": [
       "metric                       threshold    value     idx\n",
       "---------------------------  -----------  --------  -----\n",
       "max f1                       0.127724     0.281973  213\n",
       "max f2                       0.0871677    0.403163  262\n",
       "max f0point5                 0.216578     0.262504  137\n",
       "max accuracy                 0.712157     0.919295  0\n",
       "max precision                0.48983      0.417476  23\n",
       "max recall                   0.00348038   1         399\n",
       "max specificity              0.712157     0.999976  0\n",
       "max absolute_mcc             0.11671      0.215004  226\n",
       "max min_per_class_accuracy   0.0794279    0.672047  273\n",
       "max mean_per_class_accuracy  0.0871677    0.675311  262"
      ]
     },
     "metadata": {},
     "output_type": "display_data"
    },
    {
     "name": "stdout",
     "output_type": "stream",
     "text": [
      "Gains/Lift Table: Avg response rate:  8.07 %\n",
      "\n"
     ]
    },
    {
     "data": {
      "text/html": [
       "<div style=\"overflow:auto\"><table style=\"width:50%\"><tr><td><b></b></td>\n",
       "<td><b>group</b></td>\n",
       "<td><b>cumulative_data_fraction</b></td>\n",
       "<td><b>lower_threshold</b></td>\n",
       "<td><b>lift</b></td>\n",
       "<td><b>cumulative_lift</b></td>\n",
       "<td><b>response_rate</b></td>\n",
       "<td><b>cumulative_response_rate</b></td>\n",
       "<td><b>capture_rate</b></td>\n",
       "<td><b>cumulative_capture_rate</b></td>\n",
       "<td><b>gain</b></td>\n",
       "<td><b>cumulative_gain</b></td></tr>\n",
       "<tr><td></td>\n",
       "<td>1</td>\n",
       "<td>0.0100013</td>\n",
       "<td>0.3800765</td>\n",
       "<td>4.6780681</td>\n",
       "<td>4.6780681</td>\n",
       "<td>0.3774403</td>\n",
       "<td>0.3774403</td>\n",
       "<td>0.0467868</td>\n",
       "<td>0.0467868</td>\n",
       "<td>367.8068125</td>\n",
       "<td>367.8068125</td></tr>\n",
       "<tr><td></td>\n",
       "<td>2</td>\n",
       "<td>0.0200026</td>\n",
       "<td>0.3213205</td>\n",
       "<td>3.6833065</td>\n",
       "<td>4.1806873</td>\n",
       "<td>0.2971800</td>\n",
       "<td>0.3373102</td>\n",
       "<td>0.0368379</td>\n",
       "<td>0.0836246</td>\n",
       "<td>268.3306512</td>\n",
       "<td>318.0687319</td></tr>\n",
       "<tr><td></td>\n",
       "<td>3</td>\n",
       "<td>0.0300039</td>\n",
       "<td>0.2841568</td>\n",
       "<td>3.4413375</td>\n",
       "<td>3.9342374</td>\n",
       "<td>0.2776573</td>\n",
       "<td>0.3174259</td>\n",
       "<td>0.0344179</td>\n",
       "<td>0.1180425</td>\n",
       "<td>244.1337471</td>\n",
       "<td>293.4237370</td></tr>\n",
       "<tr><td></td>\n",
       "<td>4</td>\n",
       "<td>0.0400052</td>\n",
       "<td>0.2585504</td>\n",
       "<td>3.2800248</td>\n",
       "<td>3.7706842</td>\n",
       "<td>0.2646421</td>\n",
       "<td>0.3042299</td>\n",
       "<td>0.0328045</td>\n",
       "<td>0.1508470</td>\n",
       "<td>228.0024777</td>\n",
       "<td>277.0684222</td></tr>\n",
       "<tr><td></td>\n",
       "<td>5</td>\n",
       "<td>0.0500065</td>\n",
       "<td>0.2379283</td>\n",
       "<td>2.6616595</td>\n",
       "<td>3.5488793</td>\n",
       "<td>0.2147505</td>\n",
       "<td>0.2863341</td>\n",
       "<td>0.0266201</td>\n",
       "<td>0.1774671</td>\n",
       "<td>166.1659451</td>\n",
       "<td>254.8879267</td></tr>\n",
       "<tr><td></td>\n",
       "<td>6</td>\n",
       "<td>0.1000130</td>\n",
       "<td>0.1776534</td>\n",
       "<td>2.5702489</td>\n",
       "<td>3.0595641</td>\n",
       "<td>0.2073753</td>\n",
       "<td>0.2468547</td>\n",
       "<td>0.1285292</td>\n",
       "<td>0.3059962</td>\n",
       "<td>157.0248924</td>\n",
       "<td>205.9564096</td></tr>\n",
       "<tr><td></td>\n",
       "<td>7</td>\n",
       "<td>0.1499978</td>\n",
       "<td>0.1429577</td>\n",
       "<td>1.9043160</td>\n",
       "<td>2.6745928</td>\n",
       "<td>0.1536458</td>\n",
       "<td>0.2157940</td>\n",
       "<td>0.0951869</td>\n",
       "<td>0.4011831</td>\n",
       "<td>90.4315956</td>\n",
       "<td>167.4592775</td></tr>\n",
       "<tr><td></td>\n",
       "<td>8</td>\n",
       "<td>0.2000043</td>\n",
       "<td>0.1204056</td>\n",
       "<td>1.7636855</td>\n",
       "<td>2.4468412</td>\n",
       "<td>0.1422993</td>\n",
       "<td>0.1974184</td>\n",
       "<td>0.0881958</td>\n",
       "<td>0.4893789</td>\n",
       "<td>76.3685454</td>\n",
       "<td>144.6841243</td></tr>\n",
       "<tr><td></td>\n",
       "<td>9</td>\n",
       "<td>0.2999957</td>\n",
       "<td>0.0907022</td>\n",
       "<td>1.3122946</td>\n",
       "<td>2.0686864</td>\n",
       "<td>0.1058798</td>\n",
       "<td>0.1669077</td>\n",
       "<td>0.1312181</td>\n",
       "<td>0.6205969</td>\n",
       "<td>31.2294574</td>\n",
       "<td>106.8686369</td></tr>\n",
       "<tr><td></td>\n",
       "<td>10</td>\n",
       "<td>0.4000087</td>\n",
       "<td>0.0714614</td>\n",
       "<td>0.9356136</td>\n",
       "<td>1.7853875</td>\n",
       "<td>0.0754881</td>\n",
       "<td>0.1440503</td>\n",
       "<td>0.0935735</td>\n",
       "<td>0.7141705</td>\n",
       "<td>-6.4386375</td>\n",
       "<td>78.5387456</td></tr>\n",
       "<tr><td></td>\n",
       "<td>11</td>\n",
       "<td>0.5</td>\n",
       "<td>0.0568120</td>\n",
       "<td>0.8201841</td>\n",
       "<td>1.5923635</td>\n",
       "<td>0.0661749</td>\n",
       "<td>0.1284766</td>\n",
       "<td>0.0820113</td>\n",
       "<td>0.7961818</td>\n",
       "<td>-17.9815892</td>\n",
       "<td>59.2363539</td></tr>\n",
       "<tr><td></td>\n",
       "<td>12</td>\n",
       "<td>0.5999913</td>\n",
       "<td>0.0455939</td>\n",
       "<td>0.6427016</td>\n",
       "<td>1.4340980</td>\n",
       "<td>0.0518551</td>\n",
       "<td>0.1157073</td>\n",
       "<td>0.0642646</td>\n",
       "<td>0.8604464</td>\n",
       "<td>-35.7298354</td>\n",
       "<td>43.4098003</td></tr>\n",
       "<tr><td></td>\n",
       "<td>13</td>\n",
       "<td>0.7000043</td>\n",
       "<td>0.0362103</td>\n",
       "<td>0.5188892</td>\n",
       "<td>1.3033377</td>\n",
       "<td>0.0418655</td>\n",
       "<td>0.1051571</td>\n",
       "<td>0.0518957</td>\n",
       "<td>0.9123420</td>\n",
       "<td>-48.1110834</td>\n",
       "<td>30.3337675</td></tr>\n",
       "<tr><td></td>\n",
       "<td>14</td>\n",
       "<td>0.7999957</td>\n",
       "<td>0.0278518</td>\n",
       "<td>0.3684106</td>\n",
       "<td>1.1864813</td>\n",
       "<td>0.0297245</td>\n",
       "<td>0.0957288</td>\n",
       "<td>0.0368379</td>\n",
       "<td>0.9491799</td>\n",
       "<td>-63.1589433</td>\n",
       "<td>18.6481294</td></tr>\n",
       "<tr><td></td>\n",
       "<td>15</td>\n",
       "<td>0.8999870</td>\n",
       "<td>0.0194949</td>\n",
       "<td>0.3253845</td>\n",
       "<td>1.0908108</td>\n",
       "<td>0.0262530</td>\n",
       "<td>0.0880098</td>\n",
       "<td>0.0325356</td>\n",
       "<td>0.9817155</td>\n",
       "<td>-67.4615485</td>\n",
       "<td>9.0810793</td></tr>\n",
       "<tr><td></td>\n",
       "<td>16</td>\n",
       "<td>1.0</td>\n",
       "<td>0.0014208</td>\n",
       "<td>0.1828211</td>\n",
       "<td>1.0</td>\n",
       "<td>0.0147505</td>\n",
       "<td>0.0806830</td>\n",
       "<td>0.0182845</td>\n",
       "<td>1.0</td>\n",
       "<td>-81.7178947</td>\n",
       "<td>0.0</td></tr></table></div>"
      ],
      "text/plain": [
       "    group    cumulative_data_fraction    lower_threshold    lift      cumulative_lift    response_rate    cumulative_response_rate    capture_rate    cumulative_capture_rate    gain      cumulative_gain\n",
       "--  -------  --------------------------  -----------------  --------  -----------------  ---------------  --------------------------  --------------  -------------------------  --------  -----------------\n",
       "    1        0.0100013                   0.380076           4.67807   4.67807            0.37744          0.37744                     0.0467868       0.0467868                  367.807   367.807\n",
       "    2        0.0200026                   0.321321           3.68331   4.18069            0.29718          0.33731                     0.0368379       0.0836246                  268.331   318.069\n",
       "    3        0.0300039                   0.284157           3.44134   3.93424            0.277657         0.317426                    0.0344179       0.118042                   244.134   293.424\n",
       "    4        0.0400052                   0.25855            3.28002   3.77068            0.264642         0.30423                     0.0328045       0.150847                   228.002   277.068\n",
       "    5        0.0500065                   0.237928           2.66166   3.54888            0.214751         0.286334                    0.0266201       0.177467                   166.166   254.888\n",
       "    6        0.100013                    0.177653           2.57025   3.05956            0.207375         0.246855                    0.128529        0.305996                   157.025   205.956\n",
       "    7        0.149998                    0.142958           1.90432   2.67459            0.153646         0.215794                    0.0951869       0.401183                   90.4316   167.459\n",
       "    8        0.200004                    0.120406           1.76369   2.44684            0.142299         0.197418                    0.0881958       0.489379                   76.3685   144.684\n",
       "    9        0.299996                    0.0907022          1.31229   2.06869            0.10588          0.166908                    0.131218        0.620597                   31.2295   106.869\n",
       "    10       0.400009                    0.0714614          0.935614  1.78539            0.0754881        0.14405                     0.0935735       0.71417                    -6.43864  78.5387\n",
       "    11       0.5                         0.056812           0.820184  1.59236            0.0661749        0.128477                    0.0820113       0.796182                   -17.9816  59.2364\n",
       "    12       0.599991                    0.0455939          0.642702  1.4341             0.0518551        0.115707                    0.0642646       0.860446                   -35.7298  43.4098\n",
       "    13       0.700004                    0.0362103          0.518889  1.30334            0.0418655        0.105157                    0.0518957       0.912342                   -48.1111  30.3338\n",
       "    14       0.799996                    0.0278518          0.368411  1.18648            0.0297245        0.0957288                   0.0368379       0.94918                    -63.1589  18.6481\n",
       "    15       0.899987                    0.0194949          0.325385  1.09081            0.026253         0.0880098                   0.0325356       0.981716                   -67.4615  9.08108\n",
       "    16       1                           0.0014208          0.182821  1                  0.0147505        0.080683                    0.0182845       1                          -81.7179  0"
      ]
     },
     "metadata": {},
     "output_type": "display_data"
    },
    {
     "name": "stdout",
     "output_type": "stream",
     "text": [
      "\n",
      "\n"
     ]
    }
   ],
   "source": [
    "print (glm_perf1)\n",
    "print (glm_perf2)"
   ]
  },
  {
   "cell_type": "code",
   "execution_count": 25,
   "metadata": {},
   "outputs": [
    {
     "name": "stdout",
     "output_type": "stream",
     "text": [
      "0.7354233010586632\n",
      "0.7354684618014327\n"
     ]
    }
   ],
   "source": [
    "print (glm_perf1.auc())\n",
    "print (glm_perf2.auc())"
   ]
  },
  {
   "cell_type": "code",
   "execution_count": 26,
   "metadata": {},
   "outputs": [
    {
     "name": "stdout",
     "output_type": "stream",
     "text": [
      "0.7499640025843041\n",
      "0.7420544649633977\n"
     ]
    }
   ],
   "source": [
    "print (glm_fit2.auc(train=True))\n",
    "print (glm_fit2.auc(valid=True))"
   ]
  },
  {
   "cell_type": "code",
   "execution_count": 27,
   "metadata": {},
   "outputs": [],
   "source": [
    "from h2o.estimators.random_forest import H2ORandomForestEstimator"
   ]
  },
  {
   "cell_type": "code",
   "execution_count": 28,
   "metadata": {},
   "outputs": [],
   "source": [
    "rf_fit1 = H2ORandomForestEstimator(model_id='rf_fit1', seed=1)"
   ]
  },
  {
   "cell_type": "code",
   "execution_count": 29,
   "metadata": {},
   "outputs": [
    {
     "name": "stdout",
     "output_type": "stream",
     "text": [
      "drf Model Build progress: |███████████████████████████████████████████████| 100%\n"
     ]
    }
   ],
   "source": [
    "rf_fit1.train(x=x, y=y, training_frame=train)"
   ]
  },
  {
   "cell_type": "code",
   "execution_count": 31,
   "metadata": {},
   "outputs": [
    {
     "name": "stdout",
     "output_type": "stream",
     "text": [
      "drf Model Build progress: |███████████████████████████████████████████████| 100%\n"
     ]
    }
   ],
   "source": [
    "rf_fit2 = H2ORandomForestEstimator(model_id='rf_fit2', ntrees=500, seed=1)\n",
    "rf_fit2.train(x=x, y=y, training_frame=train)"
   ]
  },
  {
   "cell_type": "code",
   "execution_count": 32,
   "metadata": {},
   "outputs": [],
   "source": [
    "rf_perf1 = rf_fit1.model_performance(test)\n",
    "rf_perf2 = rf_fit2.model_performance(test)"
   ]
  },
  {
   "cell_type": "code",
   "execution_count": 34,
   "metadata": {},
   "outputs": [
    {
     "name": "stdout",
     "output_type": "stream",
     "text": [
      "0.7145046222816581\n",
      "0.7295626238854769\n"
     ]
    }
   ],
   "source": [
    "print (rf_perf1.auc())\n",
    "print (rf_perf2.auc())"
   ]
  },
  {
   "cell_type": "code",
   "execution_count": 17,
   "metadata": {},
   "outputs": [],
   "source": [
    "from h2o.estimators.gbm import H2OGradientBoostingEstimator"
   ]
  },
  {
   "cell_type": "code",
   "execution_count": 18,
   "metadata": {},
   "outputs": [
    {
     "name": "stdout",
     "output_type": "stream",
     "text": [
      "gbm Model Build progress: |███████████████████████████████████████████████| 100%\n"
     ]
    }
   ],
   "source": [
    "gbm_fit1 = H2OGradientBoostingEstimator(model_id='gbm_fit1', seed=1)\n",
    "gbm_fit1.train(x=x, y=y, training_frame=train)"
   ]
  },
  {
   "cell_type": "code",
   "execution_count": 19,
   "metadata": {},
   "outputs": [
    {
     "name": "stdout",
     "output_type": "stream",
     "text": [
      "gbm Model Build progress: |███████████████████████████████████████████████| 100%\n"
     ]
    }
   ],
   "source": [
    "gbm_fit2 = H2OGradientBoostingEstimator(model_id='gbm_fit2', ntrees=500, seed=1)\n",
    "gbm_fit2.train(x=x, y=y, training_frame=train)\n"
   ]
  },
  {
   "cell_type": "code",
   "execution_count": 20,
   "metadata": {},
   "outputs": [
    {
     "name": "stdout",
     "output_type": "stream",
     "text": [
      "gbm Model Build progress: |███████████████████████████████████████████████| 100%\n"
     ]
    }
   ],
   "source": [
    "gbm_fit3 = H2OGradientBoostingEstimator(model_id='gbm_fit3', \n",
    "                                        ntrees=500, \n",
    "                                        score_tree_interval=5,     #used for early stopping\n",
    "                                        stopping_rounds=3,         #used for early stopping\n",
    "                                        stopping_metric='AUC',     #used for early stopping\n",
    "                                        stopping_tolerance=0.0005, #used for early stopping\n",
    "                                        seed=1)\n",
    "gbm_fit3.train(x=x, y=y, training_frame=train, validation_frame=valid)"
   ]
  },
  {
   "cell_type": "code",
   "execution_count": 22,
   "metadata": {},
   "outputs": [
    {
     "name": "stdout",
     "output_type": "stream",
     "text": [
      "Model Details\n",
      "=============\n",
      "H2OGradientBoostingEstimator :  Gradient Boosting Machine\n",
      "Model Key:  gbm_fit3\n",
      "\n",
      "\n",
      "ModelMetricsBinomial: gbm\n",
      "** Reported on train data. **\n",
      "\n",
      "MSE: 0.0644233729707005\n",
      "RMSE: 0.2538175978349423\n",
      "LogLoss: 0.23280150116037931\n",
      "Mean Per-Class Error: 0.27651474981911695\n",
      "AUC: 0.7999374266291674\n",
      "Gini: 0.5998748532583349\n",
      "Confusion Matrix (Act/Pred) for max f1 @ threshold = 0.1606547134802201: \n"
     ]
    },
    {
     "data": {
      "text/html": [
       "<div style=\"overflow:auto\"><table style=\"width:50%\"><tr><td><b></b></td>\n",
       "<td><b>0</b></td>\n",
       "<td><b>1</b></td>\n",
       "<td><b>Error</b></td>\n",
       "<td><b>Rate</b></td></tr>\n",
       "<tr><td>0</td>\n",
       "<td>179932.0</td>\n",
       "<td>18010.0</td>\n",
       "<td>0.091</td>\n",
       "<td> (18010.0/197942.0)</td></tr>\n",
       "<tr><td>1</td>\n",
       "<td>9727.0</td>\n",
       "<td>7753.0</td>\n",
       "<td>0.5565</td>\n",
       "<td> (9727.0/17480.0)</td></tr>\n",
       "<tr><td>Total</td>\n",
       "<td>189659.0</td>\n",
       "<td>25763.0</td>\n",
       "<td>0.1288</td>\n",
       "<td> (27737.0/215422.0)</td></tr></table></div>"
      ],
      "text/plain": [
       "       0       1      Error    Rate\n",
       "-----  ------  -----  -------  ------------------\n",
       "0      179932  18010  0.091    (18010.0/197942.0)\n",
       "1      9727    7753   0.5565   (9727.0/17480.0)\n",
       "Total  189659  25763  0.1288   (27737.0/215422.0)"
      ]
     },
     "metadata": {},
     "output_type": "display_data"
    },
    {
     "name": "stdout",
     "output_type": "stream",
     "text": [
      "Maximum Metrics: Maximum metrics at their respective thresholds\n",
      "\n"
     ]
    },
    {
     "data": {
      "text/html": [
       "<div style=\"overflow:auto\"><table style=\"width:50%\"><tr><td><b>metric</b></td>\n",
       "<td><b>threshold</b></td>\n",
       "<td><b>value</b></td>\n",
       "<td><b>idx</b></td></tr>\n",
       "<tr><td>max f1</td>\n",
       "<td>0.1606547</td>\n",
       "<td>0.3585783</td>\n",
       "<td>206.0</td></tr>\n",
       "<tr><td>max f2</td>\n",
       "<td>0.0894643</td>\n",
       "<td>0.4623809</td>\n",
       "<td>273.0</td></tr>\n",
       "<tr><td>max f0point5</td>\n",
       "<td>0.2728475</td>\n",
       "<td>0.3842501</td>\n",
       "<td>134.0</td></tr>\n",
       "<tr><td>max accuracy</td>\n",
       "<td>0.4038893</td>\n",
       "<td>0.9223988</td>\n",
       "<td>80.0</td></tr>\n",
       "<tr><td>max precision</td>\n",
       "<td>0.9166245</td>\n",
       "<td>1.0</td>\n",
       "<td>0.0</td></tr>\n",
       "<tr><td>max recall</td>\n",
       "<td>0.0122168</td>\n",
       "<td>1.0</td>\n",
       "<td>394.0</td></tr>\n",
       "<tr><td>max specificity</td>\n",
       "<td>0.9166245</td>\n",
       "<td>1.0</td>\n",
       "<td>0.0</td></tr>\n",
       "<tr><td>max absolute_mcc</td>\n",
       "<td>0.1606547</td>\n",
       "<td>0.2966706</td>\n",
       "<td>206.0</td></tr>\n",
       "<tr><td>max min_per_class_accuracy</td>\n",
       "<td>0.0815675</td>\n",
       "<td>0.7231664</td>\n",
       "<td>282.0</td></tr>\n",
       "<tr><td>max mean_per_class_accuracy</td>\n",
       "<td>0.0824269</td>\n",
       "<td>0.7234853</td>\n",
       "<td>281.0</td></tr></table></div>"
      ],
      "text/plain": [
       "metric                       threshold    value     idx\n",
       "---------------------------  -----------  --------  -----\n",
       "max f1                       0.160655     0.358578  206\n",
       "max f2                       0.0894643    0.462381  273\n",
       "max f0point5                 0.272847     0.38425   134\n",
       "max accuracy                 0.403889     0.922399  80\n",
       "max precision                0.916624     1         0\n",
       "max recall                   0.0122168    1         394\n",
       "max specificity              0.916624     1         0\n",
       "max absolute_mcc             0.160655     0.296671  206\n",
       "max min_per_class_accuracy   0.0815675    0.723166  282\n",
       "max mean_per_class_accuracy  0.0824269    0.723485  281"
      ]
     },
     "metadata": {},
     "output_type": "display_data"
    },
    {
     "name": "stdout",
     "output_type": "stream",
     "text": [
      "Gains/Lift Table: Avg response rate:  8.11 %\n",
      "\n"
     ]
    },
    {
     "data": {
      "text/html": [
       "<div style=\"overflow:auto\"><table style=\"width:50%\"><tr><td><b></b></td>\n",
       "<td><b>group</b></td>\n",
       "<td><b>cumulative_data_fraction</b></td>\n",
       "<td><b>lower_threshold</b></td>\n",
       "<td><b>lift</b></td>\n",
       "<td><b>cumulative_lift</b></td>\n",
       "<td><b>response_rate</b></td>\n",
       "<td><b>cumulative_response_rate</b></td>\n",
       "<td><b>capture_rate</b></td>\n",
       "<td><b>cumulative_capture_rate</b></td>\n",
       "<td><b>gain</b></td>\n",
       "<td><b>cumulative_gain</b></td></tr>\n",
       "<tr><td></td>\n",
       "<td>1</td>\n",
       "<td>0.0100036</td>\n",
       "<td>0.4311961</td>\n",
       "<td>8.2578796</td>\n",
       "<td>8.2578796</td>\n",
       "<td>0.6700696</td>\n",
       "<td>0.6700696</td>\n",
       "<td>0.0826087</td>\n",
       "<td>0.0826087</td>\n",
       "<td>725.7879552</td>\n",
       "<td>725.7879552</td></tr>\n",
       "<tr><td></td>\n",
       "<td>2</td>\n",
       "<td>0.0200026</td>\n",
       "<td>0.3513212</td>\n",
       "<td>5.6584726</td>\n",
       "<td>6.9584777</td>\n",
       "<td>0.4591458</td>\n",
       "<td>0.5646322</td>\n",
       "<td>0.0565789</td>\n",
       "<td>0.1391876</td>\n",
       "<td>465.8472609</td>\n",
       "<td>595.8477706</td></tr>\n",
       "<tr><td></td>\n",
       "<td>3</td>\n",
       "<td>0.0300016</td>\n",
       "<td>0.3053124</td>\n",
       "<td>4.7087189</td>\n",
       "<td>6.2086741</td>\n",
       "<td>0.3820799</td>\n",
       "<td>0.5037908</td>\n",
       "<td>0.0470824</td>\n",
       "<td>0.1862700</td>\n",
       "<td>370.8718865</td>\n",
       "<td>520.8674125</td></tr>\n",
       "<tr><td></td>\n",
       "<td>4</td>\n",
       "<td>0.0400006</td>\n",
       "<td>0.2739100</td>\n",
       "<td>4.1880707</td>\n",
       "<td>5.7035819</td>\n",
       "<td>0.3398329</td>\n",
       "<td>0.4628061</td>\n",
       "<td>0.0418764</td>\n",
       "<td>0.2281465</td>\n",
       "<td>318.8070728</td>\n",
       "<td>470.3581898</td></tr>\n",
       "<tr><td></td>\n",
       "<td>5</td>\n",
       "<td>0.0500042</td>\n",
       "<td>0.2495706</td>\n",
       "<td>3.6314083</td>\n",
       "<td>5.2890317</td>\n",
       "<td>0.2946636</td>\n",
       "<td>0.4291682</td>\n",
       "<td>0.0363272</td>\n",
       "<td>0.2644737</td>\n",
       "<td>263.1408252</td>\n",
       "<td>428.9031749</td></tr>\n",
       "<tr><td></td>\n",
       "<td>6</td>\n",
       "<td>0.1000037</td>\n",
       "<td>0.1773815</td>\n",
       "<td>2.6979656</td>\n",
       "<td>3.9935588</td>\n",
       "<td>0.2189212</td>\n",
       "<td>0.3240496</td>\n",
       "<td>0.1348970</td>\n",
       "<td>0.3993707</td>\n",
       "<td>169.7965552</td>\n",
       "<td>299.3558787</td></tr>\n",
       "<tr><td></td>\n",
       "<td>7</td>\n",
       "<td>0.1500032</td>\n",
       "<td>0.1391082</td>\n",
       "<td>2.0766783</td>\n",
       "<td>3.3546184</td>\n",
       "<td>0.1685080</td>\n",
       "<td>0.2722040</td>\n",
       "<td>0.1038330</td>\n",
       "<td>0.5032037</td>\n",
       "<td>107.6678319</td>\n",
       "<td>235.4618405</td></tr>\n",
       "<tr><td></td>\n",
       "<td>8</td>\n",
       "<td>0.2000028</td>\n",
       "<td>0.1144472</td>\n",
       "<td>1.6144315</td>\n",
       "<td>2.9195818</td>\n",
       "<td>0.1309999</td>\n",
       "<td>0.2369038</td>\n",
       "<td>0.0807208</td>\n",
       "<td>0.5839245</td>\n",
       "<td>61.4431465</td>\n",
       "<td>191.9581767</td></tr>\n",
       "<tr><td></td>\n",
       "<td>9</td>\n",
       "<td>0.3000019</td>\n",
       "<td>0.0839211</td>\n",
       "<td>1.2625975</td>\n",
       "<td>2.3672622</td>\n",
       "<td>0.1024510</td>\n",
       "<td>0.1920869</td>\n",
       "<td>0.1262586</td>\n",
       "<td>0.7101831</td>\n",
       "<td>26.2597534</td>\n",
       "<td>136.7262236</td></tr>\n",
       "<tr><td></td>\n",
       "<td>10</td>\n",
       "<td>0.4000009</td>\n",
       "<td>0.0650326</td>\n",
       "<td>0.8838755</td>\n",
       "<td>1.9964199</td>\n",
       "<td>0.0717204</td>\n",
       "<td>0.1619956</td>\n",
       "<td>0.0883867</td>\n",
       "<td>0.7985698</td>\n",
       "<td>-11.6124517</td>\n",
       "<td>99.6419851</td></tr>\n",
       "<tr><td></td>\n",
       "<td>11</td>\n",
       "<td>0.5</td>\n",
       "<td>0.0518372</td>\n",
       "<td>0.6830727</td>\n",
       "<td>1.7337529</td>\n",
       "<td>0.0554266</td>\n",
       "<td>0.1406820</td>\n",
       "<td>0.0683066</td>\n",
       "<td>0.8668764</td>\n",
       "<td>-31.6927297</td>\n",
       "<td>73.3752860</td></tr>\n",
       "<tr><td></td>\n",
       "<td>12</td>\n",
       "<td>0.5999991</td>\n",
       "<td>0.0419838</td>\n",
       "<td>0.4765490</td>\n",
       "<td>1.5242205</td>\n",
       "<td>0.0386686</td>\n",
       "<td>0.1236799</td>\n",
       "<td>0.0476545</td>\n",
       "<td>0.9145309</td>\n",
       "<td>-52.3450953</td>\n",
       "<td>52.4220513</td></tr>\n",
       "<tr><td></td>\n",
       "<td>13</td>\n",
       "<td>0.6999981</td>\n",
       "<td>0.0342269</td>\n",
       "<td>0.3678524</td>\n",
       "<td>1.3590262</td>\n",
       "<td>0.0298487</td>\n",
       "<td>0.1102755</td>\n",
       "<td>0.0367849</td>\n",
       "<td>0.9513158</td>\n",
       "<td>-63.2147615</td>\n",
       "<td>35.9026161</td></tr>\n",
       "<tr><td></td>\n",
       "<td>14</td>\n",
       "<td>0.7999972</td>\n",
       "<td>0.0276707</td>\n",
       "<td>0.2511465</td>\n",
       "<td>1.2205420</td>\n",
       "<td>0.0203788</td>\n",
       "<td>0.0990385</td>\n",
       "<td>0.0251144</td>\n",
       "<td>0.9764302</td>\n",
       "<td>-74.8853504</td>\n",
       "<td>22.0542007</td></tr>\n",
       "<tr><td></td>\n",
       "<td>15</td>\n",
       "<td>0.8999963</td>\n",
       "<td>0.0212030</td>\n",
       "<td>0.1578962</td>\n",
       "<td>1.1024709</td>\n",
       "<td>0.0128122</td>\n",
       "<td>0.0894579</td>\n",
       "<td>0.0157895</td>\n",
       "<td>0.9922197</td>\n",
       "<td>-84.2103797</td>\n",
       "<td>10.2470860</td></tr>\n",
       "<tr><td></td>\n",
       "<td>16</td>\n",
       "<td>1.0</td>\n",
       "<td>0.0035930</td>\n",
       "<td>0.0778003</td>\n",
       "<td>1.0</td>\n",
       "<td>0.0063130</td>\n",
       "<td>0.0811431</td>\n",
       "<td>0.0077803</td>\n",
       "<td>1.0</td>\n",
       "<td>-92.2199686</td>\n",
       "<td>0.0</td></tr></table></div>"
      ],
      "text/plain": [
       "    group    cumulative_data_fraction    lower_threshold    lift       cumulative_lift    response_rate    cumulative_response_rate    capture_rate    cumulative_capture_rate    gain      cumulative_gain\n",
       "--  -------  --------------------------  -----------------  ---------  -----------------  ---------------  --------------------------  --------------  -------------------------  --------  -----------------\n",
       "    1        0.0100036                   0.431196           8.25788    8.25788            0.67007          0.67007                     0.0826087       0.0826087                  725.788   725.788\n",
       "    2        0.0200026                   0.351321           5.65847    6.95848            0.459146         0.564632                    0.0565789       0.139188                   465.847   595.848\n",
       "    3        0.0300016                   0.305312           4.70872    6.20867            0.38208          0.503791                    0.0470824       0.18627                    370.872   520.867\n",
       "    4        0.0400006                   0.27391            4.18807    5.70358            0.339833         0.462806                    0.0418764       0.228146                   318.807   470.358\n",
       "    5        0.0500042                   0.249571           3.63141    5.28903            0.294664         0.429168                    0.0363272       0.264474                   263.141   428.903\n",
       "    6        0.100004                    0.177381           2.69797    3.99356            0.218921         0.32405                     0.134897        0.399371                   169.797   299.356\n",
       "    7        0.150003                    0.139108           2.07668    3.35462            0.168508         0.272204                    0.103833        0.503204                   107.668   235.462\n",
       "    8        0.200003                    0.114447           1.61443    2.91958            0.131            0.236904                    0.0807208       0.583924                   61.4431   191.958\n",
       "    9        0.300002                    0.0839211          1.2626     2.36726            0.102451         0.192087                    0.126259        0.710183                   26.2598   136.726\n",
       "    10       0.400001                    0.0650326          0.883875   1.99642            0.0717204        0.161996                    0.0883867       0.79857                    -11.6125  99.642\n",
       "    11       0.5                         0.0518372          0.683073   1.73375            0.0554266        0.140682                    0.0683066       0.866876                   -31.6927  73.3753\n",
       "    12       0.599999                    0.0419838          0.476549   1.52422            0.0386686        0.12368                     0.0476545       0.914531                   -52.3451  52.4221\n",
       "    13       0.699998                    0.0342269          0.367852   1.35903            0.0298487        0.110276                    0.0367849       0.951316                   -63.2148  35.9026\n",
       "    14       0.799997                    0.0276707          0.251146   1.22054            0.0203788        0.0990385                   0.0251144       0.97643                    -74.8854  22.0542\n",
       "    15       0.899996                    0.021203           0.157896   1.10247            0.0128122        0.0894579                   0.0157895       0.99222                    -84.2104  10.2471\n",
       "    16       1                           0.00359296         0.0778003  1                  0.00631296       0.0811431                   0.00778032      1                          -92.22    0"
      ]
     },
     "metadata": {},
     "output_type": "display_data"
    },
    {
     "name": "stdout",
     "output_type": "stream",
     "text": [
      "\n",
      "\n",
      "ModelMetricsBinomial: gbm\n",
      "** Reported on validation data. **\n",
      "\n",
      "MSE: 0.0668349045193018\n",
      "RMSE: 0.25852447566778236\n",
      "LogLoss: 0.24369310993266702\n",
      "Mean Per-Class Error: 0.31515202363413486\n",
      "AUC: 0.7540876262743328\n",
      "Gini: 0.5081752525486656\n",
      "Confusion Matrix (Act/Pred) for max f1 @ threshold = 0.14228733759759726: \n"
     ]
    },
    {
     "data": {
      "text/html": [
       "<div style=\"overflow:auto\"><table style=\"width:50%\"><tr><td><b></b></td>\n",
       "<td><b>0</b></td>\n",
       "<td><b>1</b></td>\n",
       "<td><b>Error</b></td>\n",
       "<td><b>Rate</b></td></tr>\n",
       "<tr><td>0</td>\n",
       "<td>37399.0</td>\n",
       "<td>4970.0</td>\n",
       "<td>0.1173</td>\n",
       "<td> (4970.0/42369.0)</td></tr>\n",
       "<tr><td>1</td>\n",
       "<td>2112.0</td>\n",
       "<td>1514.0</td>\n",
       "<td>0.5825</td>\n",
       "<td> (2112.0/3626.0)</td></tr>\n",
       "<tr><td>Total</td>\n",
       "<td>39511.0</td>\n",
       "<td>6484.0</td>\n",
       "<td>0.154</td>\n",
       "<td> (7082.0/45995.0)</td></tr></table></div>"
      ],
      "text/plain": [
       "       0      1     Error    Rate\n",
       "-----  -----  ----  -------  ----------------\n",
       "0      37399  4970  0.1173   (4970.0/42369.0)\n",
       "1      2112   1514  0.5825   (2112.0/3626.0)\n",
       "Total  39511  6484  0.154    (7082.0/45995.0)"
      ]
     },
     "metadata": {},
     "output_type": "display_data"
    },
    {
     "name": "stdout",
     "output_type": "stream",
     "text": [
      "Maximum Metrics: Maximum metrics at their respective thresholds\n",
      "\n"
     ]
    },
    {
     "data": {
      "text/html": [
       "<div style=\"overflow:auto\"><table style=\"width:50%\"><tr><td><b>metric</b></td>\n",
       "<td><b>threshold</b></td>\n",
       "<td><b>value</b></td>\n",
       "<td><b>idx</b></td></tr>\n",
       "<tr><td>max f1</td>\n",
       "<td>0.1422873</td>\n",
       "<td>0.2995054</td>\n",
       "<td>205.0</td></tr>\n",
       "<tr><td>max f2</td>\n",
       "<td>0.0716275</td>\n",
       "<td>0.4088962</td>\n",
       "<td>285.0</td></tr>\n",
       "<tr><td>max f0point5</td>\n",
       "<td>0.2486786</td>\n",
       "<td>0.2939984</td>\n",
       "<td>133.0</td></tr>\n",
       "<tr><td>max accuracy</td>\n",
       "<td>0.5337540</td>\n",
       "<td>0.9216219</td>\n",
       "<td>34.0</td></tr>\n",
       "<tr><td>max precision</td>\n",
       "<td>0.8853415</td>\n",
       "<td>1.0</td>\n",
       "<td>0.0</td></tr>\n",
       "<tr><td>max recall</td>\n",
       "<td>0.0075234</td>\n",
       "<td>1.0</td>\n",
       "<td>398.0</td></tr>\n",
       "<tr><td>max specificity</td>\n",
       "<td>0.8853415</td>\n",
       "<td>1.0</td>\n",
       "<td>0.0</td></tr>\n",
       "<tr><td>max absolute_mcc</td>\n",
       "<td>0.1375667</td>\n",
       "<td>0.2327016</td>\n",
       "<td>209.0</td></tr>\n",
       "<tr><td>max min_per_class_accuracy</td>\n",
       "<td>0.0738544</td>\n",
       "<td>0.6816068</td>\n",
       "<td>282.0</td></tr>\n",
       "<tr><td>max mean_per_class_accuracy</td>\n",
       "<td>0.0716275</td>\n",
       "<td>0.6848480</td>\n",
       "<td>285.0</td></tr></table></div>"
      ],
      "text/plain": [
       "metric                       threshold    value     idx\n",
       "---------------------------  -----------  --------  -----\n",
       "max f1                       0.142287     0.299505  205\n",
       "max f2                       0.0716275    0.408896  285\n",
       "max f0point5                 0.248679     0.293998  133\n",
       "max accuracy                 0.533754     0.921622  34\n",
       "max precision                0.885341     1         0\n",
       "max recall                   0.00752337   1         398\n",
       "max specificity              0.885341     1         0\n",
       "max absolute_mcc             0.137567     0.232702  209\n",
       "max min_per_class_accuracy   0.0738544    0.681607  282\n",
       "max mean_per_class_accuracy  0.0716275    0.684848  285"
      ]
     },
     "metadata": {},
     "output_type": "display_data"
    },
    {
     "name": "stdout",
     "output_type": "stream",
     "text": [
      "Gains/Lift Table: Avg response rate:  7.88 %\n",
      "\n"
     ]
    },
    {
     "data": {
      "text/html": [
       "<div style=\"overflow:auto\"><table style=\"width:50%\"><tr><td><b></b></td>\n",
       "<td><b>group</b></td>\n",
       "<td><b>cumulative_data_fraction</b></td>\n",
       "<td><b>lower_threshold</b></td>\n",
       "<td><b>lift</b></td>\n",
       "<td><b>cumulative_lift</b></td>\n",
       "<td><b>response_rate</b></td>\n",
       "<td><b>cumulative_response_rate</b></td>\n",
       "<td><b>capture_rate</b></td>\n",
       "<td><b>cumulative_capture_rate</b></td>\n",
       "<td><b>gain</b></td>\n",
       "<td><b>cumulative_gain</b></td></tr>\n",
       "<tr><td></td>\n",
       "<td>1</td>\n",
       "<td>0.0100011</td>\n",
       "<td>0.4097268</td>\n",
       "<td>5.5426959</td>\n",
       "<td>5.5426959</td>\n",
       "<td>0.4369565</td>\n",
       "<td>0.4369565</td>\n",
       "<td>0.0554330</td>\n",
       "<td>0.0554330</td>\n",
       "<td>454.2695868</td>\n",
       "<td>454.2695868</td></tr>\n",
       "<tr><td></td>\n",
       "<td>2</td>\n",
       "<td>0.0200022</td>\n",
       "<td>0.3389524</td>\n",
       "<td>4.2742182</td>\n",
       "<td>4.9084570</td>\n",
       "<td>0.3369565</td>\n",
       "<td>0.3869565</td>\n",
       "<td>0.0427468</td>\n",
       "<td>0.0981798</td>\n",
       "<td>327.4218207</td>\n",
       "<td>390.8457037</td></tr>\n",
       "<tr><td></td>\n",
       "<td>3</td>\n",
       "<td>0.0300033</td>\n",
       "<td>0.2946521</td>\n",
       "<td>3.8605842</td>\n",
       "<td>4.5591661</td>\n",
       "<td>0.3043478</td>\n",
       "<td>0.3594203</td>\n",
       "<td>0.0386100</td>\n",
       "<td>0.1367899</td>\n",
       "<td>286.0584187</td>\n",
       "<td>355.9166087</td></tr>\n",
       "<tr><td></td>\n",
       "<td>4</td>\n",
       "<td>0.0400043</td>\n",
       "<td>0.2647905</td>\n",
       "<td>3.6399794</td>\n",
       "<td>4.3293694</td>\n",
       "<td>0.2869565</td>\n",
       "<td>0.3413043</td>\n",
       "<td>0.0364038</td>\n",
       "<td>0.1731936</td>\n",
       "<td>263.9979376</td>\n",
       "<td>332.9369409</td></tr>\n",
       "<tr><td></td>\n",
       "<td>5</td>\n",
       "<td>0.0500054</td>\n",
       "<td>0.2411607</td>\n",
       "<td>3.3090722</td>\n",
       "<td>4.1253100</td>\n",
       "<td>0.2608696</td>\n",
       "<td>0.3252174</td>\n",
       "<td>0.0330943</td>\n",
       "<td>0.2062879</td>\n",
       "<td>230.9072160</td>\n",
       "<td>312.5309959</td></tr>\n",
       "<tr><td></td>\n",
       "<td>6</td>\n",
       "<td>0.1000109</td>\n",
       "<td>0.1731914</td>\n",
       "<td>2.5093797</td>\n",
       "<td>3.3173448</td>\n",
       "<td>0.1978261</td>\n",
       "<td>0.2615217</td>\n",
       "<td>0.1254826</td>\n",
       "<td>0.3317705</td>\n",
       "<td>150.9379721</td>\n",
       "<td>231.7344840</td></tr>\n",
       "<tr><td></td>\n",
       "<td>7</td>\n",
       "<td>0.1500163</td>\n",
       "<td>0.1363343</td>\n",
       "<td>2.0461096</td>\n",
       "<td>2.8935998</td>\n",
       "<td>0.1613043</td>\n",
       "<td>0.2281159</td>\n",
       "<td>0.1023166</td>\n",
       "<td>0.4340871</td>\n",
       "<td>104.6109619</td>\n",
       "<td>189.3599767</td></tr>\n",
       "<tr><td></td>\n",
       "<td>8</td>\n",
       "<td>0.2</td>\n",
       "<td>0.1128521</td>\n",
       "<td>1.5007652</td>\n",
       "<td>2.5455047</td>\n",
       "<td>0.1183123</td>\n",
       "<td>0.2006740</td>\n",
       "<td>0.0750138</td>\n",
       "<td>0.5091009</td>\n",
       "<td>50.0765219</td>\n",
       "<td>154.5504688</td></tr>\n",
       "<tr><td></td>\n",
       "<td>9</td>\n",
       "<td>0.3000109</td>\n",
       "<td>0.0831724</td>\n",
       "<td>1.2684777</td>\n",
       "<td>2.1197982</td>\n",
       "<td>0.1</td>\n",
       "<td>0.1671136</td>\n",
       "<td>0.1268616</td>\n",
       "<td>0.6359625</td>\n",
       "<td>26.8477661</td>\n",
       "<td>111.9798164</td></tr>\n",
       "<tr><td></td>\n",
       "<td>10</td>\n",
       "<td>0.4</td>\n",
       "<td>0.0648016</td>\n",
       "<td>0.9846630</td>\n",
       "<td>1.8360452</td>\n",
       "<td>0.0776256</td>\n",
       "<td>0.1447440</td>\n",
       "<td>0.0984556</td>\n",
       "<td>0.7344181</td>\n",
       "<td>-1.5336975</td>\n",
       "<td>83.6045229</td></tr>\n",
       "<tr><td></td>\n",
       "<td>11</td>\n",
       "<td>0.5000109</td>\n",
       "<td>0.0517608</td>\n",
       "<td>0.8355407</td>\n",
       "<td>1.6359269</td>\n",
       "<td>0.0658696</td>\n",
       "<td>0.1289677</td>\n",
       "<td>0.0835632</td>\n",
       "<td>0.8179812</td>\n",
       "<td>-16.4459280</td>\n",
       "<td>63.5926926</td></tr>\n",
       "<tr><td></td>\n",
       "<td>12</td>\n",
       "<td>0.6</td>\n",
       "<td>0.0418493</td>\n",
       "<td>0.6757491</td>\n",
       "<td>1.4759147</td>\n",
       "<td>0.0532725</td>\n",
       "<td>0.1163532</td>\n",
       "<td>0.0675676</td>\n",
       "<td>0.8855488</td>\n",
       "<td>-32.4250865</td>\n",
       "<td>47.5914690</td></tr>\n",
       "<tr><td></td>\n",
       "<td>13</td>\n",
       "<td>0.6999891</td>\n",
       "<td>0.0341688</td>\n",
       "<td>0.4468219</td>\n",
       "<td>1.3289151</td>\n",
       "<td>0.0352250</td>\n",
       "<td>0.1047646</td>\n",
       "<td>0.0446773</td>\n",
       "<td>0.9302261</td>\n",
       "<td>-55.3178123</td>\n",
       "<td>32.8915130</td></tr>\n",
       "<tr><td></td>\n",
       "<td>14</td>\n",
       "<td>0.8</td>\n",
       "<td>0.0276123</td>\n",
       "<td>0.3309072</td>\n",
       "<td>1.2041506</td>\n",
       "<td>0.0260870</td>\n",
       "<td>0.0949288</td>\n",
       "<td>0.0330943</td>\n",
       "<td>0.9633205</td>\n",
       "<td>-66.9092784</td>\n",
       "<td>20.4150579</td></tr>\n",
       "<tr><td></td>\n",
       "<td>15</td>\n",
       "<td>0.8999891</td>\n",
       "<td>0.0210780</td>\n",
       "<td>0.2344436</td>\n",
       "<td>1.0964158</td>\n",
       "<td>0.0184823</td>\n",
       "<td>0.0864356</td>\n",
       "<td>0.0234418</td>\n",
       "<td>0.9867623</td>\n",
       "<td>-76.5556423</td>\n",
       "<td>9.6415768</td></tr>\n",
       "<tr><td></td>\n",
       "<td>16</td>\n",
       "<td>1.0</td>\n",
       "<td>0.0032064</td>\n",
       "<td>0.1323629</td>\n",
       "<td>1.0</td>\n",
       "<td>0.0104348</td>\n",
       "<td>0.0788347</td>\n",
       "<td>0.0132377</td>\n",
       "<td>1.0</td>\n",
       "<td>-86.7637114</td>\n",
       "<td>0.0</td></tr></table></div>"
      ],
      "text/plain": [
       "    group    cumulative_data_fraction    lower_threshold    lift      cumulative_lift    response_rate    cumulative_response_rate    capture_rate    cumulative_capture_rate    gain      cumulative_gain\n",
       "--  -------  --------------------------  -----------------  --------  -----------------  ---------------  --------------------------  --------------  -------------------------  --------  -----------------\n",
       "    1        0.0100011                   0.409727           5.5427    5.5427             0.436957         0.436957                    0.055433        0.055433                   454.27    454.27\n",
       "    2        0.0200022                   0.338952           4.27422   4.90846            0.336957         0.386957                    0.0427468       0.0981798                  327.422   390.846\n",
       "    3        0.0300033                   0.294652           3.86058   4.55917            0.304348         0.35942                     0.03861         0.13679                    286.058   355.917\n",
       "    4        0.0400043                   0.264791           3.63998   4.32937            0.286957         0.341304                    0.0364038       0.173194                   263.998   332.937\n",
       "    5        0.0500054                   0.241161           3.30907   4.12531            0.26087          0.325217                    0.0330943       0.206288                   230.907   312.531\n",
       "    6        0.100011                    0.173191           2.50938   3.31734            0.197826         0.261522                    0.125483        0.331771                   150.938   231.734\n",
       "    7        0.150016                    0.136334           2.04611   2.8936             0.161304         0.228116                    0.102317        0.434087                   104.611   189.36\n",
       "    8        0.2                         0.112852           1.50077   2.5455             0.118312         0.200674                    0.0750138       0.509101                   50.0765   154.55\n",
       "    9        0.300011                    0.0831724          1.26848   2.1198             0.1              0.167114                    0.126862        0.635962                   26.8478   111.98\n",
       "    10       0.4                         0.0648016          0.984663  1.83605            0.0776256        0.144744                    0.0984556       0.734418                   -1.5337   83.6045\n",
       "    11       0.500011                    0.0517608          0.835541  1.63593            0.0658696        0.128968                    0.0835632       0.817981                   -16.4459  63.5927\n",
       "    12       0.6                         0.0418493          0.675749  1.47591            0.0532725        0.116353                    0.0675676       0.885549                   -32.4251  47.5915\n",
       "    13       0.699989                    0.0341688          0.446822  1.32892            0.035225         0.104765                    0.0446773       0.930226                   -55.3178  32.8915\n",
       "    14       0.8                         0.0276123          0.330907  1.20415            0.026087         0.0949288                   0.0330943       0.96332                    -66.9093  20.4151\n",
       "    15       0.899989                    0.021078           0.234444  1.09642            0.0184823        0.0864356                   0.0234418       0.986762                   -76.5556  9.64158\n",
       "    16       1                           0.00320638         0.132363  1                  0.0104348        0.0788347                   0.0132377       1                          -86.7637  0"
      ]
     },
     "metadata": {},
     "output_type": "display_data"
    },
    {
     "name": "stdout",
     "output_type": "stream",
     "text": [
      "\n",
      "Scoring History: \n"
     ]
    },
    {
     "data": {
      "text/html": [
       "<div style=\"overflow:auto\"><table style=\"width:50%\"><tr><td><b></b></td>\n",
       "<td><b>timestamp</b></td>\n",
       "<td><b>duration</b></td>\n",
       "<td><b>number_of_trees</b></td>\n",
       "<td><b>training_rmse</b></td>\n",
       "<td><b>training_logloss</b></td>\n",
       "<td><b>training_auc</b></td>\n",
       "<td><b>training_lift</b></td>\n",
       "<td><b>training_classification_error</b></td>\n",
       "<td><b>validation_rmse</b></td>\n",
       "<td><b>validation_logloss</b></td>\n",
       "<td><b>validation_auc</b></td>\n",
       "<td><b>validation_lift</b></td>\n",
       "<td><b>validation_classification_error</b></td></tr>\n",
       "<tr><td></td>\n",
       "<td>2018-08-22 00:14:48</td>\n",
       "<td> 0.102 sec</td>\n",
       "<td>0.0</td>\n",
       "<td>0.2730547</td>\n",
       "<td>0.2815523</td>\n",
       "<td>0.5</td>\n",
       "<td>1.0</td>\n",
       "<td>0.9188569</td>\n",
       "<td>0.2694904</td>\n",
       "<td>0.2759500</td>\n",
       "<td>0.5</td>\n",
       "<td>1.0</td>\n",
       "<td>0.9211653</td></tr>\n",
       "<tr><td></td>\n",
       "<td>2018-08-22 00:15:02</td>\n",
       "<td>14.013 sec</td>\n",
       "<td>5.0</td>\n",
       "<td>0.2670104</td>\n",
       "<td>0.2636949</td>\n",
       "<td>0.7310287</td>\n",
       "<td>5.4840311</td>\n",
       "<td>0.1592734</td>\n",
       "<td>0.2644710</td>\n",
       "<td>0.2608105</td>\n",
       "<td>0.7151689</td>\n",
       "<td>4.4479087</td>\n",
       "<td>0.1863898</td></tr>\n",
       "<tr><td></td>\n",
       "<td>2018-08-22 00:15:09</td>\n",
       "<td>20.901 sec</td>\n",
       "<td>10.0</td>\n",
       "<td>0.2643354</td>\n",
       "<td>0.2568769</td>\n",
       "<td>0.7393102</td>\n",
       "<td>5.7743404</td>\n",
       "<td>0.1683858</td>\n",
       "<td>0.2624872</td>\n",
       "<td>0.2552707</td>\n",
       "<td>0.7231108</td>\n",
       "<td>4.6327010</td>\n",
       "<td>0.1656267</td></tr>\n",
       "<tr><td></td>\n",
       "<td>2018-08-22 00:15:18</td>\n",
       "<td>29.667 sec</td>\n",
       "<td>15.0</td>\n",
       "<td>0.2627520</td>\n",
       "<td>0.2528683</td>\n",
       "<td>0.7467191</td>\n",
       "<td>6.0391173</td>\n",
       "<td>0.1516883</td>\n",
       "<td>0.2614278</td>\n",
       "<td>0.2522259</td>\n",
       "<td>0.7292290</td>\n",
       "<td>4.7981546</td>\n",
       "<td>0.1791064</td></tr>\n",
       "<tr><td></td>\n",
       "<td>2018-08-22 00:15:26</td>\n",
       "<td>38.004 sec</td>\n",
       "<td>20.0</td>\n",
       "<td>0.2615522</td>\n",
       "<td>0.2499361</td>\n",
       "<td>0.7539273</td>\n",
       "<td>6.4050035</td>\n",
       "<td>0.1470463</td>\n",
       "<td>0.2607241</td>\n",
       "<td>0.2501629</td>\n",
       "<td>0.7348047</td>\n",
       "<td>4.9636082</td>\n",
       "<td>0.1679965</td></tr>\n",
       "<tr><td>---</td>\n",
       "<td>---</td>\n",
       "<td>---</td>\n",
       "<td>---</td>\n",
       "<td>---</td>\n",
       "<td>---</td>\n",
       "<td>---</td>\n",
       "<td>---</td>\n",
       "<td>---</td>\n",
       "<td>---</td>\n",
       "<td>---</td>\n",
       "<td>---</td>\n",
       "<td>---</td>\n",
       "<td>---</td></tr>\n",
       "<tr><td></td>\n",
       "<td>2018-08-22 00:17:10</td>\n",
       "<td> 2 min 21.503 sec</td>\n",
       "<td>90.0</td>\n",
       "<td>0.2549133</td>\n",
       "<td>0.2350387</td>\n",
       "<td>0.7942031</td>\n",
       "<td>7.9433481</td>\n",
       "<td>0.1303395</td>\n",
       "<td>0.2585499</td>\n",
       "<td>0.2437929</td>\n",
       "<td>0.7540561</td>\n",
       "<td>5.6805739</td>\n",
       "<td>0.1517991</td></tr>\n",
       "<tr><td></td>\n",
       "<td>2018-08-22 00:17:17</td>\n",
       "<td> 2 min 28.284 sec</td>\n",
       "<td>95.0</td>\n",
       "<td>0.2546005</td>\n",
       "<td>0.2344029</td>\n",
       "<td>0.7957665</td>\n",
       "<td>7.9776606</td>\n",
       "<td>0.1349166</td>\n",
       "<td>0.2585318</td>\n",
       "<td>0.2437242</td>\n",
       "<td>0.7543213</td>\n",
       "<td>5.6254227</td>\n",
       "<td>0.1631047</td></tr>\n",
       "<tr><td></td>\n",
       "<td>2018-08-22 00:17:24</td>\n",
       "<td> 2 min 36.097 sec</td>\n",
       "<td>100.0</td>\n",
       "<td>0.2542982</td>\n",
       "<td>0.2338292</td>\n",
       "<td>0.7971228</td>\n",
       "<td>8.1263482</td>\n",
       "<td>0.1235853</td>\n",
       "<td>0.2585099</td>\n",
       "<td>0.2436633</td>\n",
       "<td>0.7544809</td>\n",
       "<td>5.5978471</td>\n",
       "<td>0.1614741</td></tr>\n",
       "<tr><td></td>\n",
       "<td>2018-08-22 00:17:31</td>\n",
       "<td> 2 min 42.806 sec</td>\n",
       "<td>105.0</td>\n",
       "<td>0.2540487</td>\n",
       "<td>0.2332771</td>\n",
       "<td>0.7986804</td>\n",
       "<td>8.1549420</td>\n",
       "<td>0.1306320</td>\n",
       "<td>0.2585116</td>\n",
       "<td>0.2436652</td>\n",
       "<td>0.7543769</td>\n",
       "<td>5.5702715</td>\n",
       "<td>0.1575171</td></tr>\n",
       "<tr><td></td>\n",
       "<td>2018-08-22 00:17:39</td>\n",
       "<td> 2 min 50.855 sec</td>\n",
       "<td>110.0</td>\n",
       "<td>0.2538176</td>\n",
       "<td>0.2328015</td>\n",
       "<td>0.7999374</td>\n",
       "<td>8.2578796</td>\n",
       "<td>0.1287566</td>\n",
       "<td>0.2585245</td>\n",
       "<td>0.2436931</td>\n",
       "<td>0.7540876</td>\n",
       "<td>5.5426959</td>\n",
       "<td>0.1539733</td></tr></table></div>"
      ],
      "text/plain": [
       "     timestamp            duration          number_of_trees    training_rmse        training_logloss     training_auc        training_lift      training_classification_error    validation_rmse      validation_logloss    validation_auc      validation_lift     validation_classification_error\n",
       "---  -------------------  ----------------  -----------------  -------------------  -------------------  ------------------  -----------------  -------------------------------  -------------------  --------------------  ------------------  ------------------  ---------------------------------\n",
       "     2018-08-22 00:14:48  0.102 sec         0.0                0.27305468821967854  0.2815522799731723   0.5                 1.0                0.9188569412594814               0.2694904111226097   0.2759499786953879    0.5                 1.0                 0.9211653440591369\n",
       "     2018-08-22 00:15:02  14.013 sec        5.0                0.2670104136595619   0.2636948798711568   0.7310287005171082  5.484031072567473  0.15927342611246761              0.2644709678781499   0.26081050473497175   0.715168868652042   4.44790868260256    0.1863898249809762\n",
       "     2018-08-22 00:15:09  20.901 sec        10.0               0.2643354193085262   0.2568768613290531   0.7393102032211224  5.774340385311508  0.1683857730408222               0.262487215208422    0.25527066699992246   0.7231107748399703  4.632701024005372   0.16562669855419068\n",
       "     2018-08-22 00:15:18  29.667 sec        15.0               0.262751979622787    0.2528683235200471   0.7467190931585327  6.039117332849569  0.15168831409976696              0.26142775007941266  0.2522258733206962    0.7292289583764483  4.798154632005563   0.1791064246113708\n",
       "     2018-08-22 00:15:26  38.004 sec        20.0               0.26155223326874244  0.24993613968994013  0.7539273162605221  6.40500353071724   0.1470462626844055               0.2607241172356138   0.2501629178173179    0.7348046567000451  4.9636082400057555  0.1679965213610175\n",
       "---  ---                  ---               ---                ---                  ---                  ---                 ---                ---                              ---                  ---                   ---                 ---                 ---\n",
       "     2018-08-22 00:17:10  2 min 21.503 sec  90.0               0.2549133423530286   0.23503870660446008  0.7942031324121549  7.943348128719863  0.13033951964051954              0.25854994015053856  0.24379286249045082   0.7540560862093114  5.680573874673254   0.15179910859876072\n",
       "     2018-08-22 00:17:17  2 min 28.284 sec  95.0               0.25460046763399813  0.23440293477598298  0.7957664844649615  7.97766064763442   0.13491658233606596              0.2585318199884648   0.24372419684076918   0.7543213176197872  5.625422672006523   0.16310468529187955\n",
       "     2018-08-22 00:17:24  2 min 36.097 sec  100.0              0.25429824153198355  0.2338292478643258   0.7971228171292208  8.126348229597498  0.12358533483116858              0.25850987394654656  0.24366331240306238   0.7544809348882745  5.597847070673158   0.16147407326883356\n",
       "     2018-08-22 00:17:31  2 min 42.806 sec  105.0              0.2540486572779327   0.23327706770135964  0.7986803995724703  8.154941995359628  0.1306319688796873               0.25851164489441714  0.24366519936940959   0.7543769187415317  5.570271469339792   0.157517121426242\n",
       "     2018-08-22 00:17:39  2 min 50.855 sec  110.0              0.2538175978349423   0.23280150116037931  0.7999374266291674  8.257879552103299  0.12875658010788127              0.25852447566778236  0.24369310993266702   0.7540876262743328  5.542695868006427   0.15397325796282205"
      ]
     },
     "metadata": {},
     "output_type": "display_data"
    },
    {
     "name": "stdout",
     "output_type": "stream",
     "text": [
      "\n",
      "See the whole table with table.as_data_frame()\n",
      "Variable Importances: \n"
     ]
    },
    {
     "data": {
      "text/html": [
       "<div style=\"overflow:auto\"><table style=\"width:50%\"><tr><td><b>variable</b></td>\n",
       "<td><b>relative_importance</b></td>\n",
       "<td><b>scaled_importance</b></td>\n",
       "<td><b>percentage</b></td></tr>\n",
       "<tr><td>EXT_SOURCE_3</td>\n",
       "<td>2560.1640625</td>\n",
       "<td>1.0</td>\n",
       "<td>0.2585069</td></tr>\n",
       "<tr><td>EXT_SOURCE_2</td>\n",
       "<td>2280.7536621</td>\n",
       "<td>0.8908623</td>\n",
       "<td>0.2302941</td></tr>\n",
       "<tr><td>ORGANIZATION_TYPE</td>\n",
       "<td>1463.9012451</td>\n",
       "<td>0.5717998</td>\n",
       "<td>0.1478142</td></tr>\n",
       "<tr><td>EXT_SOURCE_1</td>\n",
       "<td>777.8157959</td>\n",
       "<td>0.3038148</td>\n",
       "<td>0.0785382</td></tr>\n",
       "<tr><td>OCCUPATION_TYPE</td>\n",
       "<td>408.5943298</td>\n",
       "<td>0.1595969</td>\n",
       "<td>0.0412569</td></tr>\n",
       "<tr><td>---</td>\n",
       "<td>---</td>\n",
       "<td>---</td>\n",
       "<td>---</td></tr>\n",
       "<tr><td>FLAG_DOCUMENT_17</td>\n",
       "<td>0.0</td>\n",
       "<td>0.0</td>\n",
       "<td>0.0</td></tr>\n",
       "<tr><td>FLAG_DOCUMENT_19</td>\n",
       "<td>0.0</td>\n",
       "<td>0.0</td>\n",
       "<td>0.0</td></tr>\n",
       "<tr><td>FLAG_DOCUMENT_20</td>\n",
       "<td>0.0</td>\n",
       "<td>0.0</td>\n",
       "<td>0.0</td></tr>\n",
       "<tr><td>FLAG_DOCUMENT_21</td>\n",
       "<td>0.0</td>\n",
       "<td>0.0</td>\n",
       "<td>0.0</td></tr>\n",
       "<tr><td>AMT_REQ_CREDIT_BUREAU_HOUR</td>\n",
       "<td>0.0</td>\n",
       "<td>0.0</td>\n",
       "<td>0.0</td></tr></table></div>"
      ],
      "text/plain": [
       "variable                    relative_importance    scaled_importance    percentage\n",
       "--------------------------  ---------------------  -------------------  -------------------\n",
       "EXT_SOURCE_3                2560.1640625           1.0                  0.2585069155941196\n",
       "EXT_SOURCE_2                2280.753662109375      0.8908623066453871   0.23029406710996175\n",
       "ORGANIZATION_TYPE           1463.9012451171875     0.5717997789906042   0.14781419720426037\n",
       "EXT_SOURCE_1                777.8157958984375      0.30381482471826454  0.07853823324968663\n",
       "OCCUPATION_TYPE             408.5943298339844      0.15959693201653335  0.04125691063387843\n",
       "---                         ---                    ---                  ---\n",
       "FLAG_DOCUMENT_17            0.0                    0.0                  0.0\n",
       "FLAG_DOCUMENT_19            0.0                    0.0                  0.0\n",
       "FLAG_DOCUMENT_20            0.0                    0.0                  0.0\n",
       "FLAG_DOCUMENT_21            0.0                    0.0                  0.0\n",
       "AMT_REQ_CREDIT_BUREAU_HOUR  0.0                    0.0                  0.0"
      ]
     },
     "metadata": {},
     "output_type": "display_data"
    },
    {
     "name": "stdout",
     "output_type": "stream",
     "text": [
      "\n",
      "See the whole table with table.as_data_frame()\n",
      "\n"
     ]
    }
   ],
   "source": [
    "print(gbm_fit3)"
   ]
  },
  {
   "cell_type": "code",
   "execution_count": 27,
   "metadata": {},
   "outputs": [
    {
     "data": {
      "image/png": "[encoded data removed]",
      "text/plain": [
       "<matplotlib.figure.Figure at 0xe0a0a17898>"
      ]
     },
     "metadata": {},
     "output_type": "display_data"
    }
   ],
   "source": [
    "gbm_fit3.varimp_plot()"
   ]
  },
  {
   "cell_type": "code",
   "execution_count": 39,
   "metadata": {},
   "outputs": [],
   "source": [
    "gbm_perf1 = gbm_fit1.model_performance(test)\n",
    "gbm_perf2 = gbm_fit2.model_performance(test)\n",
    "gbm_perf3 = gbm_fit3.model_performance(test)"
   ]
  },
  {
   "cell_type": "code",
   "execution_count": 41,
   "metadata": {},
   "outputs": [
    {
     "name": "stdout",
     "output_type": "stream",
     "text": [
      "0.7404721667654182\n",
      "0.7439255358555008\n",
      "0.7446497670814228\n"
     ]
    }
   ],
   "source": [
    "print (gbm_perf1.auc())\n",
    "print (gbm_perf2.auc())\n",
    "print (gbm_perf3.auc())"
   ]
  },
  {
   "cell_type": "code",
   "execution_count": 42,
   "metadata": {},
   "outputs": [],
   "source": [
    "from h2o.estimators.deeplearning import H2ODeepLearningEstimator"
   ]
  },
  {
   "cell_type": "code",
   "execution_count": 43,
   "metadata": {},
   "outputs": [
    {
     "name": "stdout",
     "output_type": "stream",
     "text": [
      "deeplearning Model Build progress: |██████████████████████████████████████| 100%\n"
     ]
    }
   ],
   "source": [
    "dl_fit1 = H2ODeepLearningEstimator(model_id='dl_fit1', seed=1)\n",
    "dl_fit1.train(x=x, y=y, training_frame=train)"
   ]
  },
  {
   "cell_type": "code",
   "execution_count": 44,
   "metadata": {},
   "outputs": [
    {
     "name": "stdout",
     "output_type": "stream",
     "text": [
      "deeplearning Model Build progress: |██████████████████████████████████████| 100%\n"
     ]
    }
   ],
   "source": [
    "dl_fit2 = H2ODeepLearningEstimator(model_id='dl_fit2', \n",
    "                                   epochs=20, \n",
    "                                   hidden=[10,10],\n",
    "                                   score_interval=1,          #used for early stopping\n",
    "                                   stopping_rounds=3,         #used for early stopping\n",
    "                                   stopping_metric='AUC',     #used for early stopping\n",
    "                                   stopping_tolerance=0.0005, #used for early stopping\n",
    "                                   seed=1)\n",
    "dl_fit2.train(x=x, y=y, training_frame=train, validation_frame=valid)"
   ]
  },
  {
   "cell_type": "code",
   "execution_count": 45,
   "metadata": {},
   "outputs": [],
   "source": [
    "dl_perf1 = dl_fit1.model_performance(test)\n",
    "dl_perf2 = dl_fit2.model_performance(test)"
   ]
  },
  {
   "cell_type": "code",
   "execution_count": 47,
   "metadata": {},
   "outputs": [
    {
     "name": "stdout",
     "output_type": "stream",
     "text": [
      "0.6775445392828503\n",
      "0.6993890672231649\n"
     ]
    }
   ],
   "source": [
    "print (dl_perf1.auc())\n",
    "print (dl_perf2.auc())"
   ]
  },
  {
   "cell_type": "code",
   "execution_count": 54,
   "metadata": {},
   "outputs": [],
   "source": [
    "# Import H2O Grid Search:\n",
    "from h2o.grid.grid_search import H2OGridSearch\n",
    "\n",
    "# Import H2O GBM:\n",
    "from h2o.estimators.gbm import H2OGradientBoostingEstimator"
   ]
  },
  {
   "cell_type": "code",
   "execution_count": 58,
   "metadata": {},
   "outputs": [],
   "source": [
    "gbm_params2 = {'learn_rate': [i * 0.01 for i in range(1, 11)], \n",
    "                'max_depth': list(range(2, 11)),\n",
    "                'sample_rate': [i * 0.1 for i in range(5, 11)],\n",
    "                'col_sample_rate': [i * 0.1 for i in range(1, 11)]}\n",
    "\n",
    "# Search criteria\n",
    "search_criteria2 = {'strategy': 'RandomDiscrete', 'max_models': 36}"
   ]
  },
  {
   "cell_type": "code",
   "execution_count": 59,
   "metadata": {},
   "outputs": [
    {
     "name": "stdout",
     "output_type": "stream",
     "text": [
      "gbm Grid Build progress: |████████████████████████████████████████████████| 100%\n"
     ]
    }
   ],
   "source": [
    "gbm_grid2 = H2OGridSearch(model=H2OGradientBoostingEstimator,\n",
    "                          grid_id='gbm_grid2',\n",
    "                          hyper_params=gbm_params2,\n",
    "                          search_criteria=search_criteria2)\n",
    "gbm_grid2.train(x=x, y=y, \n",
    "                training_frame=train, \n",
    "                validation_frame=valid, \n",
    "                ntrees=100,\n",
    "                seed=1)"
   ]
  },
  {
   "cell_type": "code",
   "execution_count": 60,
   "metadata": {},
   "outputs": [],
   "source": [
    "gbm_gridperf2 = gbm_grid2.get_grid(sort_by='auc', decreasing=True)"
   ]
  },
  {
   "cell_type": "code",
   "execution_count": 62,
   "metadata": {},
   "outputs": [
    {
     "name": "stdout",
     "output_type": "stream",
     "text": [
      "          col_sample_rate learn_rate max_depth         sample_rate  \\\n",
      "0      0.7000000000000001        0.1         5                 0.9   \n",
      "1                     0.4       0.08         5  0.6000000000000001   \n",
      "2                     1.0       0.09         7                 0.9   \n",
      "3                     0.8       0.07         4                 0.8   \n",
      "4                     0.4       0.08         4                 0.8   \n",
      "5                     0.2       0.05         7                 0.5   \n",
      "6                     0.2       0.06         5                 0.5   \n",
      "7                     0.1       0.04         9  0.6000000000000001   \n",
      "8                     0.4       0.04         7                 0.9   \n",
      "9                     0.1       0.07         4                 1.0   \n",
      "10                    0.1       0.09         8  0.7000000000000001   \n",
      "11                    0.1       0.08         3  0.7000000000000001   \n",
      "12                    0.1       0.04        10                 0.8   \n",
      "13                    0.8       0.04         5  0.7000000000000001   \n",
      "14                    0.1       0.07         9  0.6000000000000001   \n",
      "15                    0.5       0.07         9                 0.9   \n",
      "16                    0.9       0.04         5  0.7000000000000001   \n",
      "17                    0.8       0.04         9  0.6000000000000001   \n",
      "18                    0.1       0.07         3  0.7000000000000001   \n",
      "19    0.30000000000000004       0.02         9  0.7000000000000001   \n",
      "20                    0.9       0.03         6                 0.9   \n",
      "21                    0.2       0.08        10                 0.9   \n",
      "22                    0.2       0.02         7                 0.8   \n",
      "23                    1.0       0.08         2                 0.8   \n",
      "24                    1.0       0.06        10                 0.9   \n",
      "25                    0.4       0.07         9                 0.5   \n",
      "26     0.6000000000000001       0.09         9  0.6000000000000001   \n",
      "27                    0.2       0.07         2                 0.8   \n",
      "28     0.7000000000000001       0.07         2  0.7000000000000001   \n",
      "29                    0.5       0.09        10  0.6000000000000001   \n",
      "30                    0.4       0.03         4                 0.9   \n",
      "31                    0.5       0.06         2                 0.8   \n",
      "32     0.7000000000000001       0.06         2                 0.8   \n",
      "33     0.6000000000000001       0.02         6                 0.8   \n",
      "34                    0.5       0.01         8                 1.0   \n",
      "35                    1.0       0.02         5  0.6000000000000001   \n",
      "\n",
      "             model_ids                 auc  \n",
      "0   gbm_grid2_model_25  0.7535687009139634  \n",
      "1   gbm_grid2_model_18  0.7510845538404434  \n",
      "2   gbm_grid2_model_14  0.7510759845502565  \n",
      "3   gbm_grid2_model_28  0.7508063529573528  \n",
      "4    gbm_grid2_model_4  0.7500357514822269  \n",
      "5   gbm_grid2_model_27    0.74953068734742  \n",
      "6   gbm_grid2_model_19  0.7492306287533931  \n",
      "7   gbm_grid2_model_16   0.749225672039016  \n",
      "8   gbm_grid2_model_31  0.7490799257598096  \n",
      "9   gbm_grid2_model_17  0.7485600370458909  \n",
      "10  gbm_grid2_model_30  0.7480578532080135  \n",
      "11  gbm_grid2_model_20  0.7474407080950612  \n",
      "12   gbm_grid2_model_9  0.7471680888043256  \n",
      "13   gbm_grid2_model_7  0.7470087253925168  \n",
      "14  gbm_grid2_model_29   0.746848392118013  \n",
      "15  gbm_grid2_model_34  0.7463083608530245  \n",
      "16   gbm_grid2_model_5  0.7462679455679728  \n",
      "17  gbm_grid2_model_26  0.7461829393809649  \n",
      "18  gbm_grid2_model_22  0.7456927746804443  \n",
      "19   gbm_grid2_model_2   0.745051565256196  \n",
      "20   gbm_grid2_model_3  0.7449181472987625  \n",
      "21  gbm_grid2_model_11   0.744760388391345  \n",
      "22  gbm_grid2_model_35  0.7445549760289648  \n",
      "23  gbm_grid2_model_15  0.7436074755037744  \n",
      "24  gbm_grid2_model_23  0.7433530330021363  \n",
      "25  gbm_grid2_model_13  0.7431133206969989  \n",
      "26   gbm_grid2_model_8   0.742135741409975  \n",
      "27   gbm_grid2_model_6  0.7420560889952258  \n",
      "28  gbm_grid2_model_32  0.7413298538565327  \n",
      "29  gbm_grid2_model_21  0.7395811686355985  \n",
      "30   gbm_grid2_model_1  0.7389163570493923  \n",
      "31  gbm_grid2_model_10  0.7388482518589436  \n",
      "32  gbm_grid2_model_33  0.7388143392103498  \n",
      "33  gbm_grid2_model_24  0.7383574492621539  \n",
      "34  gbm_grid2_model_12  0.7355627736339038  \n",
      "35   gbm_grid2_model_0  0.7343948799477269  \n",
      "\n"
     ]
    }
   ],
   "source": [
    "print (gbm_gridperf2)"
   ]
  },
  {
   "cell_type": "code",
   "execution_count": 63,
   "metadata": {},
   "outputs": [],
   "source": [
    "best_gbm_model = gbm_gridperf2.models[0]"
   ]
  },
  {
   "cell_type": "code",
   "execution_count": 65,
   "metadata": {},
   "outputs": [
    {
     "name": "stdout",
     "output_type": "stream",
     "text": [
      "0.7448865992301353\n"
     ]
    }
   ],
   "source": [
    "gbm_perf = best_gbm_model.model_performance(test)\n",
    "print (gbm_perf.auc())"
   ]
  },
  {
   "cell_type": "code",
   "execution_count": 10,
   "metadata": {},
   "outputs": [],
   "source": [
    "from h2o.automl import H2OAutoML"
   ]
  },
  {
   "cell_type": "code",
   "execution_count": 11,
   "metadata": {},
   "outputs": [
    {
     "name": "stdout",
     "output_type": "stream",
     "text": [
      "AutoML progress: |████████████████████████████████████████████████████████| 100%\n",
      "Parse progress: |█████████████████████████████████████████████████████████| 100%\n"
     ]
    }
   ],
   "source": [
    "aml = H2OAutoML(max_models = 10,max_runtime_secs=100, seed = 1)\n",
    "aml.train(x = x, y = y, training_frame = train,validation_frame=valid)"
   ]
  },
  {
   "cell_type": "code",
   "execution_count": 12,
   "metadata": {},
   "outputs": [],
   "source": [
    "lb = aml.leaderboard"
   ]
  },
  {
   "cell_type": "code",
   "execution_count": 13,
   "metadata": {},
   "outputs": [
    {
     "data": {
      "text/html": [
       "<table>\n",
       "<thead>\n",
       "<tr><th>model_id                                             </th><th style=\"text-align: right;\">     auc</th><th style=\"text-align: right;\">  logloss</th></tr>\n",
       "</thead>\n",
       "<tbody>\n",
       "<tr><td>DRF_0_AutoML_20180821_234135                         </td><td style=\"text-align: right;\">0.706639</td><td style=\"text-align: right;\"> 0.260443</td></tr>\n",
       "<tr><td>StackedEnsemble_AllModels_0_AutoML_20180821_234135   </td><td style=\"text-align: right;\">0.706581</td><td style=\"text-align: right;\"> 0.261037</td></tr>\n",
       "<tr><td>StackedEnsemble_BestOfFamily_0_AutoML_20180821_234135</td><td style=\"text-align: right;\">0.706581</td><td style=\"text-align: right;\"> 0.261037</td></tr>\n",
       "</tbody>\n",
       "</table>"
      ]
     },
     "metadata": {},
     "output_type": "display_data"
    },
    {
     "data": {
      "text/plain": []
     },
     "execution_count": 13,
     "metadata": {},
     "output_type": "execute_result"
    }
   ],
   "source": [
    "lb.head()"
   ]
  },
  {
   "cell_type": "code",
   "execution_count": 14,
   "metadata": {},
   "outputs": [
    {
     "data": {
      "text/html": [
       "<table>\n",
       "<thead>\n",
       "<tr><th>model_id                                             </th><th style=\"text-align: right;\">     auc</th><th style=\"text-align: right;\">  logloss</th></tr>\n",
       "</thead>\n",
       "<tbody>\n",
       "<tr><td>DRF_0_AutoML_20180821_234135                         </td><td style=\"text-align: right;\">0.706639</td><td style=\"text-align: right;\"> 0.260443</td></tr>\n",
       "<tr><td>StackedEnsemble_AllModels_0_AutoML_20180821_234135   </td><td style=\"text-align: right;\">0.706581</td><td style=\"text-align: right;\"> 0.261037</td></tr>\n",
       "<tr><td>StackedEnsemble_BestOfFamily_0_AutoML_20180821_234135</td><td style=\"text-align: right;\">0.706581</td><td style=\"text-align: right;\"> 0.261037</td></tr>\n",
       "</tbody>\n",
       "</table>"
      ]
     },
     "metadata": {},
     "output_type": "display_data"
    },
    {
     "data": {
      "text/plain": []
     },
     "execution_count": 14,
     "metadata": {},
     "output_type": "execute_result"
    }
   ],
   "source": [
    "lb.head(rows=lb.nrows)"
   ]
  },
  {
   "cell_type": "code",
   "execution_count": null,
   "metadata": {},
   "outputs": [],
   "source": []
  }
 ],
 "metadata": {
  "kernelspec": {
   "display_name": "Python 3",
   "language": "python",
   "name": "python3"
  },
  "language_info": {
   "codemirror_mode": {
    "name": "ipython",
    "version": 3
   },
   "file_extension": ".py",
   "mimetype": "text/x-python",
   "name": "python",
   "nbconvert_exporter": "python",
   "pygments_lexer": "ipython3",
   "version": "3.6.4"
  }
 },
 "nbformat": 4,
 "nbformat_minor": 2
}
